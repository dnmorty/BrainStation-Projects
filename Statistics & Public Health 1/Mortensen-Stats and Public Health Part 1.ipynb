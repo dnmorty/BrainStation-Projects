{
 "cells": [
  {
   "cell_type": "markdown",
   "id": "45849ba5-a842-4190-be69-bfdfcd242aea",
   "metadata": {},
   "source": [
    "# Stats and Public Health Part 1: Cleaning and EDA\n",
    "### Daniel Mortensen\n",
    "3-Aug-2021"
   ]
  },
  {
   "cell_type": "markdown",
   "id": "df69e0ba-70d5-4777-8093-d2f7d16838a3",
   "metadata": {},
   "source": [
    "## Introduction"
   ]
  },
  {
   "cell_type": "markdown",
   "id": "20efd596-051a-4963-8c81-b033a29c5fc9",
   "metadata": {},
   "source": [
    "Governments regularly track disease transimission in common animal carriers, such as rats and mosquitoes, in order to asses the risk of diseas outbreaks in human populations. One disease of concenr for the city of Chicago is the West Nile Virus (WNV), which is most commonly carried by mosquitoes. The Chicago city government has been collecting data on the transimission of WNV for more than a decade. Here, the data collected on WNV is analyzed in order to asses the quality of the data collection process as well as to provide information on which species of mosquito are most dangerous and which species are the most prevelant."
   ]
  },
  {
   "cell_type": "markdown",
   "id": "3bff24aa-8ef0-4d3e-8b37-0cadd17c6e4b",
   "metadata": {},
   "source": [
    "*Task Summary*\n",
    "1. Asses the provided data in terms of size, formating, data types, and any duplicated or missing values.\n",
    "5. Determine the relationship between month and mosquito activity / prevalence.\n",
    "29. Determine which mosquito species is most likely to carry the WNV.\n",
    "6. Determine which type of mosquito trap is the most effective.\n",
    "80231. Determine how mosquito populations are changing with time."
   ]
  },
  {
   "cell_type": "markdown",
   "id": "c4543fe2-4ecc-42b6-8ff6-f8d275c82a65",
   "metadata": {},
   "source": [
    "*Results Summary*  \n",
    "Overall, data collection efforts are excellent, though there is room for improvement. The dates are being recorded in a less than optimal format, some station data is not properly being recorded, and there are some duplicated data and missing data. However, sufficient data has been collected to determine that the species Culex Pipiens and Culex Restuans are both the most dangerous and most prevelant mosquito species in the area, and the population of Culex Restuans has been growing in recent years."
   ]
  },
  {
   "cell_type": "markdown",
   "id": "fd3a84be-84cb-49e4-bbcd-3d891f670c4d",
   "metadata": {},
   "source": [
    "## Methods"
   ]
  },
  {
   "cell_type": "markdown",
   "id": "6d9aa6fa-a0a7-4571-8e3c-08dac3ea3c04",
   "metadata": {},
   "source": [
    "Data were taken from the provided mosquito_data csv file, which contains tracking data for the years 2007 to 2019. All data were analyzed in this Jupyter Notebook, which is running on a Python 3 kernel."
   ]
  },
  {
   "cell_type": "markdown",
   "id": "ad89d814-2017-4814-9315-c12bbc70d1cb",
   "metadata": {},
   "source": [
    "The following libraries were imported for statistical analysis and data visualiztion under the given aliases:"
   ]
  },
  {
   "cell_type": "code",
   "execution_count": 54,
   "id": "63f02328-a0b3-473c-80e4-2c71a7677dad",
   "metadata": {},
   "outputs": [],
   "source": [
    "import numpy as np\n",
    "import pandas as pd\n",
    "import matplotlib.pyplot as plt\n",
    "import seaborn as sns"
   ]
  },
  {
   "cell_type": "markdown",
   "id": "1b6038ac-a760-4e5e-8ee4-574d412989ee",
   "metadata": {},
   "source": [
    "The mosquito_data csv file was imported as \"mosquito_df\":"
   ]
  },
  {
   "cell_type": "code",
   "execution_count": 55,
   "id": "c0cac983-793d-4d4d-8b31-5a16f43ab199",
   "metadata": {},
   "outputs": [],
   "source": [
    "mosquito_df = pd.read_csv('~/Unit 2/Stats and Public Health/mosquito_data.csv')"
   ]
  },
  {
   "cell_type": "markdown",
   "id": "bd88e9b0-720d-4b4a-9c3c-898675b4992f",
   "metadata": {},
   "source": [
    "## Results and Discussion"
   ]
  },
  {
   "cell_type": "markdown",
   "id": "3a768976-591c-4af8-a300-0cb872c13901",
   "metadata": {},
   "source": [
    "#### *Assessment of the collected data*"
   ]
  },
  {
   "cell_type": "markdown",
   "id": "8939bd78-573c-44c9-bbb0-ac052e829d15",
   "metadata": {},
   "source": [
    "The data is first assessed in terms of quantity by looking at the size of the data file provided and in terms of what data is actually collected."
   ]
  },
  {
   "cell_type": "code",
   "execution_count": 56,
   "id": "b79d5ebe-3f2b-4335-ba9b-a2582d86d206",
   "metadata": {},
   "outputs": [
    {
     "name": "stdout",
     "output_type": "stream",
     "text": [
      "The size of the data table is: (18495, 13)\n"
     ]
    },
    {
     "data": {
      "text/html": [
       "<div>\n",
       "<style scoped>\n",
       "    .dataframe tbody tr th:only-of-type {\n",
       "        vertical-align: middle;\n",
       "    }\n",
       "\n",
       "    .dataframe tbody tr th {\n",
       "        vertical-align: top;\n",
       "    }\n",
       "\n",
       "    .dataframe thead th {\n",
       "        text-align: right;\n",
       "    }\n",
       "</style>\n",
       "<table border=\"1\" class=\"dataframe\">\n",
       "  <thead>\n",
       "    <tr style=\"text-align: right;\">\n",
       "      <th></th>\n",
       "      <th>Year</th>\n",
       "      <th>Week</th>\n",
       "      <th>Address Block</th>\n",
       "      <th>Block</th>\n",
       "      <th>Trap</th>\n",
       "      <th>Trap type</th>\n",
       "      <th>Date</th>\n",
       "      <th>Mosquito number</th>\n",
       "      <th>Mosquito ID</th>\n",
       "      <th>WNV Present</th>\n",
       "      <th>Species</th>\n",
       "      <th>Lat</th>\n",
       "      <th>Lon</th>\n",
       "    </tr>\n",
       "  </thead>\n",
       "  <tbody>\n",
       "    <tr>\n",
       "      <th>0</th>\n",
       "      <td>2019</td>\n",
       "      <td>39</td>\n",
       "      <td>100XX W OHARE AIRPORT</td>\n",
       "      <td>100</td>\n",
       "      <td>T910</td>\n",
       "      <td>GRAVID</td>\n",
       "      <td>2019-09-26 00:09:00</td>\n",
       "      <td>2</td>\n",
       "      <td>Res</td>\n",
       "      <td>negative</td>\n",
       "      <td>CULEX RESTUANS</td>\n",
       "      <td>NaN</td>\n",
       "      <td>NaN</td>\n",
       "    </tr>\n",
       "    <tr>\n",
       "      <th>1</th>\n",
       "      <td>2019</td>\n",
       "      <td>39</td>\n",
       "      <td>52XX S KOLMAR AVE</td>\n",
       "      <td>52</td>\n",
       "      <td>T114</td>\n",
       "      <td>GRAVID</td>\n",
       "      <td>2019-09-26 00:09:00</td>\n",
       "      <td>1</td>\n",
       "      <td>Res</td>\n",
       "      <td>negative</td>\n",
       "      <td>CULEX RESTUANS</td>\n",
       "      <td>41.798211</td>\n",
       "      <td>-87.736925</td>\n",
       "    </tr>\n",
       "    <tr>\n",
       "      <th>2</th>\n",
       "      <td>2019</td>\n",
       "      <td>39</td>\n",
       "      <td>58XX N WESTERN AVE</td>\n",
       "      <td>58</td>\n",
       "      <td>T028</td>\n",
       "      <td>GRAVID</td>\n",
       "      <td>2019-09-26 00:09:00</td>\n",
       "      <td>2</td>\n",
       "      <td>Res</td>\n",
       "      <td>negative</td>\n",
       "      <td>CULEX RESTUANS</td>\n",
       "      <td>41.987245</td>\n",
       "      <td>-87.689417</td>\n",
       "    </tr>\n",
       "  </tbody>\n",
       "</table>\n",
       "</div>"
      ],
      "text/plain": [
       "   Year  Week          Address Block  Block  Trap Trap type  \\\n",
       "0  2019    39  100XX W OHARE AIRPORT    100  T910    GRAVID   \n",
       "1  2019    39      52XX S KOLMAR AVE     52  T114    GRAVID   \n",
       "2  2019    39     58XX N WESTERN AVE     58  T028    GRAVID   \n",
       "\n",
       "                  Date  Mosquito number Mosquito ID WNV Present  \\\n",
       "0  2019-09-26 00:09:00                2         Res    negative   \n",
       "1  2019-09-26 00:09:00                1         Res    negative   \n",
       "2  2019-09-26 00:09:00                2         Res    negative   \n",
       "\n",
       "          Species        Lat        Lon  \n",
       "0  CULEX RESTUANS        NaN        NaN  \n",
       "1  CULEX RESTUANS  41.798211 -87.736925  \n",
       "2  CULEX RESTUANS  41.987245 -87.689417  "
      ]
     },
     "metadata": {},
     "output_type": "display_data"
    }
   ],
   "source": [
    "print(f\"The size of the data table is: {mosquito_df.shape}\")\n",
    "display(mosquito_df.head(3))"
   ]
  },
  {
   "cell_type": "markdown",
   "id": "5299c84f-0d17-4e98-8820-7f876f4605de",
   "metadata": {},
   "source": [
    "Extensive data has been collected, representing an impressive effort on the part of the data collection team. This team has collected approxiamatly 18,495 mosquito samples over the past 13 years, and during most collection events has collected 13 unique pieces of information. This information includes both numerical and categorical data. For clarity in what these destinctions mean, I will describe two numerical columns (`Year`, and `Mosquito number`) and two categorical columns (`Trap type` and `Species`). The `Year` column is a numerical column that stores the year in which the trap was checked, and values in this column range from from 2007 to 2019. The `Mosquito number` column is another example of a numerical column, and in this column, the number of mosquitoes found in each trap is recorded. Values in this column range from 1 to 50, with an average of 11 and a standard deviation of 13. Since the standard deviation is larger than the average and the average is less than one standard deviation from zero, we can likely conclude that the distribution of the `Mosquito number` column is neither symetric nor normal.  \n",
    "  \n",
    "The categorical columns also contain a lot of useful information. For example, the `Trap type` column details which type of trap was used. In total, there were four types of traps used, but the GRAVID trap type is the most common, accounting for 95% of all traps. The `Species` column is another categorical column, which describes which species of mosquito was found in each trap. There were four species of mosquito discovered in these measurements, with the Culex Testuans being the most common species, comprising nearly two thirds of the present mosquitoes.   \n",
    "  \n",
    "Information about the columns described here was assertained using the following script:"
   ]
  },
  {
   "cell_type": "code",
   "execution_count": 57,
   "id": "f3343e1b-c248-4339-a9da-0ce09744d95f",
   "metadata": {},
   "outputs": [
    {
     "name": "stdout",
     "output_type": "stream",
     "text": [
      "Info about \"Year\" column\n",
      "2007\n",
      "2019\n",
      "\n",
      "\n",
      "Info about \"Mosquito number\" column:\n",
      "count    18495.000000\n",
      "mean        10.879913\n",
      "std         13.475066\n",
      "min          1.000000\n",
      "25%          2.000000\n",
      "50%          5.000000\n",
      "75%         14.000000\n",
      "max         50.000000\n",
      "Name: Mosquito number, dtype: float64\n",
      "\n",
      "\n",
      "Info about the \"Trap type\" and \"Species\" columns:\n",
      "       Trap type         Species\n",
      "count      18495           18495\n",
      "unique         4               4\n",
      "top       GRAVID  CULEX RESTUANS\n",
      "freq       17741           11866\n",
      "\n",
      "\n",
      "95.92322249256556\n",
      "64.15788050824547\n"
     ]
    }
   ],
   "source": [
    "# These lines of code are queries used to explore the data distribtutions. \n",
    "\n",
    "print(\"Info about \\\"Year\\\" column\")\n",
    "print(mosquito_df[\"Year\"].min())\n",
    "print(mosquito_df[\"Year\"].max())\n",
    "print(\"\\n\")\n",
    "\n",
    "print(\"Info about \\\"Mosquito number\\\" column:\")\n",
    "print(mosquito_df[\"Mosquito number\"].describe())\n",
    "print(\"\\n\")\n",
    "\n",
    "print(\"Info about the \\\"Trap type\\\" and \\\"Species\\\" columns:\")\n",
    "print(mosquito_df[[\"Trap type\", \"Species\"]].describe())\n",
    "print(\"\\n\")\n",
    "\n",
    "print(17741/18495*100)\n",
    "print(11866/18495*100)"
   ]
  },
  {
   "cell_type": "markdown",
   "id": "fac2d08b-f5e4-4246-9e45-38410bd1123b",
   "metadata": {},
   "source": [
    "#### *Issues / Errors in the data*"
   ]
  },
  {
   "cell_type": "markdown",
   "id": "0549c37e-7172-48e6-8eb1-1939043fa9aa",
   "metadata": {},
   "source": [
    "It should be noted that the dates in this data, specifically the \"Date\" column, is not formatted optimaly. This issue is corrected here using the \"to_datetime\" function:"
   ]
  },
  {
   "cell_type": "code",
   "execution_count": 58,
   "id": "29c52bba-4097-4927-bcb3-49ce0d08ca2b",
   "metadata": {},
   "outputs": [
    {
     "data": {
      "text/html": [
       "<div>\n",
       "<style scoped>\n",
       "    .dataframe tbody tr th:only-of-type {\n",
       "        vertical-align: middle;\n",
       "    }\n",
       "\n",
       "    .dataframe tbody tr th {\n",
       "        vertical-align: top;\n",
       "    }\n",
       "\n",
       "    .dataframe thead th {\n",
       "        text-align: right;\n",
       "    }\n",
       "</style>\n",
       "<table border=\"1\" class=\"dataframe\">\n",
       "  <thead>\n",
       "    <tr style=\"text-align: right;\">\n",
       "      <th></th>\n",
       "      <th>Year</th>\n",
       "      <th>Week</th>\n",
       "      <th>Address Block</th>\n",
       "      <th>Block</th>\n",
       "      <th>Trap</th>\n",
       "      <th>Trap type</th>\n",
       "      <th>Date</th>\n",
       "      <th>Mosquito number</th>\n",
       "      <th>Mosquito ID</th>\n",
       "      <th>WNV Present</th>\n",
       "      <th>Species</th>\n",
       "      <th>Lat</th>\n",
       "      <th>Lon</th>\n",
       "    </tr>\n",
       "  </thead>\n",
       "  <tbody>\n",
       "    <tr>\n",
       "      <th>0</th>\n",
       "      <td>2019</td>\n",
       "      <td>39</td>\n",
       "      <td>100XX W OHARE AIRPORT</td>\n",
       "      <td>100</td>\n",
       "      <td>T910</td>\n",
       "      <td>GRAVID</td>\n",
       "      <td>2019-09-26 00:09:00</td>\n",
       "      <td>2</td>\n",
       "      <td>Res</td>\n",
       "      <td>negative</td>\n",
       "      <td>CULEX RESTUANS</td>\n",
       "      <td>NaN</td>\n",
       "      <td>NaN</td>\n",
       "    </tr>\n",
       "    <tr>\n",
       "      <th>1</th>\n",
       "      <td>2019</td>\n",
       "      <td>39</td>\n",
       "      <td>52XX S KOLMAR AVE</td>\n",
       "      <td>52</td>\n",
       "      <td>T114</td>\n",
       "      <td>GRAVID</td>\n",
       "      <td>2019-09-26 00:09:00</td>\n",
       "      <td>1</td>\n",
       "      <td>Res</td>\n",
       "      <td>negative</td>\n",
       "      <td>CULEX RESTUANS</td>\n",
       "      <td>41.798211</td>\n",
       "      <td>-87.736925</td>\n",
       "    </tr>\n",
       "    <tr>\n",
       "      <th>2</th>\n",
       "      <td>2019</td>\n",
       "      <td>39</td>\n",
       "      <td>58XX N WESTERN AVE</td>\n",
       "      <td>58</td>\n",
       "      <td>T028</td>\n",
       "      <td>GRAVID</td>\n",
       "      <td>2019-09-26 00:09:00</td>\n",
       "      <td>2</td>\n",
       "      <td>Res</td>\n",
       "      <td>negative</td>\n",
       "      <td>CULEX RESTUANS</td>\n",
       "      <td>41.987245</td>\n",
       "      <td>-87.689417</td>\n",
       "    </tr>\n",
       "  </tbody>\n",
       "</table>\n",
       "</div>"
      ],
      "text/plain": [
       "   Year  Week          Address Block  Block  Trap Trap type  \\\n",
       "0  2019    39  100XX W OHARE AIRPORT    100  T910    GRAVID   \n",
       "1  2019    39      52XX S KOLMAR AVE     52  T114    GRAVID   \n",
       "2  2019    39     58XX N WESTERN AVE     58  T028    GRAVID   \n",
       "\n",
       "                 Date  Mosquito number Mosquito ID WNV Present  \\\n",
       "0 2019-09-26 00:09:00                2         Res    negative   \n",
       "1 2019-09-26 00:09:00                1         Res    negative   \n",
       "2 2019-09-26 00:09:00                2         Res    negative   \n",
       "\n",
       "          Species        Lat        Lon  \n",
       "0  CULEX RESTUANS        NaN        NaN  \n",
       "1  CULEX RESTUANS  41.798211 -87.736925  \n",
       "2  CULEX RESTUANS  41.987245 -87.689417  "
      ]
     },
     "metadata": {},
     "output_type": "display_data"
    }
   ],
   "source": [
    "mosquito_df[\"Date\"] = pd.to_datetime(mosquito_df[\"Date\"])\n",
    "display(mosquito_df.head(3))"
   ]
  },
  {
   "cell_type": "markdown",
   "id": "74ffe390-533c-4625-aab1-075287e505e7",
   "metadata": {},
   "source": [
    "There are 658 duplicated rows as well, corresponding to 3.56 % of the total rows, as determined using the following script: "
   ]
  },
  {
   "cell_type": "code",
   "execution_count": 59,
   "id": "27f03ed9-4461-4e5a-8056-293b2dcd434c",
   "metadata": {},
   "outputs": [
    {
     "name": "stdout",
     "output_type": "stream",
     "text": [
      "658 duplicated rows, 3.56 % of total rows\n"
     ]
    }
   ],
   "source": [
    "count_duplicates = mosquito_df.duplicated(keep='first').sum()\n",
    "percent_duplicates = round(mosquito_df.duplicated(keep='first').sum() / mosquito_df.shape[0] * 100, 2)\n",
    "print(f\"{count_duplicates} duplicated rows, {percent_duplicates} % of total rows\")"
   ]
  },
  {
   "cell_type": "markdown",
   "id": "5a70cff4-a5d8-491d-af47-efb7f476ac45",
   "metadata": {},
   "source": [
    "Retaining duplicate rows will likely distort our analysis, so these duplicated data are removed using the following line of code:"
   ]
  },
  {
   "cell_type": "code",
   "execution_count": 60,
   "id": "b2794b95-80bb-4537-a3c8-29e818ad2ba9",
   "metadata": {},
   "outputs": [],
   "source": [
    "mosquito_df = mosquito_df.drop_duplicates()"
   ]
  },
  {
   "cell_type": "markdown",
   "id": "f7a95425-8804-47cc-92da-866076a84dd7",
   "metadata": {},
   "source": [
    "Lastly, there are several missing values from the data set. These missing values all correspond to longitude and latitude data for the various traps. "
   ]
  },
  {
   "cell_type": "code",
   "execution_count": 68,
   "id": "88d3f374-4236-4df0-a3aa-547c4acdd4f1",
   "metadata": {
    "tags": []
   },
   "outputs": [
    {
     "data": {
      "text/plain": [
       "Year               0\n",
       "Week               0\n",
       "Address Block      0\n",
       "Block              0\n",
       "Trap               0\n",
       "Trap type          0\n",
       "Date               0\n",
       "Mosquito number    0\n",
       "Mosquito ID        0\n",
       "WNV Present        0\n",
       "Species            0\n",
       "Lat                0\n",
       "Lon                0\n",
       "dtype: int64"
      ]
     },
     "execution_count": 68,
     "metadata": {},
     "output_type": "execute_result"
    }
   ],
   "source": [
    "# Checks each column for missing data\n",
    "mosquito_df.isna().sum(axis=0)"
   ]
  },
  {
   "cell_type": "code",
   "execution_count": 69,
   "id": "114bebc2-cae7-4bd9-a070-871a4ce36112",
   "metadata": {},
   "outputs": [
    {
     "name": "stdout",
     "output_type": "stream",
     "text": [
      "0 stations are missing longitude and latitude. That is 0.0 % of the stations.\n"
     ]
    }
   ],
   "source": [
    "# To check for stations with missing data, I first made a dataframe containing only the Trap, Lat, and Lon\n",
    "station_locations = mosquito_df[[\"Trap\", \"Lat\", \"Lon\"]].drop_duplicates().sort_values(\"Trap\")\n",
    "\n",
    "# I then found the average location for each trap\n",
    "station_locations = station_locations.groupby(\"Trap\").mean()\n",
    "\n",
    "# I then determined which traps had no associated longitude and latitude data.\n",
    "missing_lat = station_locations['Lat'].isna().sum()\n",
    "missing_lon = station_locations['Lon'].isna().sum()\n",
    "print(f'{missing_lon} stations are missing longitude and latitude. That is {round(missing_lat / 190*100,1)} % of the stations.')"
   ]
  },
  {
   "cell_type": "markdown",
   "id": "0a890452-a239-49c7-87c1-7df73f68a041",
   "metadata": {},
   "source": [
    "There are 31 stations with no longitude or latitude. This number corresponds to 16.3 % of the stations, or in other words, 1 in 6 stations is one of these \"missing stations.\" Removing all of the information associated with these missing stations would, thus, have a sever impact on our ability to draw conclusions from the provided data. Therefore, I replaced the missing values with the average longitude and latitude values from the other stations. Whil this will bias the results to some extent, it should not have a drastic impact on most of the conclusions drawn here. It is also likely that all of these missing stations are serviced by the same scientist or scientists and may be clustered in a region together."
   ]
  },
  {
   "cell_type": "code",
   "execution_count": 70,
   "id": "fe000271-5d1e-43c6-b1b4-2a11363957a9",
   "metadata": {
    "tags": []
   },
   "outputs": [],
   "source": [
    "# The missing longitude and latitude data were replaced by the averages of these values.\n",
    "mosquito_df[\"Lat\"] = mosquito_df[\"Lat\"].fillna(mosquito_df[\"Lat\"].mean())\n",
    "mosquito_df[\"Lon\"] = mosquito_df[\"Lon\"].fillna(mosquito_df[\"Lon\"].mean())"
   ]
  },
  {
   "cell_type": "markdown",
   "id": "f7b8f157-7434-4625-8ce8-d64e49fc1446",
   "metadata": {},
   "source": [
    "#### *Relationship between mosquito number and date*"
   ]
  },
  {
   "cell_type": "markdown",
   "id": "3897f7f2-68c4-4682-8194-6c3018d73c96",
   "metadata": {},
   "source": [
    "In order to determine the relationship between the number of mosquitoes caught and the date, the number of mosquitoes caught was plotted as a function of month for each year in the data set in the figure below. The number of plots in this figure is dynamic an con auto update as data for additional years is added to the data set. For ease of comparying different years, the y-axes on these plots has all been scaled to the same maximum value."
   ]
  },
  {
   "cell_type": "code",
   "execution_count": 78,
   "id": "07d0e5b4-f715-4535-90f1-293c437ddeb8",
   "metadata": {
    "jupyter": {
     "source_hidden": true
    },
    "tags": []
   },
   "outputs": [
    {
     "data": {
      "image/png": "[encoded data removed]",
      "text/plain": [
       "<Figure size 864x1008 with 13 Axes>"
      ]
     },
     "metadata": {
      "needs_background": "light"
     },
     "output_type": "display_data"
    }
   ],
   "source": [
    "# These lines are used to determine the years being investigated\n",
    "earliest_year = mosquito_df[\"Date\"].dt.year.min()\n",
    "last_year =  mosquito_df[\"Date\"].dt.year.max() \n",
    "year_count = last_year - earliest_year + 1\n",
    "\n",
    "# Here, the max value for the y-axes is determined\n",
    "max = 0\n",
    "for i in range(0, year_count):\n",
    "    new_df = mosquito_df[[\"Date\", \"Mosquito number\"]].where(mosquito_df[\"Year\"] == (earliest_year + i)).dropna()\n",
    "    summed_data = new_df.groupby(new_df[\"Date\"].dt.month).sum()\n",
    "    if summed_data[\"Mosquito number\"].max() > max:\n",
    "        max = summed_data[\"Mosquito number\"].max()\n",
    "\n",
    "# 'cols' and 'rows' here is the number of columns and rows in the subplots \n",
    "cols = 3\n",
    "rows = int(year_count / cols + year_count % cols)\n",
    "plt.subplots(year_count, figsize=(12,14))\n",
    "for i in range(0, year_count):\n",
    "    new_df = mosquito_df[[\"Date\", \"Mosquito number\"]].where(mosquito_df[\"Year\"] == (earliest_year + i)).dropna()\n",
    "    summed_data = new_df.groupby(new_df[\"Date\"].dt.month).sum()\n",
    "    \n",
    "    plt.subplot(rows, cols , i + 1)\n",
    "    plt.bar(summed_data.index.values, summed_data[\"Mosquito number\"])\n",
    "    plt.xlabel(\"Month\", size=12)\n",
    "    plt.ylabel(\"mosquitoes Caught\", size=12)\n",
    "    plt.xlim([4,11])\n",
    "    plt.ylim([0,max])\n",
    "    plt.title(f\"{earliest_year + i}\", size = 16)\n",
    "    \n",
    "sns.despine()\n",
    "plt.tight_layout()\n",
    "plt.show()"
   ]
  },
  {
   "cell_type": "markdown",
   "id": "3dad0658-13b8-4c6c-aec4-86b7672a23a8",
   "metadata": {},
   "source": [
    "Unsurprisingly, the number of mosquitoes caught is significantly higher in summer months, when the weather is warmer, than in other months. August and July are usually the heaviest months, with the exception of 2019, in which June was the ehaviest month. It is also interesting to note that in some years, significantly more mosquitoes were caught than in other years. For example, nearly 19,000 mosquitoes were caught in August of 2007, but fewer than 4,000 were caught in the entire year of 2008."
   ]
  },
  {
   "cell_type": "markdown",
   "id": "c8176fc2-c3c5-46eb-b5c6-3d3c8737c009",
   "metadata": {},
   "source": [
    "#### *Relationship between mosquito species and WNV prevalence*"
   ]
  },
  {
   "cell_type": "markdown",
   "id": "a1ab614d-4ad4-4307-89a7-2aa8cc20bd7e",
   "metadata": {},
   "source": [
    "The relationship between mosquito species and WNV prevalence is investigated by determining what percentage of each species was found to be infected with the WNV. As seen in the horizontal bar plot below, the species Culex Pipiens has the highest rate of infection, with 23.3% of captured mosquitoes carrying the virus. This is in stark contrast to the species Culex Territans, which only had a 1.5% infection rate. Clearly, infection rate depends strongly on species."
   ]
  },
  {
   "cell_type": "code",
   "execution_count": 65,
   "id": "f8188501-2aad-4760-b74b-a156c3b5c785",
   "metadata": {
    "jupyter": {
     "source_hidden": true
    },
    "tags": []
   },
   "outputs": [
    {
     "data": {
      "image/png": "[encoded data removed]",
      "text/plain": [
       "<Figure size 432x288 with 1 Axes>"
      ]
     },
     "metadata": {
      "needs_background": "light"
     },
     "output_type": "display_data"
    }
   ],
   "source": [
    "total_count = mosquito_df.groupby([\"Species\", \"WNV Present\"])[\"WNV Present\"].count()\n",
    "pct_infected = (total_count / mosquito_df.groupby([\"Species\"])[\"WNV Present\"].count() * 100).unstack()\n",
    "\n",
    "pct_infected.sort_values(\"positive\").plot(kind=\"barh\", stacked=True)\n",
    "plt.legend(framealpha = 1, loc=3)\n",
    "sns.despine()\n",
    "plt.show()"
   ]
  },
  {
   "cell_type": "markdown",
   "id": "d5cd9772-a6b3-438f-8bbc-131612ff75d0",
   "metadata": {},
   "source": [
    "#### *Relationship between the number of mosquitoes caught and trap type*"
   ]
  },
  {
   "cell_type": "markdown",
   "id": "54f7b346-3ec8-4667-8e2e-8971b3bea175",
   "metadata": {},
   "source": [
    "The effectiveness of different trap types at trapping mosquitoes was determined by calculating the average number of mosquitoes caught per trap. As can be seen in the figure below, the Sentinel trap type is the most effective, catching approxiamatly 25 mosquitoes on average per trap. Currently, Gravid traps are used in approxiamatly 95% of measurements. If financial concerns are not an issue, I strongly recomend to transitioning to the Sentinel traps for all measurements. The Ovi trap is far inferrior and should not be used."
   ]
  },
  {
   "cell_type": "code",
   "execution_count": 66,
   "id": "cedc61d5-d68e-4b49-9a16-4ed25f0ccb60",
   "metadata": {
    "jupyter": {
     "source_hidden": true
    },
    "tags": []
   },
   "outputs": [
    {
     "data": {
      "image/png": "[encoded data removed]",
      "text/plain": [
       "<Figure size 432x288 with 1 Axes>"
      ]
     },
     "metadata": {
      "needs_background": "light"
     },
     "output_type": "display_data"
    }
   ],
   "source": [
    "number_by_trap_df = mosquito_df[[\"Trap type\", \"Mosquito number\"]].groupby(\"Trap type\").mean()\n",
    "number_by_trap_df = number_by_trap_df.sort_values(\"Mosquito number\", ascending=True)\n",
    "\n",
    "plt.figure()\n",
    "plt.bar(number_by_trap_df.index.values, number_by_trap_df[\"Mosquito number\"])\n",
    "sns.despine()\n",
    "plt.xlabel(\"Trap Type\", size=12)\n",
    "plt.ylabel(\"Average mosquitoes Caught\", size=12)\n",
    "plt.title(\"Sentinal is the superior mosquito trap\", size=18)\n",
    "plt.show()"
   ]
  },
  {
   "cell_type": "markdown",
   "id": "91bef2ee-04b6-4f56-ac29-54644fa94f4b",
   "metadata": {},
   "source": [
    "#### *Changes in mosquito species population by year*"
   ]
  },
  {
   "cell_type": "markdown",
   "id": "5450cbca-810a-464f-88f4-d8ae6ca8f41b",
   "metadata": {},
   "source": [
    "As was noted earlier, different species of mosquito have different WNV infections rates. It is therefore important to see which species are the most abundant and if this is changing year by year. In order to determine this, the number of each species of mosquito caught is plotted as a function of year in the figure below. The population of species Culex Restauns has been growing in the last several years but may be flattening out. Culex Pipiens is also frequently caught, depending on the year, possibly as a result of longterm climate patterns or possibly some local industrial practices. The other two species are not commonly caught. Unfortunatly, the most common species, Pipiens and Restuans, are also the highest carriers of the West Nile Virus."
   ]
  },
  {
   "cell_type": "code",
   "execution_count": 67,
   "id": "2e97552a-2811-4bc4-aa26-3efed7b20ce5",
   "metadata": {
    "jupyter": {
     "source_hidden": true
    },
    "tags": []
   },
   "outputs": [
    {
     "data": {
      "image/png": "[encoded data removed]",
      "text/plain": [
       "<Figure size 432x288 with 1 Axes>"
      ]
     },
     "metadata": {
      "needs_background": "light"
     },
     "output_type": "display_data"
    }
   ],
   "source": [
    "species_year_df = mosquito_df[[\"Year\", \"Species\", \"Mosquito number\"]].groupby([\"Year\", \"Species\"]).sum()\n",
    "species_year_df = species_year_df.unstack()\n",
    "\n",
    "plt.figure()\n",
    "plt.scatter(species_year_df.index.values, species_year_df[\"Mosquito number\"][\"CULEX PIPIENS\"], label=\"CULEX PIPIENS\")\n",
    "plt.plot(species_year_df.index.values, species_year_df[\"Mosquito number\"][\"CULEX PIPIENS\"])\n",
    "\n",
    "plt.scatter(species_year_df.index.values, species_year_df[\"Mosquito number\"][\"CULEX RESTUANS\"], label=\"CULEX RESTUANS\")\n",
    "plt.plot(species_year_df.index.values, species_year_df[\"Mosquito number\"][\"CULEX RESTUANS\"])\n",
    "\n",
    "plt.scatter(species_year_df.index.values, species_year_df[\"Mosquito number\"][\"CULEX SALINARIUS\"], label=\"CULEX SALINARIUS\")\n",
    "plt.plot(species_year_df.index.values, species_year_df[\"Mosquito number\"][\"CULEX SALINARIUS\"])\n",
    "\n",
    "plt.scatter(species_year_df.index.values, species_year_df[\"Mosquito number\"][\"CULEX TERRITANS\"], label=\"CULEX TERRITANS\")\n",
    "plt.plot(species_year_df.index.values, species_year_df[\"Mosquito number\"][\"CULEX TERRITANS\"])\n",
    "\n",
    "plt.legend()\n",
    "plt.xlabel(\"Year\", size=12)\n",
    "plt.ylabel(\"Total number of Mosquitoes Caught\")\n",
    "plt.title(\"\\\"RESTUANS\\\" the current dominant species\")\n",
    "\n",
    "sns.despine()\n",
    "plt.show()\n"
   ]
  }
 ],
 "metadata": {
  "kernelspec": {
   "display_name": "Python 3",
   "language": "python",
   "name": "python3"
  },
  "language_info": {
   "codemirror_mode": {
    "name": "ipython",
    "version": 3
   },
   "file_extension": ".py",
   "mimetype": "text/x-python",
   "name": "python",
   "nbconvert_exporter": "python",
   "pygments_lexer": "ipython3",
   "version": "3.8.8"
  }
 },
 "nbformat": 4,
 "nbformat_minor": 5
}
