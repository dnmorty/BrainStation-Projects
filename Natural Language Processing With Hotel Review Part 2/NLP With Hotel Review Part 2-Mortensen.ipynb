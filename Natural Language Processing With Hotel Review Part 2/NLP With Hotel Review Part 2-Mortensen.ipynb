{
 "cells": [
  {
   "cell_type": "markdown",
   "id": "cbdd398f-c5c7-4c34-b66a-79d31935fc45",
   "metadata": {},
   "source": [
    "# NLP With Hotel Review Part 2  \n",
    "  \n",
    "Daniel Mortensen  \n",
    "7-Sep-2021  "
   ]
  },
  {
   "cell_type": "markdown",
   "id": "934b553f-85e7-4f10-8e5c-048f0bbadcb5",
   "metadata": {},
   "source": [
    "## Introduction"
   ]
  },
  {
   "cell_type": "markdown",
   "id": "2e86954a-8283-4ca0-96bf-76af4a25a822",
   "metadata": {},
   "source": [
    "Hotel review data has been prepped by the data engineering team. Here, the data will be fit using several predictive models. The best of these models will be optimized for hyperparameters. "
   ]
  },
  {
   "cell_type": "markdown",
   "id": "a34e20d0-5dd8-4a0c-ba30-6a13569f2690",
   "metadata": {},
   "source": [
    "*Task Summary*  \n",
    "1. Model the data using Logistic regression*:\n",
    "    - Determine the 20 most significant words for both positive and negative reviews\n",
    "    - Determine the relationship between the number of dimensions and the run-time for logistic regression.\n",
    "2. Model the data using a *K-Nearest Neighbor classifier*:\n",
    "    - Determine the relationship between the number of nearest neighbors and run-time.\n",
    "    - Determine the optimal number of neighbors for the classifier.\n",
    "3. Model the data using a *Decision Tree classifier*:\n",
    "    - Determine the optimal maximum depth for the classifier.\n",
    "    - Discuss pros and cons of decision tree classifiers.\n",
    "4. Discuss the purpose of `Validation sets`\n",
    "5. Optimize the best model using 5-fold cross validation.\n",
    "6. Create a new feature and determine if the feature improves model accuracy."
   ]
  },
  {
   "cell_type": "markdown",
   "id": "522dfe9d-e845-48d8-a359-d2180cc5e20e",
   "metadata": {},
   "source": [
    "*Results Summary*  \n",
    "  \n",
    "The hotel review data was modeled using (1) logistic regression, (2) a K-Nearest Neighbor classifier, and (3) a Decision Tree classifier. The best results were obtained with the logistic regression model (accuracy ~71.8%). With dimension reduction, this accuracy was increased to ~76.8%. This model was optimized in terms of hyperparameters and the months were modeled as a circle, resulting in a final model with an accuracy of 76.4%. This final model is more likely to result in a similar accuracy score for other unknown data."
   ]
  },
  {
   "cell_type": "markdown",
   "id": "aec57af0-3120-4b78-b682-2b9537f9b6eb",
   "metadata": {},
   "source": [
    "## Methods"
   ]
  },
  {
   "cell_type": "markdown",
   "id": "b5e232f2-d706-4b59-9265-55cc604d4c27",
   "metadata": {},
   "source": [
    "Data were taken from the provided test_dataframe.csv and train_dataframe.csv files. All data were analyzed in this Jupyter Notebook, which is running on a Python 3 kernel. "
   ]
  },
  {
   "cell_type": "markdown",
   "id": "1a5d1602-a476-44c0-b099-a93b242e7a13",
   "metadata": {},
   "source": [
    "The following libraries and tools were imported for analysis and visualization:"
   ]
  },
  {
   "cell_type": "code",
   "execution_count": 1,
   "id": "58cf3dd6-d871-4247-b61f-fd5475504007",
   "metadata": {},
   "outputs": [],
   "source": [
    "# Importing libraries and tools\n",
    "import pandas as pd\n",
    "import numpy as np\n",
    "import matplotlib.pyplot as plt\n",
    "import seaborn as sns\n",
    "import time\n",
    "import math\n",
    "\n",
    "from sklearn.linear_model import LogisticRegression\n",
    "from sklearn.decomposition import PCA\n",
    "from scipy import stats\n",
    "from sklearn.neighbors import KNeighborsClassifier\n",
    "from sklearn.tree import DecisionTreeClassifier\n",
    "from sklearn.model_selection import train_test_split\n",
    "from sklearn.metrics import plot_confusion_matrix, confusion_matrix\n",
    "from sklearn.preprocessing import StandardScaler\n",
    "from sklearn.pipeline import Pipeline\n",
    "from sklearn.model_selection import GridSearchCV\n",
    "\n",
    "import warnings\n",
    "warnings.filterwarnings('ignore')"
   ]
  },
  {
   "cell_type": "markdown",
   "id": "5ac93565-c7db-4599-9983-438c19c27a77",
   "metadata": {},
   "source": [
    "The test_dataframe.csv file was imported as \"test_df\" and the train_dataframe.csv file was imported as train_df."
   ]
  },
  {
   "cell_type": "code",
   "execution_count": 2,
   "id": "1cc336d6-33fd-4692-ac7d-904821587c37",
   "metadata": {},
   "outputs": [
    {
     "data": {
      "text/html": [
       "<div>\n",
       "<style scoped>\n",
       "    .dataframe tbody tr th:only-of-type {\n",
       "        vertical-align: middle;\n",
       "    }\n",
       "\n",
       "    .dataframe tbody tr th {\n",
       "        vertical-align: top;\n",
       "    }\n",
       "\n",
       "    .dataframe thead th {\n",
       "        text-align: right;\n",
       "    }\n",
       "</style>\n",
       "<table border=\"1\" class=\"dataframe\">\n",
       "  <thead>\n",
       "    <tr style=\"text-align: right;\">\n",
       "      <th></th>\n",
       "      <th>Additional_Number_of_Scoring</th>\n",
       "      <th>Average_Score</th>\n",
       "      <th>Review_Total_Negative_Word_Counts</th>\n",
       "      <th>Total_Number_of_Reviews</th>\n",
       "      <th>Review_Total_Positive_Word_Counts</th>\n",
       "      <th>Total_Number_of_Reviews_Reviewer_Has_Given</th>\n",
       "      <th>days_since_review</th>\n",
       "      <th>lat</th>\n",
       "      <th>lng</th>\n",
       "      <th>weekday_of_review</th>\n",
       "      <th>...</th>\n",
       "      <th>n_n_worry</th>\n",
       "      <th>n_n_worth</th>\n",
       "      <th>n_n_would</th>\n",
       "      <th>n_n_write</th>\n",
       "      <th>n_n_wrong</th>\n",
       "      <th>n_n_year</th>\n",
       "      <th>n_n_yes</th>\n",
       "      <th>n_n_yet</th>\n",
       "      <th>n_n_young</th>\n",
       "      <th>rating</th>\n",
       "    </tr>\n",
       "  </thead>\n",
       "  <tbody>\n",
       "    <tr>\n",
       "      <th>0</th>\n",
       "      <td>1005</td>\n",
       "      <td>8.3</td>\n",
       "      <td>0</td>\n",
       "      <td>3469</td>\n",
       "      <td>6</td>\n",
       "      <td>2</td>\n",
       "      <td>297</td>\n",
       "      <td>51.559096</td>\n",
       "      <td>-0.284704</td>\n",
       "      <td>0</td>\n",
       "      <td>...</td>\n",
       "      <td>0</td>\n",
       "      <td>0</td>\n",
       "      <td>0</td>\n",
       "      <td>0</td>\n",
       "      <td>0</td>\n",
       "      <td>0</td>\n",
       "      <td>0</td>\n",
       "      <td>0</td>\n",
       "      <td>0</td>\n",
       "      <td>0</td>\n",
       "    </tr>\n",
       "    <tr>\n",
       "      <th>1</th>\n",
       "      <td>487</td>\n",
       "      <td>8.8</td>\n",
       "      <td>46</td>\n",
       "      <td>1805</td>\n",
       "      <td>121</td>\n",
       "      <td>1</td>\n",
       "      <td>4</td>\n",
       "      <td>51.474469</td>\n",
       "      <td>-0.019428</td>\n",
       "      <td>6</td>\n",
       "      <td>...</td>\n",
       "      <td>0</td>\n",
       "      <td>0</td>\n",
       "      <td>0</td>\n",
       "      <td>0</td>\n",
       "      <td>0</td>\n",
       "      <td>0</td>\n",
       "      <td>0</td>\n",
       "      <td>0</td>\n",
       "      <td>0</td>\n",
       "      <td>1</td>\n",
       "    </tr>\n",
       "    <tr>\n",
       "      <th>2</th>\n",
       "      <td>570</td>\n",
       "      <td>9.3</td>\n",
       "      <td>0</td>\n",
       "      <td>2319</td>\n",
       "      <td>9</td>\n",
       "      <td>1</td>\n",
       "      <td>590</td>\n",
       "      <td>51.505696</td>\n",
       "      <td>-0.101525</td>\n",
       "      <td>1</td>\n",
       "      <td>...</td>\n",
       "      <td>0</td>\n",
       "      <td>0</td>\n",
       "      <td>0</td>\n",
       "      <td>0</td>\n",
       "      <td>0</td>\n",
       "      <td>0</td>\n",
       "      <td>0</td>\n",
       "      <td>0</td>\n",
       "      <td>0</td>\n",
       "      <td>1</td>\n",
       "    </tr>\n",
       "    <tr>\n",
       "      <th>3</th>\n",
       "      <td>2623</td>\n",
       "      <td>8.7</td>\n",
       "      <td>19</td>\n",
       "      <td>12158</td>\n",
       "      <td>0</td>\n",
       "      <td>2</td>\n",
       "      <td>269</td>\n",
       "      <td>51.500961</td>\n",
       "      <td>-0.116591</td>\n",
       "      <td>0</td>\n",
       "      <td>...</td>\n",
       "      <td>0</td>\n",
       "      <td>0</td>\n",
       "      <td>0</td>\n",
       "      <td>0</td>\n",
       "      <td>0</td>\n",
       "      <td>0</td>\n",
       "      <td>0</td>\n",
       "      <td>0</td>\n",
       "      <td>0</td>\n",
       "      <td>0</td>\n",
       "    </tr>\n",
       "    <tr>\n",
       "      <th>4</th>\n",
       "      <td>365</td>\n",
       "      <td>8.1</td>\n",
       "      <td>13</td>\n",
       "      <td>1567</td>\n",
       "      <td>0</td>\n",
       "      <td>2</td>\n",
       "      <td>373</td>\n",
       "      <td>51.515125</td>\n",
       "      <td>-0.160066</td>\n",
       "      <td>1</td>\n",
       "      <td>...</td>\n",
       "      <td>0</td>\n",
       "      <td>0</td>\n",
       "      <td>0</td>\n",
       "      <td>0</td>\n",
       "      <td>0</td>\n",
       "      <td>0</td>\n",
       "      <td>0</td>\n",
       "      <td>0</td>\n",
       "      <td>0</td>\n",
       "      <td>0</td>\n",
       "    </tr>\n",
       "  </tbody>\n",
       "</table>\n",
       "<p>5 rows × 2744 columns</p>\n",
       "</div>"
      ],
      "text/plain": [
       "   Additional_Number_of_Scoring  Average_Score  \\\n",
       "0                          1005            8.3   \n",
       "1                           487            8.8   \n",
       "2                           570            9.3   \n",
       "3                          2623            8.7   \n",
       "4                           365            8.1   \n",
       "\n",
       "   Review_Total_Negative_Word_Counts  Total_Number_of_Reviews  \\\n",
       "0                                  0                     3469   \n",
       "1                                 46                     1805   \n",
       "2                                  0                     2319   \n",
       "3                                 19                    12158   \n",
       "4                                 13                     1567   \n",
       "\n",
       "   Review_Total_Positive_Word_Counts  \\\n",
       "0                                  6   \n",
       "1                                121   \n",
       "2                                  9   \n",
       "3                                  0   \n",
       "4                                  0   \n",
       "\n",
       "   Total_Number_of_Reviews_Reviewer_Has_Given  days_since_review        lat  \\\n",
       "0                                           2                297  51.559096   \n",
       "1                                           1                  4  51.474469   \n",
       "2                                           1                590  51.505696   \n",
       "3                                           2                269  51.500961   \n",
       "4                                           2                373  51.515125   \n",
       "\n",
       "        lng  weekday_of_review  ...  n_n_worry  n_n_worth  n_n_would  \\\n",
       "0 -0.284704                  0  ...          0          0          0   \n",
       "1 -0.019428                  6  ...          0          0          0   \n",
       "2 -0.101525                  1  ...          0          0          0   \n",
       "3 -0.116591                  0  ...          0          0          0   \n",
       "4 -0.160066                  1  ...          0          0          0   \n",
       "\n",
       "   n_n_write  n_n_wrong  n_n_year  n_n_yes  n_n_yet  n_n_young  rating  \n",
       "0          0          0         0        0        0          0       0  \n",
       "1          0          0         0        0        0          0       1  \n",
       "2          0          0         0        0        0          0       1  \n",
       "3          0          0         0        0        0          0       0  \n",
       "4          0          0         0        0        0          0       0  \n",
       "\n",
       "[5 rows x 2744 columns]"
      ]
     },
     "metadata": {},
     "output_type": "display_data"
    },
    {
     "data": {
      "text/html": [
       "<div>\n",
       "<style scoped>\n",
       "    .dataframe tbody tr th:only-of-type {\n",
       "        vertical-align: middle;\n",
       "    }\n",
       "\n",
       "    .dataframe tbody tr th {\n",
       "        vertical-align: top;\n",
       "    }\n",
       "\n",
       "    .dataframe thead th {\n",
       "        text-align: right;\n",
       "    }\n",
       "</style>\n",
       "<table border=\"1\" class=\"dataframe\">\n",
       "  <thead>\n",
       "    <tr style=\"text-align: right;\">\n",
       "      <th></th>\n",
       "      <th>Additional_Number_of_Scoring</th>\n",
       "      <th>Average_Score</th>\n",
       "      <th>Review_Total_Negative_Word_Counts</th>\n",
       "      <th>Total_Number_of_Reviews</th>\n",
       "      <th>Review_Total_Positive_Word_Counts</th>\n",
       "      <th>Total_Number_of_Reviews_Reviewer_Has_Given</th>\n",
       "      <th>days_since_review</th>\n",
       "      <th>lat</th>\n",
       "      <th>lng</th>\n",
       "      <th>weekday_of_review</th>\n",
       "      <th>...</th>\n",
       "      <th>n_worry</th>\n",
       "      <th>n_worth</th>\n",
       "      <th>n_would</th>\n",
       "      <th>n_write</th>\n",
       "      <th>n_wrong</th>\n",
       "      <th>n_year</th>\n",
       "      <th>n_yes</th>\n",
       "      <th>n_yet</th>\n",
       "      <th>n_young</th>\n",
       "      <th>rating</th>\n",
       "    </tr>\n",
       "  </thead>\n",
       "  <tbody>\n",
       "    <tr>\n",
       "      <th>0</th>\n",
       "      <td>620</td>\n",
       "      <td>9.0</td>\n",
       "      <td>0</td>\n",
       "      <td>1974</td>\n",
       "      <td>164</td>\n",
       "      <td>1</td>\n",
       "      <td>562</td>\n",
       "      <td>51.506558</td>\n",
       "      <td>-0.004514</td>\n",
       "      <td>1</td>\n",
       "      <td>...</td>\n",
       "      <td>0</td>\n",
       "      <td>0</td>\n",
       "      <td>0</td>\n",
       "      <td>0</td>\n",
       "      <td>0</td>\n",
       "      <td>0</td>\n",
       "      <td>0</td>\n",
       "      <td>0</td>\n",
       "      <td>0</td>\n",
       "      <td>1</td>\n",
       "    </tr>\n",
       "    <tr>\n",
       "      <th>1</th>\n",
       "      <td>1258</td>\n",
       "      <td>9.4</td>\n",
       "      <td>6</td>\n",
       "      <td>4204</td>\n",
       "      <td>4</td>\n",
       "      <td>5</td>\n",
       "      <td>276</td>\n",
       "      <td>51.502435</td>\n",
       "      <td>-0.000250</td>\n",
       "      <td>0</td>\n",
       "      <td>...</td>\n",
       "      <td>0</td>\n",
       "      <td>0</td>\n",
       "      <td>0</td>\n",
       "      <td>0</td>\n",
       "      <td>0</td>\n",
       "      <td>0</td>\n",
       "      <td>0</td>\n",
       "      <td>0</td>\n",
       "      <td>0</td>\n",
       "      <td>1</td>\n",
       "    </tr>\n",
       "    <tr>\n",
       "      <th>2</th>\n",
       "      <td>995</td>\n",
       "      <td>8.1</td>\n",
       "      <td>2</td>\n",
       "      <td>3826</td>\n",
       "      <td>38</td>\n",
       "      <td>1</td>\n",
       "      <td>129</td>\n",
       "      <td>51.504348</td>\n",
       "      <td>-0.033444</td>\n",
       "      <td>0</td>\n",
       "      <td>...</td>\n",
       "      <td>0</td>\n",
       "      <td>0</td>\n",
       "      <td>0</td>\n",
       "      <td>0</td>\n",
       "      <td>0</td>\n",
       "      <td>0</td>\n",
       "      <td>0</td>\n",
       "      <td>0</td>\n",
       "      <td>0</td>\n",
       "      <td>1</td>\n",
       "    </tr>\n",
       "    <tr>\n",
       "      <th>3</th>\n",
       "      <td>853</td>\n",
       "      <td>8.4</td>\n",
       "      <td>7</td>\n",
       "      <td>2726</td>\n",
       "      <td>10</td>\n",
       "      <td>10</td>\n",
       "      <td>164</td>\n",
       "      <td>51.507377</td>\n",
       "      <td>0.038657</td>\n",
       "      <td>0</td>\n",
       "      <td>...</td>\n",
       "      <td>0</td>\n",
       "      <td>0</td>\n",
       "      <td>0</td>\n",
       "      <td>0</td>\n",
       "      <td>0</td>\n",
       "      <td>0</td>\n",
       "      <td>0</td>\n",
       "      <td>0</td>\n",
       "      <td>0</td>\n",
       "      <td>0</td>\n",
       "    </tr>\n",
       "    <tr>\n",
       "      <th>4</th>\n",
       "      <td>1243</td>\n",
       "      <td>8.1</td>\n",
       "      <td>11</td>\n",
       "      <td>6608</td>\n",
       "      <td>8</td>\n",
       "      <td>69</td>\n",
       "      <td>639</td>\n",
       "      <td>51.513556</td>\n",
       "      <td>-0.180002</td>\n",
       "      <td>1</td>\n",
       "      <td>...</td>\n",
       "      <td>0</td>\n",
       "      <td>0</td>\n",
       "      <td>0</td>\n",
       "      <td>0</td>\n",
       "      <td>0</td>\n",
       "      <td>0</td>\n",
       "      <td>0</td>\n",
       "      <td>0</td>\n",
       "      <td>0</td>\n",
       "      <td>0</td>\n",
       "    </tr>\n",
       "  </tbody>\n",
       "</table>\n",
       "<p>5 rows × 2744 columns</p>\n",
       "</div>"
      ],
      "text/plain": [
       "   Additional_Number_of_Scoring  Average_Score  \\\n",
       "0                           620            9.0   \n",
       "1                          1258            9.4   \n",
       "2                           995            8.1   \n",
       "3                           853            8.4   \n",
       "4                          1243            8.1   \n",
       "\n",
       "   Review_Total_Negative_Word_Counts  Total_Number_of_Reviews  \\\n",
       "0                                  0                     1974   \n",
       "1                                  6                     4204   \n",
       "2                                  2                     3826   \n",
       "3                                  7                     2726   \n",
       "4                                 11                     6608   \n",
       "\n",
       "   Review_Total_Positive_Word_Counts  \\\n",
       "0                                164   \n",
       "1                                  4   \n",
       "2                                 38   \n",
       "3                                 10   \n",
       "4                                  8   \n",
       "\n",
       "   Total_Number_of_Reviews_Reviewer_Has_Given  days_since_review        lat  \\\n",
       "0                                           1                562  51.506558   \n",
       "1                                           5                276  51.502435   \n",
       "2                                           1                129  51.504348   \n",
       "3                                          10                164  51.507377   \n",
       "4                                          69                639  51.513556   \n",
       "\n",
       "        lng  weekday_of_review  ...  n_worry  n_worth  n_would  n_write  \\\n",
       "0 -0.004514                  1  ...        0        0        0        0   \n",
       "1 -0.000250                  0  ...        0        0        0        0   \n",
       "2 -0.033444                  0  ...        0        0        0        0   \n",
       "3  0.038657                  0  ...        0        0        0        0   \n",
       "4 -0.180002                  1  ...        0        0        0        0   \n",
       "\n",
       "   n_wrong  n_year  n_yes  n_yet  n_young  rating  \n",
       "0        0       0      0      0        0       1  \n",
       "1        0       0      0      0        0       1  \n",
       "2        0       0      0      0        0       1  \n",
       "3        0       0      0      0        0       0  \n",
       "4        0       0      0      0        0       0  \n",
       "\n",
       "[5 rows x 2744 columns]"
      ]
     },
     "metadata": {},
     "output_type": "display_data"
    }
   ],
   "source": [
    "# import the data from the csv files\n",
    "test_df = pd.read_csv('./test_dataframe.csv')\n",
    "train_df = pd.read_csv('./train_dataframe.csv')\n",
    "\n",
    "# confirm the data imported properly\n",
    "display(test_df.head(), train_df.head())"
   ]
  },
  {
   "cell_type": "markdown",
   "id": "232e583d-1c7c-4a54-bdd8-b148187c88bc",
   "metadata": {},
   "source": [
    "The data are now segmented into independent (X) and dependent (y)  data frames. Since the `rating` column is the column of interest, this column is set as the y values."
   ]
  },
  {
   "cell_type": "code",
   "execution_count": 3,
   "id": "a25b4221-11dd-4b15-80a9-d9960037a103",
   "metadata": {},
   "outputs": [
    {
     "data": {
      "text/html": [
       "<div>\n",
       "<style scoped>\n",
       "    .dataframe tbody tr th:only-of-type {\n",
       "        vertical-align: middle;\n",
       "    }\n",
       "\n",
       "    .dataframe tbody tr th {\n",
       "        vertical-align: top;\n",
       "    }\n",
       "\n",
       "    .dataframe thead th {\n",
       "        text-align: right;\n",
       "    }\n",
       "</style>\n",
       "<table border=\"1\" class=\"dataframe\">\n",
       "  <thead>\n",
       "    <tr style=\"text-align: right;\">\n",
       "      <th></th>\n",
       "      <th>Additional_Number_of_Scoring</th>\n",
       "      <th>Average_Score</th>\n",
       "      <th>Review_Total_Negative_Word_Counts</th>\n",
       "      <th>Total_Number_of_Reviews</th>\n",
       "      <th>Review_Total_Positive_Word_Counts</th>\n",
       "      <th>Total_Number_of_Reviews_Reviewer_Has_Given</th>\n",
       "      <th>days_since_review</th>\n",
       "      <th>lat</th>\n",
       "      <th>lng</th>\n",
       "      <th>weekday_of_review</th>\n",
       "      <th>...</th>\n",
       "      <th>n_world</th>\n",
       "      <th>n_worry</th>\n",
       "      <th>n_worth</th>\n",
       "      <th>n_would</th>\n",
       "      <th>n_write</th>\n",
       "      <th>n_wrong</th>\n",
       "      <th>n_year</th>\n",
       "      <th>n_yes</th>\n",
       "      <th>n_yet</th>\n",
       "      <th>n_young</th>\n",
       "    </tr>\n",
       "  </thead>\n",
       "  <tbody>\n",
       "    <tr>\n",
       "      <th>0</th>\n",
       "      <td>620</td>\n",
       "      <td>9.0</td>\n",
       "      <td>0</td>\n",
       "      <td>1974</td>\n",
       "      <td>164</td>\n",
       "      <td>1</td>\n",
       "      <td>562</td>\n",
       "      <td>51.506558</td>\n",
       "      <td>-0.004514</td>\n",
       "      <td>1</td>\n",
       "      <td>...</td>\n",
       "      <td>0</td>\n",
       "      <td>0</td>\n",
       "      <td>0</td>\n",
       "      <td>0</td>\n",
       "      <td>0</td>\n",
       "      <td>0</td>\n",
       "      <td>0</td>\n",
       "      <td>0</td>\n",
       "      <td>0</td>\n",
       "      <td>0</td>\n",
       "    </tr>\n",
       "    <tr>\n",
       "      <th>1</th>\n",
       "      <td>1258</td>\n",
       "      <td>9.4</td>\n",
       "      <td>6</td>\n",
       "      <td>4204</td>\n",
       "      <td>4</td>\n",
       "      <td>5</td>\n",
       "      <td>276</td>\n",
       "      <td>51.502435</td>\n",
       "      <td>-0.000250</td>\n",
       "      <td>0</td>\n",
       "      <td>...</td>\n",
       "      <td>0</td>\n",
       "      <td>0</td>\n",
       "      <td>0</td>\n",
       "      <td>0</td>\n",
       "      <td>0</td>\n",
       "      <td>0</td>\n",
       "      <td>0</td>\n",
       "      <td>0</td>\n",
       "      <td>0</td>\n",
       "      <td>0</td>\n",
       "    </tr>\n",
       "    <tr>\n",
       "      <th>2</th>\n",
       "      <td>995</td>\n",
       "      <td>8.1</td>\n",
       "      <td>2</td>\n",
       "      <td>3826</td>\n",
       "      <td>38</td>\n",
       "      <td>1</td>\n",
       "      <td>129</td>\n",
       "      <td>51.504348</td>\n",
       "      <td>-0.033444</td>\n",
       "      <td>0</td>\n",
       "      <td>...</td>\n",
       "      <td>0</td>\n",
       "      <td>0</td>\n",
       "      <td>0</td>\n",
       "      <td>0</td>\n",
       "      <td>0</td>\n",
       "      <td>0</td>\n",
       "      <td>0</td>\n",
       "      <td>0</td>\n",
       "      <td>0</td>\n",
       "      <td>0</td>\n",
       "    </tr>\n",
       "  </tbody>\n",
       "</table>\n",
       "<p>3 rows × 2743 columns</p>\n",
       "</div>"
      ],
      "text/plain": [
       "   Additional_Number_of_Scoring  Average_Score  \\\n",
       "0                           620            9.0   \n",
       "1                          1258            9.4   \n",
       "2                           995            8.1   \n",
       "\n",
       "   Review_Total_Negative_Word_Counts  Total_Number_of_Reviews  \\\n",
       "0                                  0                     1974   \n",
       "1                                  6                     4204   \n",
       "2                                  2                     3826   \n",
       "\n",
       "   Review_Total_Positive_Word_Counts  \\\n",
       "0                                164   \n",
       "1                                  4   \n",
       "2                                 38   \n",
       "\n",
       "   Total_Number_of_Reviews_Reviewer_Has_Given  days_since_review        lat  \\\n",
       "0                                           1                562  51.506558   \n",
       "1                                           5                276  51.502435   \n",
       "2                                           1                129  51.504348   \n",
       "\n",
       "        lng  weekday_of_review  ...  n_world  n_worry  n_worth  n_would  \\\n",
       "0 -0.004514                  1  ...        0        0        0        0   \n",
       "1 -0.000250                  0  ...        0        0        0        0   \n",
       "2 -0.033444                  0  ...        0        0        0        0   \n",
       "\n",
       "   n_write  n_wrong  n_year  n_yes  n_yet  n_young  \n",
       "0        0        0       0      0      0        0  \n",
       "1        0        0       0      0      0        0  \n",
       "2        0        0       0      0      0        0  \n",
       "\n",
       "[3 rows x 2743 columns]"
      ]
     },
     "metadata": {},
     "output_type": "display_data"
    },
    {
     "data": {
      "text/html": [
       "<div>\n",
       "<style scoped>\n",
       "    .dataframe tbody tr th:only-of-type {\n",
       "        vertical-align: middle;\n",
       "    }\n",
       "\n",
       "    .dataframe tbody tr th {\n",
       "        vertical-align: top;\n",
       "    }\n",
       "\n",
       "    .dataframe thead th {\n",
       "        text-align: right;\n",
       "    }\n",
       "</style>\n",
       "<table border=\"1\" class=\"dataframe\">\n",
       "  <thead>\n",
       "    <tr style=\"text-align: right;\">\n",
       "      <th></th>\n",
       "      <th>Additional_Number_of_Scoring</th>\n",
       "      <th>Average_Score</th>\n",
       "      <th>Review_Total_Negative_Word_Counts</th>\n",
       "      <th>Total_Number_of_Reviews</th>\n",
       "      <th>Review_Total_Positive_Word_Counts</th>\n",
       "      <th>Total_Number_of_Reviews_Reviewer_Has_Given</th>\n",
       "      <th>days_since_review</th>\n",
       "      <th>lat</th>\n",
       "      <th>lng</th>\n",
       "      <th>weekday_of_review</th>\n",
       "      <th>...</th>\n",
       "      <th>n_n_world</th>\n",
       "      <th>n_n_worry</th>\n",
       "      <th>n_n_worth</th>\n",
       "      <th>n_n_would</th>\n",
       "      <th>n_n_write</th>\n",
       "      <th>n_n_wrong</th>\n",
       "      <th>n_n_year</th>\n",
       "      <th>n_n_yes</th>\n",
       "      <th>n_n_yet</th>\n",
       "      <th>n_n_young</th>\n",
       "    </tr>\n",
       "  </thead>\n",
       "  <tbody>\n",
       "    <tr>\n",
       "      <th>0</th>\n",
       "      <td>1005</td>\n",
       "      <td>8.3</td>\n",
       "      <td>0</td>\n",
       "      <td>3469</td>\n",
       "      <td>6</td>\n",
       "      <td>2</td>\n",
       "      <td>297</td>\n",
       "      <td>51.559096</td>\n",
       "      <td>-0.284704</td>\n",
       "      <td>0</td>\n",
       "      <td>...</td>\n",
       "      <td>0</td>\n",
       "      <td>0</td>\n",
       "      <td>0</td>\n",
       "      <td>0</td>\n",
       "      <td>0</td>\n",
       "      <td>0</td>\n",
       "      <td>0</td>\n",
       "      <td>0</td>\n",
       "      <td>0</td>\n",
       "      <td>0</td>\n",
       "    </tr>\n",
       "    <tr>\n",
       "      <th>1</th>\n",
       "      <td>487</td>\n",
       "      <td>8.8</td>\n",
       "      <td>46</td>\n",
       "      <td>1805</td>\n",
       "      <td>121</td>\n",
       "      <td>1</td>\n",
       "      <td>4</td>\n",
       "      <td>51.474469</td>\n",
       "      <td>-0.019428</td>\n",
       "      <td>6</td>\n",
       "      <td>...</td>\n",
       "      <td>0</td>\n",
       "      <td>0</td>\n",
       "      <td>0</td>\n",
       "      <td>0</td>\n",
       "      <td>0</td>\n",
       "      <td>0</td>\n",
       "      <td>0</td>\n",
       "      <td>0</td>\n",
       "      <td>0</td>\n",
       "      <td>0</td>\n",
       "    </tr>\n",
       "    <tr>\n",
       "      <th>2</th>\n",
       "      <td>570</td>\n",
       "      <td>9.3</td>\n",
       "      <td>0</td>\n",
       "      <td>2319</td>\n",
       "      <td>9</td>\n",
       "      <td>1</td>\n",
       "      <td>590</td>\n",
       "      <td>51.505696</td>\n",
       "      <td>-0.101525</td>\n",
       "      <td>1</td>\n",
       "      <td>...</td>\n",
       "      <td>0</td>\n",
       "      <td>0</td>\n",
       "      <td>0</td>\n",
       "      <td>0</td>\n",
       "      <td>0</td>\n",
       "      <td>0</td>\n",
       "      <td>0</td>\n",
       "      <td>0</td>\n",
       "      <td>0</td>\n",
       "      <td>0</td>\n",
       "    </tr>\n",
       "  </tbody>\n",
       "</table>\n",
       "<p>3 rows × 2743 columns</p>\n",
       "</div>"
      ],
      "text/plain": [
       "   Additional_Number_of_Scoring  Average_Score  \\\n",
       "0                          1005            8.3   \n",
       "1                           487            8.8   \n",
       "2                           570            9.3   \n",
       "\n",
       "   Review_Total_Negative_Word_Counts  Total_Number_of_Reviews  \\\n",
       "0                                  0                     3469   \n",
       "1                                 46                     1805   \n",
       "2                                  0                     2319   \n",
       "\n",
       "   Review_Total_Positive_Word_Counts  \\\n",
       "0                                  6   \n",
       "1                                121   \n",
       "2                                  9   \n",
       "\n",
       "   Total_Number_of_Reviews_Reviewer_Has_Given  days_since_review        lat  \\\n",
       "0                                           2                297  51.559096   \n",
       "1                                           1                  4  51.474469   \n",
       "2                                           1                590  51.505696   \n",
       "\n",
       "        lng  weekday_of_review  ...  n_n_world  n_n_worry  n_n_worth  \\\n",
       "0 -0.284704                  0  ...          0          0          0   \n",
       "1 -0.019428                  6  ...          0          0          0   \n",
       "2 -0.101525                  1  ...          0          0          0   \n",
       "\n",
       "   n_n_would  n_n_write  n_n_wrong  n_n_year  n_n_yes  n_n_yet  n_n_young  \n",
       "0          0          0          0         0        0        0          0  \n",
       "1          0          0          0         0        0        0          0  \n",
       "2          0          0          0         0        0        0          0  \n",
       "\n",
       "[3 rows x 2743 columns]"
      ]
     },
     "metadata": {},
     "output_type": "display_data"
    },
    {
     "data": {
      "text/plain": [
       "0    1\n",
       "1    1\n",
       "2    1\n",
       "Name: rating, dtype: int64"
      ]
     },
     "metadata": {},
     "output_type": "display_data"
    },
    {
     "data": {
      "text/plain": [
       "0    0\n",
       "1    1\n",
       "2    1\n",
       "Name: rating, dtype: int64"
      ]
     },
     "metadata": {},
     "output_type": "display_data"
    }
   ],
   "source": [
    "# Independent columns include all columns except the rating column.\n",
    "# So, the independent variables will include all BUT the rating column.\n",
    "X_train = train_df.drop(columns='rating').copy()\n",
    "X_test = test_df.drop(columns='rating').copy()\n",
    "\n",
    "# The only dependent column is the rating column.\n",
    "# So, the dependent variable will include ONLY this column.\n",
    "y_train = train_df['rating'].copy()\n",
    "y_test = test_df['rating'].copy()\n",
    "\n",
    "# confirm the data was segmented properly\n",
    "display(X_train.head(3), \n",
    "        X_test.head(3), \n",
    "        y_train.head(3), \n",
    "        y_test.head(3))"
   ]
  },
  {
   "cell_type": "markdown",
   "id": "a2163f24-709b-4908-b509-563b16287c1d",
   "metadata": {},
   "source": [
    "The data has been imported and segmented properly. "
   ]
  },
  {
   "cell_type": "code",
   "execution_count": 4,
   "id": "44e0599a-05f9-4325-b9b9-92bb23d5468e",
   "metadata": {},
   "outputs": [
    {
     "name": "stdout",
     "output_type": "stream",
     "text": [
      "(12798, 2743) (12798,)\n"
     ]
    }
   ],
   "source": [
    "print(X_train.shape, y_train.shape)"
   ]
  },
  {
   "cell_type": "markdown",
   "id": "5acf9d0f-f4a7-40c3-b260-e7d906b0d65e",
   "metadata": {},
   "source": [
    "The train data consists of 12,798 rows, 2,743 columns in the X data, and 1 column in the y data."
   ]
  },
  {
   "cell_type": "code",
   "execution_count": 5,
   "id": "5700cdbd-7e00-45aa-98f0-532cc32e5f8e",
   "metadata": {},
   "outputs": [
    {
     "name": "stdout",
     "output_type": "stream",
     "text": [
      "(4267, 2743) (4267,)\n"
     ]
    }
   ],
   "source": [
    "print(X_test.shape, y_test.shape)"
   ]
  },
  {
   "cell_type": "markdown",
   "id": "f166ce83-46ab-4852-bbe7-f9a26fc5d1d4",
   "metadata": {},
   "source": [
    "The test data consists of 4,267 rows, 2,743 columns in the X data, and 1 column in the y data."
   ]
  },
  {
   "cell_type": "markdown",
   "id": "670d660f-9122-4c31-b2d0-44938c1efd88",
   "metadata": {},
   "source": [
    "## Modeling"
   ]
  },
  {
   "cell_type": "markdown",
   "id": "e2d10147-6577-49b2-88c7-166fd4c6b3c0",
   "metadata": {},
   "source": [
    "### *Linear Classification*"
   ]
  },
  {
   "cell_type": "markdown",
   "id": "0c73f064-1021-4f19-a181-4e6e386a4c71",
   "metadata": {},
   "source": [
    "#### *Initial Model Fitting*"
   ]
  },
  {
   "cell_type": "markdown",
   "id": "38e7621f-16a9-4665-845d-2be617569127",
   "metadata": {},
   "source": [
    "The hotel review data will be fit to a logistic regression model."
   ]
  },
  {
   "cell_type": "code",
   "execution_count": 6,
   "id": "ae1d6606-0869-4e5b-bff0-f8d8c4f062a5",
   "metadata": {},
   "outputs": [
    {
     "data": {
      "text/plain": [
       "0.7183032575580033"
      ]
     },
     "execution_count": 6,
     "metadata": {},
     "output_type": "execute_result"
    }
   ],
   "source": [
    "# Instantiation of the logistic regression model\n",
    "hotel_log_reg = LogisticRegression(solver='lbfgs')\n",
    "\n",
    "# Fitting of the model to the train data\n",
    "hotel_log_reg.fit(X_train, y_train)\n",
    "\n",
    "# Scoring the model\n",
    "hotel_log_reg.score(X_test, y_test)"
   ]
  },
  {
   "cell_type": "markdown",
   "id": "b037f0a6-2f60-426f-919f-f2feb28b2869",
   "metadata": {},
   "source": [
    "This model resulted in an accuracy score of 73.0%. This value will be compared to the results of the other models."
   ]
  },
  {
   "cell_type": "markdown",
   "id": "5256fd3e-a971-4b45-89fe-2a01845795ca",
   "metadata": {},
   "source": [
    "#### *Words Predictive of Good and Bad Reviews*"
   ]
  },
  {
   "cell_type": "markdown",
   "id": "89ceebda-f087-42d2-a4da-2383e005c328",
   "metadata": {},
   "source": [
    "We would like to know which words are most strongly associated with good reviews and which are most strongly associated with negative reviews. Therefore, the top 20 words from each of these categories will be determined. "
   ]
  },
  {
   "cell_type": "code",
   "execution_count": 7,
   "id": "93bcd749-ee8b-44d6-81f8-3565d31e1f22",
   "metadata": {},
   "outputs": [
    {
     "data": {
      "text/plain": [
       "[{'labels': 'p_', 'reg_coef': 0.022399426533172603},\n",
       " {'labels': 'p_02', 'reg_coef': 0.0004335676672604298},\n",
       " {'labels': 'p_1', 'reg_coef': -0.0005764217333259784},\n",
       " {'labels': 'p_10', 'reg_coef': -0.0004705941470711781},\n",
       " {'labels': 'p_100', 'reg_coef': 6.620457554824766e-05}]"
      ]
     },
     "metadata": {},
     "output_type": "display_data"
    },
    {
     "data": {
      "text/plain": [
       "[{'labels': 'n_', 'reg_coef': -0.031643408714169326},\n",
       " {'labels': 'n_00', 'reg_coef': -9.022944973610406e-05},\n",
       " {'labels': 'n_02', 'reg_coef': 0.00026011615412011745},\n",
       " {'labels': 'n_1', 'reg_coef': -0.0001397512989979781},\n",
       " {'labels': 'n_10', 'reg_coef': 0.00024031666809421376}]"
      ]
     },
     "metadata": {},
     "output_type": "display_data"
    }
   ],
   "source": [
    "# First, a list of column names is created from the training set.\n",
    "# This is done because the words being searched for are listed as column names.\n",
    "labels = X_train.keys()\n",
    "\n",
    "# Second, lists are created to store all of the positive and all of the negative words.\n",
    "positive_words = list()\n",
    "negative_words = list()\n",
    "\n",
    "# Third, the list of column names is scanned through\n",
    "for i in range(len(labels)):\n",
    "    \n",
    "    # If the column name starts with \"p_\", then it is associated with a positive review.\n",
    "    if labels[i].startswith('p_'):\n",
    "        \n",
    "        # All positive words are added to the positive_words list as a dictionary.\n",
    "        # The dictionary contains both the word and the strength of its relationship to positive reviews\n",
    "        positive_words.append({'labels': labels[i], 'reg_coef': hotel_log_reg.coef_[0][i]})\n",
    "        \n",
    "    # If the column name starts with \"n_\", then it is associated with a negative review.\n",
    "    if labels[i].startswith('n_'):\n",
    "        \n",
    "        # All negative words are added to the negative_words list as a dictionary.\n",
    "        # The dictionary contains both the word and the strength of its relationship to negative reviews\n",
    "        negative_words.append({'labels': labels[i], 'reg_coef': hotel_log_reg.coef_[0][i]})\n",
    "        \n",
    "# Finally, the first 5 entries of the lists are printed to ensure they were created successfully.\n",
    "display(positive_words[0:5], negative_words[0:5])"
   ]
  },
  {
   "cell_type": "markdown",
   "id": "c3d6c1d1-c5a8-46f8-bc84-b91fa43f24f0",
   "metadata": {},
   "source": [
    "List have now been created containing words most strongly associated with positive and negative reviews. These lists will now be turned into data frames. The data frames will then be sorted."
   ]
  },
  {
   "cell_type": "code",
   "execution_count": 8,
   "id": "1ebedc55-298c-45a2-8a74-ae12e2d25ebe",
   "metadata": {},
   "outputs": [
    {
     "data": {
      "text/html": [
       "<div>\n",
       "<style scoped>\n",
       "    .dataframe tbody tr th:only-of-type {\n",
       "        vertical-align: middle;\n",
       "    }\n",
       "\n",
       "    .dataframe tbody tr th {\n",
       "        vertical-align: top;\n",
       "    }\n",
       "\n",
       "    .dataframe thead th {\n",
       "        text-align: right;\n",
       "    }\n",
       "</style>\n",
       "<table border=\"1\" class=\"dataframe\">\n",
       "  <thead>\n",
       "    <tr style=\"text-align: right;\">\n",
       "      <th></th>\n",
       "      <th>index</th>\n",
       "      <th>labels</th>\n",
       "      <th>reg_coef</th>\n",
       "    </tr>\n",
       "  </thead>\n",
       "  <tbody>\n",
       "    <tr>\n",
       "      <th>0</th>\n",
       "      <td>825</td>\n",
       "      <td>p_staff</td>\n",
       "      <td>0.026875</td>\n",
       "    </tr>\n",
       "    <tr>\n",
       "      <th>1</th>\n",
       "      <td>0</td>\n",
       "      <td>p_</td>\n",
       "      <td>0.022399</td>\n",
       "    </tr>\n",
       "    <tr>\n",
       "      <th>2</th>\n",
       "      <td>316</td>\n",
       "      <td>p_excellent</td>\n",
       "      <td>0.016082</td>\n",
       "    </tr>\n",
       "    <tr>\n",
       "      <th>3</th>\n",
       "      <td>529</td>\n",
       "      <td>p_lovely</td>\n",
       "      <td>0.012663</td>\n",
       "    </tr>\n",
       "    <tr>\n",
       "      <th>4</th>\n",
       "      <td>405</td>\n",
       "      <td>p_great</td>\n",
       "      <td>0.012056</td>\n",
       "    </tr>\n",
       "  </tbody>\n",
       "</table>\n",
       "</div>"
      ],
      "text/plain": [
       "   index       labels  reg_coef\n",
       "0    825      p_staff  0.026875\n",
       "1      0           p_  0.022399\n",
       "2    316  p_excellent  0.016082\n",
       "3    529     p_lovely  0.012663\n",
       "4    405      p_great  0.012056"
      ]
     },
     "metadata": {},
     "output_type": "display_data"
    },
    {
     "data": {
      "text/html": [
       "<div>\n",
       "<style scoped>\n",
       "    .dataframe tbody tr th:only-of-type {\n",
       "        vertical-align: middle;\n",
       "    }\n",
       "\n",
       "    .dataframe tbody tr th {\n",
       "        vertical-align: top;\n",
       "    }\n",
       "\n",
       "    .dataframe thead th {\n",
       "        text-align: right;\n",
       "    }\n",
       "</style>\n",
       "<table border=\"1\" class=\"dataframe\">\n",
       "  <thead>\n",
       "    <tr style=\"text-align: right;\">\n",
       "      <th></th>\n",
       "      <th>index</th>\n",
       "      <th>labels</th>\n",
       "      <th>reg_coef</th>\n",
       "    </tr>\n",
       "  </thead>\n",
       "  <tbody>\n",
       "    <tr>\n",
       "      <th>0</th>\n",
       "      <td>1016</td>\n",
       "      <td>n_room</td>\n",
       "      <td>-0.036267</td>\n",
       "    </tr>\n",
       "    <tr>\n",
       "      <th>1</th>\n",
       "      <td>0</td>\n",
       "      <td>n_</td>\n",
       "      <td>-0.031643</td>\n",
       "    </tr>\n",
       "    <tr>\n",
       "      <th>2</th>\n",
       "      <td>1095</td>\n",
       "      <td>n_small</td>\n",
       "      <td>-0.015005</td>\n",
       "    </tr>\n",
       "    <tr>\n",
       "      <th>3</th>\n",
       "      <td>159</td>\n",
       "      <td>n_bed</td>\n",
       "      <td>-0.010240</td>\n",
       "    </tr>\n",
       "    <tr>\n",
       "      <th>4</th>\n",
       "      <td>1133</td>\n",
       "      <td>n_staff</td>\n",
       "      <td>-0.008027</td>\n",
       "    </tr>\n",
       "  </tbody>\n",
       "</table>\n",
       "</div>"
      ],
      "text/plain": [
       "   index   labels  reg_coef\n",
       "0   1016   n_room -0.036267\n",
       "1      0       n_ -0.031643\n",
       "2   1095  n_small -0.015005\n",
       "3    159    n_bed -0.010240\n",
       "4   1133  n_staff -0.008027"
      ]
     },
     "metadata": {},
     "output_type": "display_data"
    }
   ],
   "source": [
    "# Converting positive review words to a data frame\n",
    "positive_df = pd.DataFrame(positive_words)\n",
    "\n",
    "# Sorting the data frame so that words most commonly associated with positive reviews\n",
    "# appear at the beggining of the list.\n",
    "positive_df.sort_values(by='reg_coef', ascending=False, inplace=True)\n",
    "\n",
    "# Resetting the index for convenince.\n",
    "positive_df.reset_index(inplace=True)\n",
    "\n",
    "# Converting the negative review list into a data frame\n",
    "negative_df = pd.DataFrame(negative_words)\n",
    "\n",
    "# Sorting the data frame so that words most commonly associated with negative reviews\n",
    "# appear at the beggining of the list. \n",
    "# Note: these are words with the most negative regression coefficients.\n",
    "negative_df.sort_values(by='reg_coef', ascending=True, inplace=True)\n",
    "\n",
    "# Resetting the index for convenince.\n",
    "negative_df.reset_index(inplace=True)\n",
    "\n",
    "# Confirming that both data frames were created and formatted correctly.\n",
    "display(positive_df.head(), negative_df.head())"
   ]
  },
  {
   "cell_type": "markdown",
   "id": "17e740c2-6f5c-4f3d-aabd-02d455518fef",
   "metadata": {},
   "source": [
    "The positive and negative data frames were created successfully. I will now use these to create the lists of the 20 most common words for each list.  \n",
    "\n",
    "Note: The second most correlated word from each list is a blank space. This will be dropped from the actual lists of words since it is not a word."
   ]
  },
  {
   "cell_type": "code",
   "execution_count": 9,
   "id": "df3bb311-c202-40bc-b0db-86058713c2f5",
   "metadata": {},
   "outputs": [
    {
     "name": "stdout",
     "output_type": "stream",
     "text": [
      "The top 20 words most predictive of a good review include: staff, excellent, lovely, great, friendly, helpful, room, everything, hotel, amaze, comfortable, fantastic, comfy, bed, love, perfect, service, beautiful.stay, and really.\n"
     ]
    }
   ],
   "source": [
    "# I will create a single sentence containing the list of positive words.\n",
    "top_positive = \"The top 20 words most predictive of a good review include: \"\n",
    "\n",
    "# I will also determine the length of the first 20 words plus the blank space for convenience later.\n",
    "pos_len = len(positive_df['labels'][0:21])\n",
    "\n",
    "# I will create a dumby variable for bookeeping\n",
    "j = 0\n",
    "\n",
    "# I will then run through all of the values in the positive data frame and add them to the sentence\n",
    "for i in positive_df['labels'][0:21]:\n",
    "    \n",
    "    # I want to exclude the blank space\n",
    "    if i != 'p_':\n",
    "        \n",
    "        # I want to add each word to the sentence, but I don't need the prefix \"p_\",\n",
    "        # so this is dropped from each word by removing the first 2 characters.\n",
    "        \n",
    "        # All words will be added to the sentence the same way,\n",
    "        # except there should be an \"and\" after the second to last item in the list\n",
    "        # and the last item should be followed by a period.\n",
    "        # Note: these words are 0 indexed in the list, so their position is\n",
    "        # the lenght of the list minus i minus 1.\n",
    "        if j < pos_len - 3:\n",
    "            top_positive += i[2:] + \", \"\n",
    "        elif j == pos_len - 2:\n",
    "            top_positive += i[2:] + \", and \"\n",
    "        else:\n",
    "            top_positive += i[2:] + \".\"\n",
    "    j += 1\n",
    "\n",
    "print(top_positive)"
   ]
  },
  {
   "cell_type": "code",
   "execution_count": 10,
   "id": "752fe22d-9a88-43cf-837b-c7170cb3d82c",
   "metadata": {},
   "outputs": [
    {
     "name": "stdout",
     "output_type": "stream",
     "text": [
      "The top 20 words most predictive of a bad review include: room, small, bed, staff, bathroom, poor, noisy, shower, work, tire, noise, need, air, tiny, date, uncomfortable, sleep, clean.water, and double.\n"
     ]
    }
   ],
   "source": [
    "# I will create a single sentence containing the list of negative words.\n",
    "top_negative = \"The top 20 words most predictive of a bad review include: \"\n",
    "\n",
    "# I will also determine the length of the first 20 words plus the blank space for convenience later.\n",
    "neg_len = len(negative_df['labels'][0:21])\n",
    "\n",
    "# I will create a dumby variable for bookeeping\n",
    "k = 0\n",
    "\n",
    "# I will then run through all of the values in the negative data frame and add them to the sentence\n",
    "for i in negative_df['labels'][0:21]:\n",
    "    \n",
    "    # I want to exclude the blank space\n",
    "    if i != 'n_':\n",
    "        \n",
    "        # I want to add each word to the sentence, but I don't need the prefix \"n_\",\n",
    "        # so this is dropped from each word by removing the first 2 characters.\n",
    "        \n",
    "        # All words will be added to the sentence the same way,\n",
    "        # except there should be an \"and\" after the second to last item in the list\n",
    "        # and the last item should be followed by a period.\n",
    "        # Note: these words are 0 indexed in the list, so their position is\n",
    "        # the lenght of the list minus i minus 1.\n",
    "        if k < neg_len - 3:\n",
    "            top_negative += i[2:] + \", \"\n",
    "        elif k == neg_len - 2:\n",
    "            top_negative += i[2:] + \", and \"\n",
    "        else:\n",
    "            top_negative += i[2:] + \".\"\n",
    "    k += 1\n",
    "    \n",
    "print(top_negative)"
   ]
  },
  {
   "cell_type": "markdown",
   "id": "a9045dc6-507e-454d-a8bb-80ff8bb6ca2a",
   "metadata": {},
   "source": [
    "The top 20 words most predictive of a ***good*** review include: staff, excellent, lovely, great, friendly, helpful, room, everything, hotel, amaze, comfortable, fantastic, comfy, bed, love, perfect, service, beautifulstay, and really.  \n",
    "  \n",
    "The top 20 words most predictive of a ***bad*** review include: room, small, bed, staff, bathroom, poor, noisy, shower, work, tire, noise, need, air, tiny, date, uncomfortable, sleep, cleanwater, and double.  "
   ]
  },
  {
   "cell_type": "markdown",
   "id": "ec424f0b-b5f1-4809-a0d0-9b9d27e4532d",
   "metadata": {},
   "source": [
    "#### *Dimensionality Reduction*"
   ]
  },
  {
   "cell_type": "markdown",
   "id": "a71de394-cb20-4526-a65b-80eaabcd2578",
   "metadata": {},
   "source": [
    "The above analysis ran using 2,743 different features. While this is a robust data set, this amount of data results in long run times. Therefore, the option of dimensionality reduction will now be analyzed. In order to do this, I will use principal component analysis (PCA) to determine the effect of reducing the number of variables both on run time and on accuracy of the model."
   ]
  },
  {
   "cell_type": "code",
   "execution_count": 11,
   "id": "b57376c0-3934-4029-beff-81071e015f78",
   "metadata": {},
   "outputs": [],
   "source": [
    "# I will generate a list of possible numbers of components resulting from the PCA reduction\n",
    "n_comp = np.arange(5,101,5)\n",
    "\n",
    "# I will also create a list for storing how long each analysis took to complete.\n",
    "times = list()\n",
    "\n",
    "# And lastly, I will create a list for storing the accuracy of the models obtianed with \n",
    "# the different numbers of components\n",
    "scores = list()\n",
    "\n",
    "# This for loop will run through the possible number of components.\n",
    "for i in n_comp:\n",
    "    \n",
    "    # The start time of the calculation is stored.\n",
    "    start = time.time()\n",
    "    \n",
    "    # PCA is instantiated \n",
    "    pca = PCA(n_components=i)\n",
    "    \n",
    "    # The PCA is fitted using the training data\n",
    "    pca.fit(X_train)\n",
    "    \n",
    "    # The train and test data are then transformed using the PCA model\n",
    "    X_train_pca = pca.transform(X_train)\n",
    "    X_test_pca = pca.transform(X_test)\n",
    "    \n",
    "    # A logistic regression model is then instantiated\n",
    "    hotel_log_reg_pca = LogisticRegression(solver='lbfgs')\n",
    "    \n",
    "    # The logistic regression model is fit using the newly transformed training data\n",
    "    hotel_log_reg_pca.fit(X_train_pca, y_train)\n",
    "    \n",
    "    # The score of the new model obtined for the transformed test data is then stored in the scores list.\n",
    "    scores.append(hotel_log_reg_pca.score(X_test_pca, y_test))\n",
    "    \n",
    "    # The end time of the calculation is stored.\n",
    "    end = time.time()\n",
    "    \n",
    "    # The difference between the start and end time of the function\n",
    "    # is appended to the times list.\n",
    "    times.append(end - start)"
   ]
  },
  {
   "cell_type": "markdown",
   "id": "520810eb-99b1-46af-b4bc-c5fc4cee0571",
   "metadata": {},
   "source": [
    "Now that we have data on the relationship between dimensional reduction and both run time and model accuracy, these data will be plotted so that insights may be gained."
   ]
  },
  {
   "cell_type": "code",
   "execution_count": 30,
   "id": "944b21f1-9f33-4c9e-8657-9cc6077d274c",
   "metadata": {},
   "outputs": [
    {
     "data": {
      "image/png": "[encoded data removed]",
      "text/plain": [
       "<Figure size 576x288 with 2 Axes>"
      ]
     },
     "metadata": {
      "needs_background": "light"
     },
     "output_type": "display_data"
    }
   ],
   "source": [
    "# First, the run time is fitted to a line as a function of the number of dimensions.\n",
    "# The only data I will be using from this fit is the slope and intercept (the first two terms).\n",
    "m_t, b_t, r, p, std_err = stats.linregress(n_comp, times)\n",
    "\n",
    "# A multipanel plot is instantiated.\n",
    "plt.subplots(2, figsize=(8,4))\n",
    "\n",
    "plt.subplot(1,2,1)\n",
    "plt.plot(n_comp, times, marker='o', label='Run Time')\n",
    "plt.plot(n_comp, m_t * n_comp + b_t, label='Linear fit')\n",
    "plt.xlabel('n_components', size=12)\n",
    "plt.ylabel('Run Time (s)', size=12)\n",
    "plt.legend()\n",
    "plt.title('Run Time Increases with Component Count', size=12)\n",
    "\n",
    "plt.subplot(1,2,2)\n",
    "plt.plot(n_comp, scores, marker='o')\n",
    "plt.xlabel('n_components', size=12)\n",
    "plt.ylabel('Score', size=12)\n",
    "plt.title('Accuracy Plateaus at 20 Components', size=12)\n",
    "\n",
    "plt.tight_layout()\n",
    "sns.despine()\n",
    "plt.show()"
   ]
  },
  {
   "cell_type": "markdown",
   "id": "ef28043e-22ae-42be-a303-149ea72e0ec7",
   "metadata": {},
   "source": [
    "The run time appears to have a fairly linear correlation with the number of dimensions (or components) generated by the PCA model. Therefore, it can be concluded that the run time can be reduced by reducing the number of dimensions in our analyses. The accuracy of our model does is lowest with only 5 dimensions (~71% accuracy). This score increases to just under 77% with 15 dimensions. Significant improvement is not observed beyond 15 dimensions. Thus, PCA dimensional reduction can be used to reduce run time and slightly improve the accuracy of the model (original accuracy without PCA = 73%) "
   ]
  },
  {
   "cell_type": "markdown",
   "id": "2b7aeb12-fec1-45b6-8fa6-ee3ee17c97fb",
   "metadata": {},
   "source": [
    "#### *Advantages and Disadvantage of Dimensionality Reduction*"
   ]
  },
  {
   "cell_type": "markdown",
   "id": "aa21bb4d-f696-4dd3-a061-412196216405",
   "metadata": {},
   "source": [
    "PSA based dimensionality reduction has both advantages and disadvantages. For example, as was seen above, one benefit of dimensionality reduction is that it can improve model performance and runtime. However, one significant disadvantage is that the dimensions obtained from PCA are not usually very easy to interpret in a real world setting. "
   ]
  },
  {
   "cell_type": "markdown",
   "id": "06d40058-002d-4591-92bd-e334522a8f34",
   "metadata": {},
   "source": [
    "### *K-Nearest Neighbour classifier*"
   ]
  },
  {
   "cell_type": "markdown",
   "id": "f628f5af-7b56-4e43-ab53-5cb57a06f757",
   "metadata": {},
   "source": [
    "#### *Initial Model Fitting*"
   ]
  },
  {
   "cell_type": "markdown",
   "id": "9736ed09-f9f9-474a-93da-5ecf86a3d38e",
   "metadata": {},
   "source": [
    "The hotel review data will now be fit with a K-Nearest Neighbor (KNN) classifier. The results of this fit will then be refined and compared to the results obtained with logistic regression."
   ]
  },
  {
   "cell_type": "code",
   "execution_count": 13,
   "id": "bad7e224-05db-40e6-8747-0602a9706132",
   "metadata": {},
   "outputs": [
    {
     "data": {
      "text/plain": [
       "0.6482306069838294"
      ]
     },
     "execution_count": 13,
     "metadata": {},
     "output_type": "execute_result"
    }
   ],
   "source": [
    "# Instantiation of the KNN classifier\n",
    "knn = KNeighborsClassifier()\n",
    "\n",
    "# Fitting of the model to the train data\n",
    "knn.fit(X_train, y_train)\n",
    "\n",
    "# Scoring the model\n",
    "knn.score(X_test, y_test)"
   ]
  },
  {
   "cell_type": "markdown",
   "id": "0d7d36f7-29ad-419c-8dfa-f5ea213b174e",
   "metadata": {},
   "source": [
    "This model resulted in an accuracy of 64.8%, which is significantly less than the 71.8% value obtained with logistic regression and the 76.8% value obtained with logistic regression and PCA."
   ]
  },
  {
   "cell_type": "markdown",
   "id": "42de7ef1-7cb4-464f-b758-f64934fbe1a7",
   "metadata": {},
   "source": [
    "#### *K Neighbors vs Run-Time and Model Accuracy*"
   ]
  },
  {
   "cell_type": "markdown",
   "id": "220b925c-6176-44cf-ac6b-8141cfe57976",
   "metadata": {},
   "source": [
    "In order to optimize the KNN model, a relation must be determined between the primary hyperparameter of the model (the number of nearest neighbors used) and the run time and model accuracy."
   ]
  },
  {
   "cell_type": "code",
   "execution_count": 14,
   "id": "cb16add0-14a6-40ad-bd2e-2b7319acbe80",
   "metadata": {},
   "outputs": [],
   "source": [
    "# First, a list of possible numbers of nearest neighbors is generated.\n",
    "k_neighbors = np.arange(5,101,5)\n",
    "\n",
    "# Second, a list is created for storing the runtimes associeted with \n",
    "# the different numbers of neighbors.\n",
    "knn_times = list()\n",
    "\n",
    "# Third, a list is created for storing model accuracies.\n",
    "knn_k_scores = list()\n",
    "\n",
    "# Each potential value of nearest neighbors is itterated upon.\n",
    "for i in k_neighbors:\n",
    "    \n",
    "    # The start time of the calculation is stored. \n",
    "    start = time.time()\n",
    "    \n",
    "    # The model is instantiated with a variable number of neighbors\n",
    "    knn_i = KNeighborsClassifier(n_neighbors=i)\n",
    "    \n",
    "    # The model is fit on the traning data.\n",
    "    knn_i.fit(X_train, y_train)\n",
    "    \n",
    "    # The model is scored relative to the test data, \n",
    "    # and this score is appended to the scores list.\n",
    "    knn_k_scores.append(knn_i.score(X_test, y_test))\n",
    "    \n",
    "    # The end time of the calculation is stored.\n",
    "    end = time.time()\n",
    "    \n",
    "    # The difference between the start and end time of the function\n",
    "    # is appended to the time list.\n",
    "    knn_times.append(end - start)"
   ]
  },
  {
   "cell_type": "markdown",
   "id": "5883c586-a5d9-489c-afee-7f5dd70657a7",
   "metadata": {},
   "source": [
    "Now that we have data on the relationship between the number of nearest neighbors used and both run time and model accuracy, these data will be plotted so that insights may be gained."
   ]
  },
  {
   "cell_type": "code",
   "execution_count": 29,
   "id": "f250f534-6bc2-42ac-a216-cd85a54d0140",
   "metadata": {},
   "outputs": [
    {
     "data": {
      "image/png": "[encoded data removed]",
      "text/plain": [
       "<Figure size 576x288 with 2 Axes>"
      ]
     },
     "metadata": {
      "needs_background": "light"
     },
     "output_type": "display_data"
    }
   ],
   "source": [
    "# The run time is fitted to a line as a function of the number of neighbors.\n",
    "# Again, the only data of interest are the first two terms (the slope and intercept)\n",
    "m_k, b_k, r, p, std_err = stats.linregress(k_neighbors, knn_times)\n",
    "\n",
    "# A multipanel plot is instantiated\n",
    "plt.subplots(2, figsize=(8,4))\n",
    "\n",
    "plt.subplot(1,2,1)\n",
    "plt.plot(k_neighbors, knn_times, marker='o', label='Run Time')\n",
    "plt.plot(k_neighbors, m_k*k_neighbors + b_k, label='Linear fit')\n",
    "plt.xlabel('K neighbors', size=12)\n",
    "plt.ylabel('Run Time (s)', size=12)\n",
    "plt.legend()\n",
    "plt.title('Run Time Increases with Neighbor Count', size=12)\n",
    "\n",
    "plt.subplot(1,2,2)\n",
    "plt.plot(k_neighbors, knn_k_scores, marker='o')\n",
    "plt.xlabel('K neighbors', size=12)\n",
    "plt.ylabel('Score', size=12)\n",
    "plt.title('Accuracy Decreases with Neighbor Count', size=12)\n",
    "\n",
    "plt.tight_layout()\n",
    "sns.despine()\n",
    "plt.show()"
   ]
  },
  {
   "cell_type": "markdown",
   "id": "86b990e3-8801-4de7-bcc7-2bfe3105fba1",
   "metadata": {},
   "source": [
    "As can be seen in the plot above, the number of neighbors used in the KNN model is roughly linearly correlated with the run time of the model. Thus, the run time can be reduced by using fewer neighbors in the model. The accuracy of the model is relatively constant at around 64% to 65% When between 5 and 40 neighbors are used. Beyond this, the accuracy of the model decreases with the number of neighbors used as a result of over fitting. From these results it can be concluded that the KNN model is unlikely to outperform the logistic regression model."
   ]
  },
  {
   "cell_type": "markdown",
   "id": "36b59d93-8d28-442f-a8cf-d7c840e8adf7",
   "metadata": {},
   "source": [
    "#### *Advantages and Disadvantage of Reducing the Number of Neighbors*"
   ]
  },
  {
   "cell_type": "markdown",
   "id": "76046aad-77dd-48ef-a40f-3d7b9981fd53",
   "metadata": {},
   "source": [
    "Reducing the number of nearest neighbors used in a KNN model results in faster run times and sometimes in better model accuracy. However, reducing the number of neighbors used too far can result in under fitting the model.  \n",
    "\n",
    "Similarly, using too few observation to train the model will result in poor model performance, but using too many observations in your train set will result in excessively long train times."
   ]
  },
  {
   "cell_type": "markdown",
   "id": "ee60aec3-5825-49df-8c8a-a3236e41e56b",
   "metadata": {},
   "source": [
    "#### *Optimizing K in the KNN Model*"
   ]
  },
  {
   "cell_type": "markdown",
   "id": "c66f2521-41c8-40e1-8555-41ebe7b44df1",
   "metadata": {},
   "source": [
    "Now that the model has been tested and a relationship between K and runtime and performance have been established, I will use a grid search to find the optimal value for K. I will only look at odd values (to avoid ties) between 1 and 39, the range observed to be approximately invariant in the above tests."
   ]
  },
  {
   "cell_type": "code",
   "execution_count": 16,
   "id": "0d8d5e91-09be-45d5-b727-9823adabe2b3",
   "metadata": {},
   "outputs": [
    {
     "data": {
      "text/plain": [
       "GridSearchCV(cv=2,\n",
       "             estimator=Pipeline(steps=[('normalise', StandardScaler()),\n",
       "                                       ('model', KNeighborsClassifier())]),\n",
       "             param_grid={'model__n_neighbors': array([ 1,  3,  5,  7,  9, 11, 13, 15, 17, 19, 21, 23, 25, 27, 29, 31, 33,\n",
       "       35, 37, 39])})"
      ]
     },
     "execution_count": 16,
     "metadata": {},
     "output_type": "execute_result"
    }
   ],
   "source": [
    "# I will use a pipeline setup to expedite analysis\n",
    "# I will use an estimator that first scales the data and then fits it with a KNN Model. \n",
    "estimators = [('normalise', StandardScaler()),\n",
    "              ('model', KNeighborsClassifier())]\n",
    "\n",
    "# The estimator is then fed into a pipeline\n",
    "pipe = Pipeline(estimators)\n",
    "\n",
    "# The parameters to be tested for in the grid search are established.\n",
    "params = {'model__n_neighbors': np.arange(1,40,2)}\n",
    "\n",
    "# The grid is instantiated. The data will be split into 2 sets for validation.\n",
    "knn_grid = GridSearchCV(pipe, param_grid=params, cv=2)\n",
    "\n",
    "# And, the grid is fit with the training data.\n",
    "knn_grid.fit(X_train, y_train)"
   ]
  },
  {
   "cell_type": "markdown",
   "id": "da6d145f-210b-4c83-b5dc-c0ac2b39b9e5",
   "metadata": {},
   "source": [
    "Now that the model is trained, it is important to determine the set of conditions that resulted in the best fit to the training and validation data and how this fit stacks up against the testing data."
   ]
  },
  {
   "cell_type": "code",
   "execution_count": 17,
   "id": "17609c79-dc5d-4e81-a247-724fca9a7bf9",
   "metadata": {},
   "outputs": [
    {
     "name": "stdout",
     "output_type": "stream",
     "text": [
      "Pipeline(steps=[('normalise', StandardScaler()),\n",
      "                ('model', KNeighborsClassifier(n_neighbors=23))])\n"
     ]
    },
    {
     "data": {
      "text/plain": [
       "0.6871338176704945"
      ]
     },
     "execution_count": 17,
     "metadata": {},
     "output_type": "execute_result"
    }
   ],
   "source": [
    "# The parameters of the optimal fit are derived from the model.\n",
    "print(knn_grid.best_estimator_)\n",
    "\n",
    "# The model is scored against the test data.\n",
    "knn_grid.score(X_test, y_test)"
   ]
  },
  {
   "cell_type": "markdown",
   "id": "3492387c-4edf-41db-a3ab-7e02fcd5c07c",
   "metadata": {},
   "source": [
    "The best KNN model was found to have 23 neighbors, but an accuracy of only 68.7% was obtained with this model, which is still less than that obtained with the PCA and logistic regression model (76.8% accuracy)."
   ]
  },
  {
   "cell_type": "markdown",
   "id": "4512eece-8d47-481c-8ac5-fab2f1a6d9c7",
   "metadata": {},
   "source": [
    "#### *Issue with Splitting Into Train and Validation After Vectorization*"
   ]
  },
  {
   "cell_type": "markdown",
   "id": "861a13cc-66dc-449c-9010-a6d2cd04ceda",
   "metadata": {},
   "source": [
    "It should be noted here that the text data were vectorized here before splitting the data into train and validation sets. This is not strictly proper, as the validation and train sets are thus already dependent on one another."
   ]
  },
  {
   "cell_type": "markdown",
   "id": "b642e595-92aa-4fd9-b898-e7417b189714",
   "metadata": {},
   "source": [
    "### *Decision Tree Classifier*"
   ]
  },
  {
   "cell_type": "markdown",
   "id": "006f8ba8-f5b0-45d5-a42e-8b9e68d1cdbf",
   "metadata": {},
   "source": [
    "#### *Initial Model Fitting*"
   ]
  },
  {
   "cell_type": "markdown",
   "id": "7f2ad182-4be2-4ee7-ac27-819d783d4e37",
   "metadata": {},
   "source": [
    "The hotel review data will now be fit with a Decision Tree Classifier. The results of this fit will then be refined and compared to the results obtained with logistic regression."
   ]
  },
  {
   "cell_type": "code",
   "execution_count": 18,
   "id": "7a2bee8a-1083-473e-b573-3476f20f9396",
   "metadata": {},
   "outputs": [
    {
     "data": {
      "text/plain": [
       "0.701195219123506"
      ]
     },
     "execution_count": 18,
     "metadata": {},
     "output_type": "execute_result"
    }
   ],
   "source": [
    "# Instantiation of the Decision Tree classifier\n",
    "decision_tree = DecisionTreeClassifier()\n",
    "\n",
    "# Fitting of the model to the train data\n",
    "decision_tree.fit(X_train, y_train)\n",
    "\n",
    "# Scoring the model\n",
    "decision_tree.score(X_test, y_test)"
   ]
  },
  {
   "cell_type": "markdown",
   "id": "06bc4838-3645-40a2-b139-909241995f63",
   "metadata": {},
   "source": [
    "This model resulted in an accuracy of 69.4%, which is better than the best value obtained for the KNN model (68.7%). However, this value is still significantly less than the 76.8% value obtained with logistic regression and PCA."
   ]
  },
  {
   "cell_type": "markdown",
   "id": "4ae9f446-1739-41a9-9bdf-300ffd0220aa",
   "metadata": {},
   "source": [
    "#### *Optimization of Decision Tree Depth*"
   ]
  },
  {
   "cell_type": "markdown",
   "id": "e453c2e5-e00e-4485-a850-79492a3d3fb9",
   "metadata": {},
   "source": [
    "In order to optimize the Decision Tree model, the maximum number of decision branches must be determined. This will be accomplished here using a grid search. In order to avoid over fitting and to prevent excessive run times, odd values between 1 and 51 will be considered."
   ]
  },
  {
   "cell_type": "code",
   "execution_count": 19,
   "id": "2b674b52-a2c1-46e7-91e2-e501f0f86766",
   "metadata": {},
   "outputs": [
    {
     "data": {
      "text/plain": [
       "GridSearchCV(cv=2,\n",
       "             estimator=Pipeline(steps=[('model', DecisionTreeClassifier())]),\n",
       "             param_grid={'model__max_depth': array([ 1,  3,  5,  7,  9, 11, 13, 15, 17, 19, 21, 23, 25, 27, 29, 31, 33,\n",
       "       35, 37, 39, 41, 43, 45, 47, 49, 51])})"
      ]
     },
     "execution_count": 19,
     "metadata": {},
     "output_type": "execute_result"
    }
   ],
   "source": [
    "# I will use an estimator that fits the data with a  Decision Tree Model. \n",
    "estimators_dt = [('model', DecisionTreeClassifier())]\n",
    "\n",
    "# The estimator is then fed into a pipeline\n",
    "pipe_dt = Pipeline(estimators_dt)\n",
    "\n",
    "# The parameters to be tested for in the grid search are established.\n",
    "params_dt = {'model__max_depth': np.arange(1,52,2)}\n",
    "\n",
    "# The grid is instantiated. The data will be split into 2 sets for validation.\n",
    "dt_grid = GridSearchCV(pipe_dt, param_grid=params_dt, cv=2)\n",
    "\n",
    "# And, the grid is fit with the training data.\n",
    "dt_grid.fit(X_train, y_train)"
   ]
  },
  {
   "cell_type": "markdown",
   "id": "c12af431-d1fe-46b1-ad11-7806ddabe59b",
   "metadata": {},
   "source": [
    "Now that the model is trained, it is important to determine the set of conditions that resulted in the best fit to the training and validation data and how this fit stacks up against the testing data."
   ]
  },
  {
   "cell_type": "code",
   "execution_count": 20,
   "id": "d8582bf1-fd50-4a70-bcf0-cb74dba9739d",
   "metadata": {},
   "outputs": [
    {
     "name": "stdout",
     "output_type": "stream",
     "text": [
      "Pipeline(steps=[('model', DecisionTreeClassifier(max_depth=5))])\n"
     ]
    },
    {
     "data": {
      "text/plain": [
       "0.7398640731192876"
      ]
     },
     "execution_count": 20,
     "metadata": {},
     "output_type": "execute_result"
    }
   ],
   "source": [
    "# The parameters of the optimal fit are derived from the model.\n",
    "print(dt_grid.best_estimator_)\n",
    "\n",
    "# The model is scored against the test data.\n",
    "dt_grid.score(X_test, y_test)"
   ]
  },
  {
   "cell_type": "markdown",
   "id": "fff3d302-2d56-47b5-9725-7f87bbb6e9d0",
   "metadata": {},
   "source": [
    "The best Decision Tree model was found to have a max depth of only 5. This model resulted in an accuracy of 74.0%. This value is higher than that obtained with the KNN model, but still less than that obtained with PCA and logistic regression (76.8%)."
   ]
  },
  {
   "cell_type": "markdown",
   "id": "1f338fb1-01dd-46fc-bbff-4549904358aa",
   "metadata": {},
   "source": [
    "#### *Advantages and Weaknesses of Decision Trees*"
   ]
  },
  {
   "cell_type": "markdown",
   "id": "acb79eb0-5d81-4c97-8549-f3b564439e16",
   "metadata": {},
   "source": [
    "There are advantages and disadvantages of using decision tree classifiers. Two advantages to decision trees are that the data does not need to be scaled and the results from a decision tree are often more easily interpreted than the results of KNN model. Two weaknesses of decision trees are that decision trees can easily over fit the data and decision trees are fairly unstable, meaning they can be dramatically affected structurally by small changes in the data."
   ]
  },
  {
   "cell_type": "markdown",
   "id": "db660c3a-2b8b-4f86-b891-c34811246e79",
   "metadata": {},
   "source": [
    "### *The Purpose of the Validation Set*"
   ]
  },
  {
   "cell_type": "markdown",
   "id": "86815c84-0d46-474f-8134-30a97f557151",
   "metadata": {},
   "source": [
    "It is always the goal of to improve our model by testing it against real data. However, we don't want any information from our test set getting back into our trained model. If this happens, we are no longer able to provide a blind accuracy score of our model. Therefore, we make an additional quasi-test set called the validation set that we can test our model against in order to make iterative improvements."
   ]
  },
  {
   "cell_type": "markdown",
   "id": "400f01e8-1e38-41b8-85e5-5fc871b9a237",
   "metadata": {},
   "source": [
    "### *Logistic Regression Hyperparameter Optimization*"
   ]
  },
  {
   "cell_type": "markdown",
   "id": "b0ad9fb1-80ab-401a-a3fb-c1a3145ad325",
   "metadata": {},
   "source": [
    "The logistic regression model obtained using a PCA with 15 component was found to give the best results. This model will now be optimized for the `C` value associated with the `l2` penalty."
   ]
  },
  {
   "cell_type": "markdown",
   "id": "4be41a58-031f-4042-a707-c0914e9e7ef6",
   "metadata": {},
   "source": [
    "#### *5-fold Cross Validation*"
   ]
  },
  {
   "cell_type": "code",
   "execution_count": 21,
   "id": "59768e71-06dc-478b-b354-a161470179b6",
   "metadata": {},
   "outputs": [
    {
     "data": {
      "text/plain": [
       "GridSearchCV(cv=5,\n",
       "             estimator=Pipeline(steps=[('pca', PCA(n_components=15)),\n",
       "                                       ('model', LogisticRegression())]),\n",
       "             param_grid=[{'model__C': [0.0005, 0.00075, 0.001, 0.0025, 0.005,\n",
       "                                       0.1, 0.5, 1],\n",
       "                          'model__penalty': ['l2'],\n",
       "                          'model__solver': ['lbfgs']}])"
      ]
     },
     "execution_count": 21,
     "metadata": {},
     "output_type": "execute_result"
    }
   ],
   "source": [
    "# I will use an estimator that first fits the data to 15 dimensions\n",
    "# and then fits it with lgoistic regression model. \n",
    "estimators_5f = [('pca', PCA(n_components=15)),\n",
    "                 ('model', LogisticRegression())]\n",
    "\n",
    "# The estimator is then fed into a pipeline\n",
    "pipe_5f = Pipeline(estimators_5f)\n",
    "\n",
    "# The parameters to be tested for in the grid search are established.\n",
    "# I am optimizing the C variable\n",
    "params_5f = [\n",
    "    {\n",
    "        'model__penalty': ['l2'],\n",
    "        'model__C': [0.0005, 0.00075, 0.001, 0.0025, 0.005, 0.1, 0.5, 1],\n",
    "        'model__solver': ['lbfgs']\n",
    "    }\n",
    "]\n",
    "\n",
    "# The grid is instantiated. The data will be split into train \n",
    "# and validation data 5 different times for testing.\n",
    "grid_5f = GridSearchCV(pipe_5f, param_grid=params_5f, cv=5)\n",
    "\n",
    "# And, the grid is fit with the training data.\n",
    "grid_5f.fit(X_train, y_train)"
   ]
  },
  {
   "cell_type": "markdown",
   "id": "c7c11654-edbf-477f-97e9-6192aaf7c271",
   "metadata": {},
   "source": [
    "Now that the model is trained, it is important to determine the set of conditions that resulted in the best fit to the training and validation data and how this fit stacks up against the testing data."
   ]
  },
  {
   "cell_type": "code",
   "execution_count": 22,
   "id": "8902a2d6-61c3-466a-96fa-8c77cab80ed3",
   "metadata": {},
   "outputs": [
    {
     "name": "stdout",
     "output_type": "stream",
     "text": [
      "Pipeline(steps=[('pca', PCA(n_components=15)),\n",
      "                ('model', LogisticRegression(C=0.0025))])\n"
     ]
    },
    {
     "data": {
      "text/plain": [
       "0.76728380595266"
      ]
     },
     "execution_count": 22,
     "metadata": {},
     "output_type": "execute_result"
    }
   ],
   "source": [
    "# The parameters of the optimal fit are derived from the model.\n",
    "print(grid_5f.best_estimator_)\n",
    "\n",
    "# The model is scored against the test data.\n",
    "grid_5f.score(X_test, y_test)"
   ]
  },
  {
   "cell_type": "markdown",
   "id": "4431840f-55ff-40f2-a738-45a31ed92a29",
   "metadata": {},
   "source": [
    "For this model, an accuracy score of only 75.1% is obtained. This is less than the original 76.8% obtained with logistic regression and PCA. However, the 75.1% value is obtained with a more confidently trained model. This value is obtained with a C value of 0.001."
   ]
  },
  {
   "cell_type": "markdown",
   "id": "a72111d4-3938-4b31-b464-3d3b6265e879",
   "metadata": {},
   "source": [
    "#### *Confusion Matrix*"
   ]
  },
  {
   "cell_type": "markdown",
   "id": "c76ce81a-363e-4cb9-a104-2eaaf15292af",
   "metadata": {},
   "source": [
    "In order to visualize where the model is doing well and where it is failing, a confusion matrix will be plotted."
   ]
  },
  {
   "cell_type": "code",
   "execution_count": 23,
   "id": "edf56675-908c-4dfe-9719-1f51bc3b366b",
   "metadata": {},
   "outputs": [
    {
     "data": {
      "image/png": "[encoded data removed]",
      "text/plain": [
       "<Figure size 432x288 with 2 Axes>"
      ]
     },
     "metadata": {
      "needs_background": "light"
     },
     "output_type": "display_data"
    }
   ],
   "source": [
    "# Get class predictions\n",
    "y_pred = grid_5f.predict(X_test)\n",
    "\n",
    "# Generate confusion matrix\n",
    "cf_matrix = confusion_matrix(y_test, y_pred)\n",
    "\n",
    "# the function expects the estimator, inputs and target as parameters\n",
    "plot_confusion_matrix(grid_5f, X_test, y_test, normalize='all');"
   ]
  },
  {
   "cell_type": "markdown",
   "id": "137e7949-4d5a-43a5-8d2f-71edbd1e038d",
   "metadata": {},
   "source": [
    "From the confusion matrix it can be seen that 27% of the reviews are being properly labeled as negative reviews, 48% are being properly labeled as positive reviews, 15% are being improperly labeled as positive reviews when they are actually negative reviews (Type I error), and 9.7% are being improperly labeled as positive reviews when they are actually negative reviews (Type II error)."
   ]
  },
  {
   "cell_type": "markdown",
   "id": "96303596-825b-471e-b311-a26b11ef7610",
   "metadata": {},
   "source": [
    "### *Feature Manufacturing*"
   ]
  },
  {
   "cell_type": "markdown",
   "id": "9b6fa762-3be8-4f12-8c66-8a3410a4bd14",
   "metadata": {},
   "source": [
    "#### *A New Feature*"
   ]
  },
  {
   "cell_type": "markdown",
   "id": "39a97754-feed-4921-ba02-16a680e10c67",
   "metadata": {},
   "source": [
    "Now that a confident model is coming closer to fruition, some of the features included in the model can be used to manufacture new features. Here, the `month_of_review` column will be modeled into a new feature. Since the month is a cycle value that repeats every year, the `month_of_review` column will be mapped onto a circle to capture this cyclic nature. This will be done by converting the month into sine and cosine values with a period of 12 months."
   ]
  },
  {
   "cell_type": "code",
   "execution_count": 24,
   "id": "b380d48d-7bcd-4177-8682-016522731a21",
   "metadata": {},
   "outputs": [
    {
     "data": {
      "text/html": [
       "<div>\n",
       "<style scoped>\n",
       "    .dataframe tbody tr th:only-of-type {\n",
       "        vertical-align: middle;\n",
       "    }\n",
       "\n",
       "    .dataframe tbody tr th {\n",
       "        vertical-align: top;\n",
       "    }\n",
       "\n",
       "    .dataframe thead th {\n",
       "        text-align: right;\n",
       "    }\n",
       "</style>\n",
       "<table border=\"1\" class=\"dataframe\">\n",
       "  <thead>\n",
       "    <tr style=\"text-align: right;\">\n",
       "      <th></th>\n",
       "      <th>month_cos</th>\n",
       "      <th>month_sin</th>\n",
       "    </tr>\n",
       "  </thead>\n",
       "  <tbody>\n",
       "    <tr>\n",
       "      <th>10317</th>\n",
       "      <td>0.500000</td>\n",
       "      <td>-8.660254e-01</td>\n",
       "    </tr>\n",
       "    <tr>\n",
       "      <th>162</th>\n",
       "      <td>0.866025</td>\n",
       "      <td>-5.000000e-01</td>\n",
       "    </tr>\n",
       "    <tr>\n",
       "      <th>4281</th>\n",
       "      <td>-0.866025</td>\n",
       "      <td>5.000000e-01</td>\n",
       "    </tr>\n",
       "    <tr>\n",
       "      <th>2186</th>\n",
       "      <td>1.000000</td>\n",
       "      <td>-2.449294e-16</td>\n",
       "    </tr>\n",
       "    <tr>\n",
       "      <th>1964</th>\n",
       "      <td>-0.500000</td>\n",
       "      <td>8.660254e-01</td>\n",
       "    </tr>\n",
       "  </tbody>\n",
       "</table>\n",
       "</div>"
      ],
      "text/plain": [
       "       month_cos     month_sin\n",
       "10317   0.500000 -8.660254e-01\n",
       "162     0.866025 -5.000000e-01\n",
       "4281   -0.866025  5.000000e-01\n",
       "2186    1.000000 -2.449294e-16\n",
       "1964   -0.500000  8.660254e-01"
      ]
     },
     "metadata": {},
     "output_type": "display_data"
    },
    {
     "data": {
      "text/html": [
       "<div>\n",
       "<style scoped>\n",
       "    .dataframe tbody tr th:only-of-type {\n",
       "        vertical-align: middle;\n",
       "    }\n",
       "\n",
       "    .dataframe tbody tr th {\n",
       "        vertical-align: top;\n",
       "    }\n",
       "\n",
       "    .dataframe thead th {\n",
       "        text-align: right;\n",
       "    }\n",
       "</style>\n",
       "<table border=\"1\" class=\"dataframe\">\n",
       "  <thead>\n",
       "    <tr style=\"text-align: right;\">\n",
       "      <th></th>\n",
       "      <th>month_cos</th>\n",
       "      <th>month_sin</th>\n",
       "    </tr>\n",
       "  </thead>\n",
       "  <tbody>\n",
       "    <tr>\n",
       "      <th>3711</th>\n",
       "      <td>5.000000e-01</td>\n",
       "      <td>0.866025</td>\n",
       "    </tr>\n",
       "    <tr>\n",
       "      <th>3146</th>\n",
       "      <td>-5.000000e-01</td>\n",
       "      <td>0.866025</td>\n",
       "    </tr>\n",
       "    <tr>\n",
       "      <th>1848</th>\n",
       "      <td>6.123234e-17</td>\n",
       "      <td>1.000000</td>\n",
       "    </tr>\n",
       "    <tr>\n",
       "      <th>1227</th>\n",
       "      <td>-5.000000e-01</td>\n",
       "      <td>-0.866025</td>\n",
       "    </tr>\n",
       "    <tr>\n",
       "      <th>3154</th>\n",
       "      <td>-8.660254e-01</td>\n",
       "      <td>0.500000</td>\n",
       "    </tr>\n",
       "  </tbody>\n",
       "</table>\n",
       "</div>"
      ],
      "text/plain": [
       "         month_cos  month_sin\n",
       "3711  5.000000e-01   0.866025\n",
       "3146 -5.000000e-01   0.866025\n",
       "1848  6.123234e-17   1.000000\n",
       "1227 -5.000000e-01  -0.866025\n",
       "3154 -8.660254e-01   0.500000"
      ]
     },
     "metadata": {},
     "output_type": "display_data"
    }
   ],
   "source": [
    "# Create a base angle for mapping the month onto a circle\n",
    "month_base_angle = 2 * math.pi / 12\n",
    "\n",
    "# Create cosine and sine columns for the data \n",
    "# For the train data\n",
    "month_cos_train = np.cos(X_train['month_of_review'] * month_base_angle)\n",
    "month_sin_train = np.sin(X_train['month_of_review'] * month_base_angle)\n",
    "\n",
    "# For the test data\n",
    "month_cos_test = np.cos(X_test['month_of_review'] * month_base_angle)\n",
    "month_sin_test = np.sin(X_test['month_of_review'] * month_base_angle)\n",
    "\n",
    "# Add the sine and cosine columns to the categorical data frame\n",
    "# For train data\n",
    "X_train['month_cos'] = month_cos_train\n",
    "X_train['month_sin'] = month_sin_train\n",
    "\n",
    "# For test data\n",
    "X_test['month_cos'] = month_cos_test\n",
    "X_test['month_sin'] = month_sin_test\n",
    "\n",
    "# Ensure that the columns were created properly\n",
    "display(X_train[['month_cos', 'month_sin']].sample(5))\n",
    "display(X_test[['month_cos', 'month_sin']].sample(5))"
   ]
  },
  {
   "cell_type": "markdown",
   "id": "d30acb5d-379b-4ae7-bb9c-4948f7775042",
   "metadata": {},
   "source": [
    "The `month_of_review` column has successfully been used to create cyclic representations of the month. "
   ]
  },
  {
   "cell_type": "markdown",
   "id": "cf7bbab8-441f-4007-acaa-50cd7ca4531e",
   "metadata": {},
   "source": [
    "#### *Re-optimize of the Best Model with the New Feature*"
   ]
  },
  {
   "cell_type": "markdown",
   "id": "3921ea31-6fe1-4ded-b6e0-7fff0101c772",
   "metadata": {},
   "source": [
    "The newly modified data frame will now be used to try to obtain a better model."
   ]
  },
  {
   "cell_type": "code",
   "execution_count": 25,
   "id": "8ab7502a-ec80-471d-b3cd-d30e25ad8f1f",
   "metadata": {},
   "outputs": [
    {
     "data": {
      "text/plain": [
       "GridSearchCV(cv=5,\n",
       "             estimator=Pipeline(steps=[('pca', PCA(n_components=15)),\n",
       "                                       ('model', LogisticRegression())]),\n",
       "             param_grid=[{'model__C': [0.0005, 0.00075, 0.001, 0.0025, 0.005,\n",
       "                                       0.1, 0.5, 1],\n",
       "                          'model__penalty': ['l2'],\n",
       "                          'model__solver': ['lbfgs']}])"
      ]
     },
     "execution_count": 25,
     "metadata": {},
     "output_type": "execute_result"
    }
   ],
   "source": [
    "# I will use an estimator that first fits the data to 15 dimensions\n",
    "# and then fits it with lgoistic regression model. \n",
    "estimators_final = [('pca', PCA(n_components=15)),\n",
    "                    ('model', LogisticRegression())]\n",
    "\n",
    "# The estimator is then fed into a pipeline\n",
    "pipe_final = Pipeline(estimators_final)\n",
    "\n",
    "# The parameters to be tested for in the grid search are established.\n",
    "# I am optimizing the C variable\n",
    "params_final = [\n",
    "    {\n",
    "        'model__penalty': ['l2'],\n",
    "        'model__C': [0.0005, 0.00075, 0.001, 0.0025, 0.005, 0.1, 0.5, 1],\n",
    "        'model__solver': ['lbfgs']\n",
    "    }\n",
    "]\n",
    "\n",
    "# The grid is instantiated. The data will be split into train \n",
    "# and validation data 5 different times for testing.\n",
    "final_grid = GridSearchCV(pipe_final, param_grid=params_final, cv=5)\n",
    "\n",
    "# And, the grid is fit with the training data.\n",
    "final_grid.fit(X_train, y_train)"
   ]
  },
  {
   "cell_type": "markdown",
   "id": "446d517a-f7c3-4896-83df-fce140cb0513",
   "metadata": {},
   "source": [
    "Now that the model is trained, it is important to determine the set of conditions that resulted in the best fit to the training and validation data and how this fit stacks up against the testing data."
   ]
  },
  {
   "cell_type": "code",
   "execution_count": 26,
   "id": "aea21033-b88d-4b3f-809e-de85030ae783",
   "metadata": {},
   "outputs": [
    {
     "name": "stdout",
     "output_type": "stream",
     "text": [
      "{'model__C': 1, 'model__penalty': 'l2', 'model__solver': 'lbfgs'}\n"
     ]
    },
    {
     "data": {
      "text/plain": [
       "0.7623623154441059"
      ]
     },
     "execution_count": 26,
     "metadata": {},
     "output_type": "execute_result"
    }
   ],
   "source": [
    "# The parameters of the optimal fit are derived from the model.\n",
    "print(final_grid.best_params_)\n",
    "\n",
    "# The model is scored against the test data.\n",
    "final_grid.score(X_test, y_test)"
   ]
  },
  {
   "cell_type": "markdown",
   "id": "238c7a65-e382-417f-945b-3064dc8f5786",
   "metadata": {},
   "source": [
    "For this model, an accuracy score of 76.4% is obtained, which is nearly identical to the 76.8% obtained with logistic regression and PCA. This value is obtained with a C value of 0.0025."
   ]
  },
  {
   "cell_type": "markdown",
   "id": "d7ff44d5-9def-4080-8eaa-de3d5a19cc22",
   "metadata": {},
   "source": [
    "In order to visualize where the model is doing well and where it is failing, a confusion matrix will be plotted."
   ]
  },
  {
   "cell_type": "code",
   "execution_count": 27,
   "id": "8b15d3c7-3c98-4f58-b5e1-ff3244e3a833",
   "metadata": {},
   "outputs": [
    {
     "data": {
      "image/png": "[encoded data removed]",
      "text/plain": [
       "<Figure size 432x288 with 2 Axes>"
      ]
     },
     "metadata": {
      "needs_background": "light"
     },
     "output_type": "display_data"
    }
   ],
   "source": [
    "# Get class predictions\n",
    "y_pred = final_grid.predict(X_test)\n",
    "\n",
    "# Generate confusion matrix\n",
    "cf_matrix = confusion_matrix(y_test, y_pred)\n",
    "\n",
    "# the function expects the estimator, inputs and target as parameters\n",
    "plot_confusion_matrix(final_grid, X_test, y_test, normalize='all');"
   ]
  },
  {
   "cell_type": "markdown",
   "id": "8b3cffc8-0b31-45e4-acc1-9568c15e2fe3",
   "metadata": {},
   "source": [
    "From the confusion matrix it can be seen that 27% of the reviews are being properly labeled as negative reviews, 50% are being properly labeled as positive reviews, 16% are being improperly labeled as positive reviews when they are actually negative reviews (Type I error), and 7.8% are being improperly labeled as positive reviews when they are actually negative reviews (Type II error). This is a slight improvement for all assignment categories relative to the previous best model except the correct negatives are still at 27%."
   ]
  },
  {
   "cell_type": "markdown",
   "id": "35b6816c-d9f8-4693-b228-fd24267e7de9",
   "metadata": {},
   "source": [
    "## Conclusion  \n",
    "\n"
   ]
  },
  {
   "cell_type": "markdown",
   "id": "65c30159-923d-4632-9319-51243b3e9b37",
   "metadata": {},
   "source": [
    "Logistic regression and PCA dimensional reduction were used to obtain a model resulting in a 76.4% accuracy score versus an unknown data set. This model is superior to the K nearest neighbor value of 68.7% and the decision tree value of 69.4%. Thus, the logistic regression and PCA dimensional reduction model is the best found in this investigation for modeling hotel review sentiment analysis."
   ]
  },
  {
   "cell_type": "code",
   "execution_count": null,
   "id": "ca83faf4-4300-4cc3-8c67-98f9fa1deeaf",
   "metadata": {},
   "outputs": [],
   "source": []
  }
 ],
 "metadata": {
  "kernelspec": {
   "display_name": "Python 3",
   "language": "python",
   "name": "python3"
  },
  "language_info": {
   "codemirror_mode": {
    "name": "ipython",
    "version": 3
   },
   "file_extension": ".py",
   "mimetype": "text/x-python",
   "name": "python",
   "nbconvert_exporter": "python",
   "pygments_lexer": "ipython3",
   "version": "3.8.8"
  }
 },
 "nbformat": 4,
 "nbformat_minor": 5
}
