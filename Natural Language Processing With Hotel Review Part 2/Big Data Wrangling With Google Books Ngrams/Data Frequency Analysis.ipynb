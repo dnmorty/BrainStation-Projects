{
 "cells": [
  {
   "cell_type": "markdown",
   "id": "79ad44d5-b26a-477f-a621-910802c2a10b",
   "metadata": {},
   "source": [
    "# Data Frequency Analysis Notebook"
   ]
  },
  {
   "cell_type": "markdown",
   "id": "09f39e20-2793-49d1-84d7-036c33ced53e",
   "metadata": {},
   "source": [
    "This notebook will be used to investigate how usage of the word `data` has changed over the last few hundred years. First, I will need to impot my tools and data."
   ]
  },
  {
   "cell_type": "code",
   "execution_count": 1,
   "id": "c5d4b440-fbd0-4c0f-953e-0e7feca381de",
   "metadata": {},
   "outputs": [],
   "source": [
    "# Import tools\n",
    "import pandas as pd\n",
    "import matplotlib.pyplot as plt"
   ]
  },
  {
   "cell_type": "code",
   "execution_count": 2,
   "id": "54418b50-c833-4a2c-9bc3-a60b7eb20904",
   "metadata": {},
   "outputs": [
    {
     "data": {
      "text/html": [
       "<div>\n",
       "<style scoped>\n",
       "    .dataframe tbody tr th:only-of-type {\n",
       "        vertical-align: middle;\n",
       "    }\n",
       "\n",
       "    .dataframe tbody tr th {\n",
       "        vertical-align: top;\n",
       "    }\n",
       "\n",
       "    .dataframe thead th {\n",
       "        text-align: right;\n",
       "    }\n",
       "</style>\n",
       "<table border=\"1\" class=\"dataframe\">\n",
       "  <thead>\n",
       "    <tr style=\"text-align: right;\">\n",
       "      <th></th>\n",
       "      <th>token</th>\n",
       "      <th>year</th>\n",
       "      <th>frequency</th>\n",
       "      <th>pages</th>\n",
       "      <th>books</th>\n",
       "    </tr>\n",
       "  </thead>\n",
       "  <tbody>\n",
       "    <tr>\n",
       "      <th>0</th>\n",
       "      <td>data</td>\n",
       "      <td>1584</td>\n",
       "      <td>16</td>\n",
       "      <td>14</td>\n",
       "      <td>1</td>\n",
       "    </tr>\n",
       "    <tr>\n",
       "      <th>1</th>\n",
       "      <td>data</td>\n",
       "      <td>1614</td>\n",
       "      <td>3</td>\n",
       "      <td>2</td>\n",
       "      <td>1</td>\n",
       "    </tr>\n",
       "    <tr>\n",
       "      <th>2</th>\n",
       "      <td>data</td>\n",
       "      <td>1627</td>\n",
       "      <td>1</td>\n",
       "      <td>1</td>\n",
       "      <td>1</td>\n",
       "    </tr>\n",
       "    <tr>\n",
       "      <th>3</th>\n",
       "      <td>data</td>\n",
       "      <td>1631</td>\n",
       "      <td>22</td>\n",
       "      <td>18</td>\n",
       "      <td>1</td>\n",
       "    </tr>\n",
       "    <tr>\n",
       "      <th>4</th>\n",
       "      <td>data</td>\n",
       "      <td>1637</td>\n",
       "      <td>1</td>\n",
       "      <td>1</td>\n",
       "      <td>1</td>\n",
       "    </tr>\n",
       "  </tbody>\n",
       "</table>\n",
       "</div>"
      ],
      "text/plain": [
       "  token  year  frequency  pages  books\n",
       "0  data  1584         16     14      1\n",
       "1  data  1614          3      2      1\n",
       "2  data  1627          1      1      1\n",
       "3  data  1631         22     18      1\n",
       "4  data  1637          1      1      1"
      ]
     },
     "execution_count": 2,
     "metadata": {},
     "output_type": "execute_result"
    }
   ],
   "source": [
    "# Import engram data\n",
    "df = pd.read_csv('s3://bigdatabucket91621/eng_data_1gram.csv')\n",
    "\n",
    "# Confirm import successful\n",
    "df.head(5)"
   ]
  },
  {
   "cell_type": "markdown",
   "id": "71be3482-f5d7-4383-9c70-ce1ebaf78be0",
   "metadata": {},
   "source": [
    "All imports appear to have been successful. I will now plot the usage frequency of the word `data` as a function of time (years)."
   ]
  },
  {
   "cell_type": "code",
   "execution_count": 3,
   "id": "1d6d092d-e969-4b48-a43a-e1956980bd94",
   "metadata": {},
   "outputs": [
    {
     "data": {
      "image/png": "[encoded data removed]",
      "text/plain": [
       "<Figure size 360x216 with 1 Axes>"
      ]
     },
     "metadata": {
      "needs_background": "light"
     },
     "output_type": "display_data"
    }
   ],
   "source": [
    "plt.figure(figsize=(5,3))\n",
    "plt.plot(df['year'],df['frequency'])\n",
    "plt.xlabel('Year', size=12)\n",
    "plt.ylabel(\"'data' Usage Frequency\", size=12)\n",
    "plt.title(\"'Data' Usage Grew Significantly in Last 100 Years\", size=16)\n",
    "plt.show()"
   ]
  },
  {
   "cell_type": "markdown",
   "id": "b3d9f394-3891-4406-835d-fb3aebd97aa9",
   "metadata": {},
   "source": [
    "The usage of the word `data` was extremely low until about 1800, at which point it started to pick up. From there, it increased slowly until about 1900, wherein usage of `data` increased exponentially until a few years before 2000. The word usage appears to be on a downturn since then."
   ]
  }
 ],
 "metadata": {
  "kernelspec": {
   "display_name": "bigdata_ml",
   "language": "python",
   "name": "bigdata_ml"
  },
  "language_info": {
   "codemirror_mode": {
    "name": "ipython",
    "version": 3
   },
   "file_extension": ".py",
   "mimetype": "text/x-python",
   "name": "python",
   "nbconvert_exporter": "python",
   "pygments_lexer": "ipython3",
   "version": "3.8.11"
  }
 },
 "nbformat": 4,
 "nbformat_minor": 5
}
