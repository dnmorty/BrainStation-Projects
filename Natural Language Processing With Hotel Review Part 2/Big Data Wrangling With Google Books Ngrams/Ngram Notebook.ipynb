{
 "cells": [
  {
   "cell_type": "markdown",
   "metadata": {},
   "source": [
    "# Ngram Analysis and Filtering Notebook"
   ]
  },
  {
   "cell_type": "markdown",
   "metadata": {},
   "source": [
    "In this notebook, the `Ngram` data set will be imported, analyzed, filtered, and exported as a new data set."
   ]
  },
  {
   "cell_type": "code",
   "execution_count": 1,
   "metadata": {},
   "outputs": [
    {
     "name": "stdout",
     "output_type": "stream",
     "text": [
      "Starting Spark application\n"
     ]
    },
    {
     "data": {
      "text/html": [
       "<table>\n",
       "<tr><th>ID</th><th>YARN Application ID</th><th>Kind</th><th>State</th><th>Spark UI</th><th>Driver log</th><th>Current session?</th></tr><tr><td>1</td><td>application_1631753792564_0003</td><td>pyspark</td><td>idle</td><td><a target=\"_blank\" href=\"http://ip-172-31-44-136.us-west-2.compute.internal:20888/proxy/application_1631753792564_0003/\">Link</a></td><td><a target=\"_blank\" href=\"http://ip-172-31-37-39.us-west-2.compute.internal:8042/node/containerlogs/container_1631753792564_0003_01_000001/livy\">Link</a></td><td>✔</td></tr></table>"
      ],
      "text/plain": [
       "<IPython.core.display.HTML object>"
      ]
     },
     "metadata": {},
     "output_type": "display_data"
    },
    {
     "name": "stdout",
     "output_type": "stream",
     "text": [
      "SparkSession available as 'spark'.\n"
     ]
    }
   ],
   "source": [
    "# Import the engram data and convert it to a pandas data frame\n",
    "ngram_df = spark.read.csv(\"/user/hadoop/eng_1M_1gram/eng_1M_1gram.csv\", header=True)"
   ]
  },
  {
   "cell_type": "code",
   "execution_count": 2,
   "metadata": {},
   "outputs": [
    {
     "name": "stdout",
     "output_type": "stream",
     "text": [
      "+---------+----+---------+-----+-----+\n",
      "|    token|year|frequency|pages|books|\n",
      "+---------+----+---------+-----+-----+\n",
      "|inGermany|1927|        2|    2|    2|\n",
      "|inGermany|1929|        1|    1|    1|\n",
      "|inGermany|1930|        1|    1|    1|\n",
      "|inGermany|1933|        1|    1|    1|\n",
      "|inGermany|1934|        1|    1|    1|\n",
      "+---------+----+---------+-----+-----+\n",
      "only showing top 5 rows"
     ]
    }
   ],
   "source": [
    "# Confirm import success\n",
    "ngram_df.show(5)"
   ]
  },
  {
   "cell_type": "markdown",
   "metadata": {},
   "source": [
    "The data set appears to have been imported successfully. I will now need to see the schema of this data set."
   ]
  },
  {
   "cell_type": "code",
   "execution_count": 3,
   "metadata": {},
   "outputs": [
    {
     "name": "stdout",
     "output_type": "stream",
     "text": [
      "root\n",
      " |-- token: string (nullable = true)\n",
      " |-- year: string (nullable = true)\n",
      " |-- frequency: string (nullable = true)\n",
      " |-- pages: string (nullable = true)\n",
      " |-- books: string (nullable = true)"
     ]
    }
   ],
   "source": [
    "# Get ngram data frame schema\n",
    "ngram_df.printSchema()"
   ]
  },
  {
   "cell_type": "markdown",
   "metadata": {},
   "source": [
    "The ngram data frame has 5 columns, all of which are strings. These columns are:  \n",
    "- `token`: the word of interest\n",
    "- `year`: the year of interest\n",
    "- `frequency`: total number of times the word was used in the given year\n",
    "- `pages`: the number of pages containing the word of interest in the year of interest\n",
    "- `books`: the number of books containing the word of interest in the year of interest"
   ]
  },
  {
   "cell_type": "markdown",
   "metadata": {},
   "source": [
    "I will now check to see how many rows are in the data frame."
   ]
  },
  {
   "cell_type": "code",
   "execution_count": 4,
   "metadata": {},
   "outputs": [
    {
     "name": "stdout",
     "output_type": "stream",
     "text": [
      "261823225"
     ]
    }
   ],
   "source": [
    "# Count the number of rows in the data set.\n",
    "ngram_df.count()"
   ]
  },
  {
   "cell_type": "markdown",
   "metadata": {},
   "source": [
    "There are 261,823,225 rows of data, or a little more than a quarter billion rows. We want to filter this so that we are only looking at rows corresponding to the word `data`. This will be done using a SQL function built into spark. "
   ]
  },
  {
   "cell_type": "code",
   "execution_count": 6,
   "metadata": {},
   "outputs": [
    {
     "name": "stdout",
     "output_type": "stream",
     "text": [
      "+-----+----+---------+-----+-----+\n",
      "|token|year|frequency|pages|books|\n",
      "+-----+----+---------+-----+-----+\n",
      "| data|1584|       16|   14|    1|\n",
      "| data|1614|        3|    2|    1|\n",
      "| data|1627|        1|    1|    1|\n",
      "| data|1631|       22|   18|    1|\n",
      "| data|1637|        1|    1|    1|\n",
      "| data|1638|        2|    2|    1|\n",
      "| data|1640|        1|    1|    1|\n",
      "| data|1642|        1|    1|    1|\n",
      "| data|1644|        4|    4|    1|\n",
      "| data|1647|        1|    1|    1|\n",
      "+-----+----+---------+-----+-----+\n",
      "only showing top 10 rows"
     ]
    }
   ],
   "source": [
    "# Create a SQL view of the ngram data frame\n",
    "ngram_df.createOrReplaceTempView(\"ngram_view\")\n",
    "# Run the SQL query and confirm that it ran successfully.\n",
    "spark.sql(\" \\\n",
    "          SELECT * \\\n",
    "          FROM ngram_view \\\n",
    "          WHERE token = 'data'\\\n",
    "          \").show(10)"
   ]
  },
  {
   "cell_type": "markdown",
   "metadata": {},
   "source": [
    "The SQL querry appears to have worked correctly. The data has all been filtered. I will now put this filtered data into a new data frame."
   ]
  },
  {
   "cell_type": "code",
   "execution_count": 7,
   "metadata": {},
   "outputs": [
    {
     "name": "stdout",
     "output_type": "stream",
     "text": [
      "+-----+----+---------+-----+-----+\n",
      "|token|year|frequency|pages|books|\n",
      "+-----+----+---------+-----+-----+\n",
      "| data|1584|       16|   14|    1|\n",
      "| data|1614|        3|    2|    1|\n",
      "| data|1627|        1|    1|    1|\n",
      "| data|1631|       22|   18|    1|\n",
      "| data|1637|        1|    1|    1|\n",
      "+-----+----+---------+-----+-----+\n",
      "only showing top 5 rows"
     ]
    }
   ],
   "source": [
    "# Set a new data frame, \"data_df,\" equal to the SQL search\n",
    "data_df = spark.sql(\" \\\n",
    "          SELECT * \\\n",
    "          FROM ngram_view \\\n",
    "          WHERE token = 'data'\\\n",
    "          \")\n",
    "# Confirm that the data frame was created successfully.\n",
    "data_df.show(5)"
   ]
  },
  {
   "cell_type": "markdown",
   "metadata": {},
   "source": [
    "The data frame appears to have been created successfully. I will now check how many rows are in this new data frame."
   ]
  },
  {
   "cell_type": "code",
   "execution_count": 8,
   "metadata": {},
   "outputs": [
    {
     "name": "stdout",
     "output_type": "stream",
     "text": [
      "316"
     ]
    }
   ],
   "source": [
    "# Count rows in the data frame\n",
    "data_df.count()"
   ]
  },
  {
   "cell_type": "markdown",
   "metadata": {},
   "source": [
    "There are 316 rows in this new data frame, meaning that the word `data` has been found in books published in 316 different years.  \n",
    "We now need to export this data frame for further analysis."
   ]
  },
  {
   "cell_type": "code",
   "execution_count": 9,
   "metadata": {},
   "outputs": [],
   "source": [
    "# export the data frame\n",
    "data_df.write.csv('/user/hadoop/eng_data_1gram/eng_1M_1gram_data_token.csv', header=True)"
   ]
  }
 ],
 "metadata": {
  "kernelspec": {
   "display_name": "Python 3",
   "language": "python",
   "name": "python3"
  },
  "language_info": {
   "codemirror_mode": {
    "name": "ipython",
    "version": 3
   },
   "file_extension": ".py",
   "mimetype": "text/x-python",
   "name": "python",
   "nbconvert_exporter": "python",
   "pygments_lexer": "ipython3",
   "version": "3.8.8"
  }
 },
 "nbformat": 4,
 "nbformat_minor": 4
}
