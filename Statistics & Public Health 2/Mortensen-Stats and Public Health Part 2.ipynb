{
 "cells": [
  {
   "cell_type": "markdown",
   "id": "d901def2-a950-4de0-9595-181e8a86c7e0",
   "metadata": {},
   "source": [
    "# Stats and Public Health Part 2: Data Analysis\n",
    "### Daniel Mortensen\n",
    "10-Aug-2021"
   ]
  },
  {
   "cell_type": "markdown",
   "id": "73e469ed-3493-4ca1-bd5d-e8a3aefa7257",
   "metadata": {},
   "source": [
    "## Introduction  \n",
    "Chicago, the last bastion of human civilization, is on the verge of collapse, as the deadly West Nile Virus (WNV) rages on without mercy. With time running out, the mayor takes a desperate chance by turning to an old data scientist with a checkered past, whose python skills might just be enough to stave off extinction. But with his daughter missing and his son coming down with the chicken pox, will the data scientist be able to focus enough to pull it off? Find out in this thrilling report. Oh, and maybe there's a dragon or something.   \n",
    "  \n",
    "*Task Summary*  \n",
    "1. Determine the average number of mosquitoes caught each month and determine any trends.\n",
    "2. Determine if mosquito species makes statistically significant impact on the likelyhood of detecting West Nile Virus?\n",
    "3. Determine which factors are correlated with the number of mosquitos caught and to what extent.\n",
    "4. Run a linear regression to determine how the independent variables (excluding `WNV Present`) affect the number of mosquitoes caught. \n",
    "5. Run a logistic regression to determine how the independent variables affect West Nile Virus presence."
   ]
  },
  {
   "cell_type": "markdown",
   "id": "cd73186f-247a-4460-8cf4-e3ff502d563c",
   "metadata": {},
   "source": [
    "## Methods"
   ]
  },
  {
   "cell_type": "markdown",
   "id": "2f374092-4779-49cc-8e09-0e9eca1ba5d9",
   "metadata": {},
   "source": [
    "All data were analyzed in this Jupyter Notebook, which is running on a Python 3 kernel. The following libraries were imported for statistical analysis and data visualiztion under the given aliases:"
   ]
  },
  {
   "cell_type": "code",
   "execution_count": 1,
   "id": "32be1633-d1a6-4c3c-abb7-cb7cafd50519",
   "metadata": {},
   "outputs": [],
   "source": [
    "import numpy as np\n",
    "import pandas as pd\n",
    "import matplotlib.pyplot as plt\n",
    "import seaborn as sns\n",
    "import statsmodels.api as sm\n",
    "\n",
    "from scipy import stats\n",
    "from statsmodels.stats.proportion import proportions_ztest"
   ]
  },
  {
   "cell_type": "markdown",
   "id": "09e38003-b3a8-4f6b-91d7-11eeba160804",
   "metadata": {},
   "source": [
    "Data were taken from the provided `mosquito_data_part_2.csv` file, which contains tracking data for the years 2007 to 2019. This file imported into the `mosquito_original` data frame, and a copy of this data frame (`mosquito_df`) was created for data manipulation."
   ]
  },
  {
   "cell_type": "code",
   "execution_count": 2,
   "id": "7acd3e54-d3bc-492d-ae68-89ce210f64f1",
   "metadata": {},
   "outputs": [],
   "source": [
    "mosquito_original = pd.read_csv('./mosquito_data_part_2.csv')\n",
    "mosquito_df = mosquito_original.copy()"
   ]
  },
  {
   "cell_type": "markdown",
   "id": "80ef0d01-7830-4420-9f83-a67c0d8225c1",
   "metadata": {},
   "source": [
    "Basic EDA was run to determine the shape of the `mosquito_df` data frame, and if this data frame contained any missing values. The data frame contains 12 columns, 18,495 rows, and there are no missing values."
   ]
  },
  {
   "cell_type": "code",
   "execution_count": 3,
   "id": "c419614c-8e56-4de6-acf8-1c395b25498b",
   "metadata": {},
   "outputs": [
    {
     "name": "stdout",
     "output_type": "stream",
     "text": [
      "(18495, 12)\n",
      "Year               0\n",
      "Week               0\n",
      "Address Block      0\n",
      "Trap               0\n",
      "Trap type          0\n",
      "Date               0\n",
      "Mosquito number    0\n",
      "WNV Present        0\n",
      "Species            0\n",
      "Lat                0\n",
      "Lon                0\n",
      "Month              0\n",
      "dtype: int64\n"
     ]
    }
   ],
   "source": [
    "print(mosquito_df.shape)\n",
    "print(mosquito_df.isna().sum())"
   ]
  },
  {
   "cell_type": "markdown",
   "id": "05541ab3-a083-404b-897a-e7327eee22f5",
   "metadata": {},
   "source": [
    "## Data Management Plan  \n",
    "The type of data stored in each column and the plan to deal with this data is summarized in the following list:   \n",
    "- Year - Numeric --> **no change**\n",
    "- Week - Numeric --> could change to cyclic variable, but we don't need weekly granularity for this report --> **drop column** \n",
    "- Address Block - Categorical --> data is repeated in `Lon` and `Lat` columns --> **drop column**\n",
    "- Trap - Categorical --> Essentially synonymous with `Address Block` and `Lon` and `Lat` columns --> **drop column**\n",
    "- Trap type - Categorical --> **Convert to dummy variable**\n",
    "- Date - Numeric --> Already represented by `Year`, `Month` and `Week` columns --> **drop column**\n",
    "- Mosquito number - Numeric --> **no change**\n",
    "- WNV Present - Categorical --> **convert to binary**\n",
    "- Species - Categorical --> **convert to dummy variables**\n",
    "- Lat - Numeric --> **no change**\n",
    "- Lon - Numeric --> **no change**\n",
    "- Month - Numeric --> **change to cyclic variable**"
   ]
  },
  {
   "cell_type": "code",
   "execution_count": 4,
   "id": "038d1705-784f-4c4d-8efd-1aed58092247",
   "metadata": {},
   "outputs": [],
   "source": [
    "# Columns identified as unnecesary are dropped from the mosquito data frame\n",
    "mosquito_df.drop(columns=[\"Week\", \"Address Block\", \"Trap\", \"Date\"], inplace=True)"
   ]
  },
  {
   "cell_type": "markdown",
   "id": "f4a11adc-78c3-4ccf-816e-eac2b6830e5a",
   "metadata": {},
   "source": [
    "The remaining columns will now be sorted into either a numeric or categorical data frame for further processing. The data type of each column is first idenified to ensure that all data is stored in the proper data frame."
   ]
  },
  {
   "cell_type": "code",
   "execution_count": 5,
   "id": "5791723d-4640-4d54-b349-49b9fe398580",
   "metadata": {},
   "outputs": [
    {
     "name": "stdout",
     "output_type": "stream",
     "text": [
      "<class 'pandas.core.frame.DataFrame'>\n",
      "RangeIndex: 18495 entries, 0 to 18494\n",
      "Data columns (total 8 columns):\n",
      " #   Column           Non-Null Count  Dtype  \n",
      "---  ------           --------------  -----  \n",
      " 0   Year             18495 non-null  int64  \n",
      " 1   Trap type        18495 non-null  object \n",
      " 2   Mosquito number  18495 non-null  int64  \n",
      " 3   WNV Present      18495 non-null  object \n",
      " 4   Species          18495 non-null  object \n",
      " 5   Lat              18495 non-null  float64\n",
      " 6   Lon              18495 non-null  float64\n",
      " 7   Month            18495 non-null  int64  \n",
      "dtypes: float64(2), int64(3), object(3)\n",
      "memory usage: 1.1+ MB\n",
      "None\n"
     ]
    }
   ],
   "source": [
    "print(mosquito_df.info())"
   ]
  },
  {
   "cell_type": "code",
   "execution_count": 6,
   "id": "f7ca18bd-4317-459a-b3bd-f41a815227d7",
   "metadata": {},
   "outputs": [],
   "source": [
    "df_numeric = mosquito_df.select_dtypes([\"int64\", \"float64\", \"uint8\", \"int32\"])\n",
    "df_categorical = mosquito_df.select_dtypes(\"object\")"
   ]
  },
  {
   "cell_type": "markdown",
   "id": "83fddcbc-e2b6-40b5-8623-d6021296b3d0",
   "metadata": {},
   "source": [
    "The column `WNV Present` needs to be converted to a binary column. I will first determine what values are possible for this column and then determine which value to assign as 1 and which to assign as 0."
   ]
  },
  {
   "cell_type": "code",
   "execution_count": 7,
   "id": "9abf49b7-6dec-49ad-92e6-fe37940a4e4e",
   "metadata": {},
   "outputs": [
    {
     "data": {
      "text/plain": [
       "negative    14501\n",
       "positive     3994\n",
       "Name: WNV Present, dtype: int64"
      ]
     },
     "execution_count": 7,
     "metadata": {},
     "output_type": "execute_result"
    }
   ],
   "source": [
    "df_categorical[\"WNV Present\"].value_counts()"
   ]
  },
  {
   "cell_type": "markdown",
   "id": "b3344c50-0e0f-4471-b59d-d2c8d4494f16",
   "metadata": {},
   "source": [
    "Possible values for the `WNV Present` column include \"negative\" and \"positive\", which I will replace with \"0\" and \"1\", respectively. After this conversion is complete, I will also drop `WNV Present` from the categorical column. I will make a similar change to the `mosuito_df` data frame for later ease of analysis."
   ]
  },
  {
   "cell_type": "code",
   "execution_count": 8,
   "id": "69d0f09d-1711-4883-bf87-b98b56914b35",
   "metadata": {},
   "outputs": [
    {
     "name": "stderr",
     "output_type": "stream",
     "text": [
      "<ipython-input-8-2c2f7c904644>:3: SettingWithCopyWarning: \n",
      "A value is trying to be set on a copy of a slice from a DataFrame.\n",
      "Try using .loc[row_indexer,col_indexer] = value instead\n",
      "\n",
      "See the caveats in the documentation: https://pandas.pydata.org/pandas-docs/stable/user_guide/indexing.html#returning-a-view-versus-a-copy\n",
      "  df_numeric['WNV Present'] = np.where(WNV_neg, 0, 1)\n",
      "C:\\Users\\Daniel\\anaconda3\\lib\\site-packages\\pandas\\core\\frame.py:4308: SettingWithCopyWarning: \n",
      "A value is trying to be set on a copy of a slice from a DataFrame\n",
      "\n",
      "See the caveats in the documentation: https://pandas.pydata.org/pandas-docs/stable/user_guide/indexing.html#returning-a-view-versus-a-copy\n",
      "  return super().drop(\n"
     ]
    }
   ],
   "source": [
    "WNV_neg = (df_categorical['WNV Present'] == \"negative\")\n",
    "\n",
    "df_numeric['WNV Present'] = np.where(WNV_neg, 0, 1)\n",
    "mosquito_df['WNV Present'] = np.where(WNV_neg, 0, 1)\n",
    "df_categorical.drop(columns=\"WNV Present\", inplace=True)"
   ]
  },
  {
   "cell_type": "markdown",
   "id": "7cc5d31c-bbdc-43ca-b3ce-74b8820cbd55",
   "metadata": {},
   "source": [
    "The type of trap used may have a biasing effect on wether WNV is detected or not. Therefore, the trap type will be included in the model for predicting whether WNV is present or not. To do this, dummy variables will be created for the `Trap type` column. There is not a clear best trap type to drop, so I will simply drop the first one, which is `CDC`."
   ]
  },
  {
   "cell_type": "code",
   "execution_count": 9,
   "id": "21c5273b-8558-4608-b408-b238ec6d5f05",
   "metadata": {},
   "outputs": [],
   "source": [
    "trap_type_dummies = pd.get_dummies(df_categorical[[\"Trap type\"]], drop_first=True)\n",
    "\n",
    "df_numeric = pd.concat([df_numeric, trap_type_dummies], axis = 1)\n",
    "\n",
    "# dropping Trap type from the categorical data frame for book keeping purposes.\n",
    "df_categorical.drop(columns=\"Trap type\", inplace=True)"
   ]
  },
  {
   "cell_type": "markdown",
   "id": "fa273ad0-4c9e-479d-b6c1-b017ab6342ee",
   "metadata": {},
   "source": [
    "It will also be important to understand how mosquito species plays a role in predicting the presence of WNV. Therefore, I will determing the possible species types and convert each into a dummy variable, excluding 1 species to improve analysis efficiency."
   ]
  },
  {
   "cell_type": "code",
   "execution_count": 10,
   "id": "1f8a9621-3970-4e40-846a-f589e2f027ab",
   "metadata": {},
   "outputs": [
    {
     "data": {
      "text/plain": [
       "Species         \n",
       "CULEX RESTUANS      64.157881\n",
       "CULEX PIPIENS       29.662071\n",
       "CULEX TERRITANS      4.958097\n",
       "CULEX SALINARIUS     1.221952\n",
       "dtype: float64"
      ]
     },
     "execution_count": 10,
     "metadata": {},
     "output_type": "execute_result"
    }
   ],
   "source": [
    "df_categorical.value_counts(normalize=True)*100"
   ]
  },
  {
   "cell_type": "markdown",
   "id": "a185bea0-10d8-4a55-be3c-4c9372106bbf",
   "metadata": {},
   "source": [
    "Species CULEX SALINARIUS is the least populus, representing only about 1% of all mosquitos caught, so I will drop the dummy variable for this species."
   ]
  },
  {
   "cell_type": "code",
   "execution_count": 11,
   "id": "922bf3c2-1a83-4d6d-88fb-1c3faf347f35",
   "metadata": {},
   "outputs": [],
   "source": [
    "species_dummies = pd.get_dummies(df_categorical[[\"Species\"]]).drop(columns=\"Species_CULEX SALINARIUS\")\n",
    "df_numeric = pd.concat([df_numeric, species_dummies], axis = 1)\n",
    "\n",
    "# dropping Species from the categorical data frame for book keeping purposes.\n",
    "df_categorical.drop(columns=\"Species\", inplace=True)"
   ]
  },
  {
   "cell_type": "markdown",
   "id": "9e61ff6c-8924-4b2b-b650-c5de4feb4aec",
   "metadata": {},
   "source": [
    "Month of the year is also a possible predictor of WNV prevelance. I will model this column as a cyclic variable, as the months come and go in a cyclic pattern.  \n",
    "\n",
    "**Note**: Even though data was collected for only 6 months, I modelled the months over 12 possible options. This improved my end model accuracy from 82.91% with 6 months to 83.04% with 12 months. A possible explenation for this result is that even though data is only collected for 6 months, patterns in the data are more readily determined when modelling the months as belonging to the real world 12 month cycle than to a simplified 6 month cycle."
   ]
  },
  {
   "cell_type": "code",
   "execution_count": 12,
   "id": "751fb295-1ae0-4bb8-960f-2ccb7d759cbb",
   "metadata": {},
   "outputs": [],
   "source": [
    "base_angle = 2*np.pi/12\n",
    "\n",
    "cos = np.cos(df_numeric[\"Month\"]*base_angle)\n",
    "sin = np.sin(df_numeric[\"Month\"]*base_angle)\n",
    "\n",
    "df_numeric[\"Month_cos\"] = cos\n",
    "df_numeric[\"Month_sin\"] = sin"
   ]
  },
  {
   "cell_type": "markdown",
   "id": "3949c874-4731-4f78-9662-6b7eaae29d09",
   "metadata": {},
   "source": [
    "## Results and Discussion"
   ]
  },
  {
   "cell_type": "markdown",
   "id": "6f943b1b-59d1-4254-8b56-cda5fca8d483",
   "metadata": {},
   "source": [
    "#### *Mosquitoes per month*"
   ]
  },
  {
   "cell_type": "markdown",
   "id": "94b5d5f6-be0f-43dd-81ae-5ba74fab5279",
   "metadata": {},
   "source": [
    "The average number of mosquitos caught is plotted as function of the month of the year in the figure below. The error bars correspond to the standard error. Mosquito numbers seem to increase with increasing temperature. This is because mosquitos are cold blooded, meaning they need warmth from their environment to be active. "
   ]
  },
  {
   "cell_type": "code",
   "execution_count": 13,
   "id": "100ffec7-e4e0-44d2-9ee3-f63da5808544",
   "metadata": {},
   "outputs": [
    {
     "data": {
      "image/png": "[encoded data removed]",
      "text/plain": [
       "<Figure size 432x288 with 1 Axes>"
      ]
     },
     "metadata": {
      "needs_background": "light"
     },
     "output_type": "display_data"
    }
   ],
   "source": [
    "monthy_averages = df_numeric.groupby(\"Month\").mean()\n",
    "monthly_sem = df_numeric.groupby(\"Month\").sem()\n",
    "\n",
    "plt.figure()\n",
    "plt.bar(monthy_averages.index.values, monthy_averages[\"Mosquito number\"], yerr=monthly_sem[\"Mosquito number\"], capsize=5)\n",
    "plt.xlabel(\"Month\", size=12)\n",
    "plt.ylabel(\"Average number of Mosquitoes\", size=12)\n",
    "plt.title(\"Mosquitoes are most active during summer months\", size=16)\n",
    "sns.despine()\n",
    "plt.tight_layout()\n",
    "plt.show()"
   ]
  },
  {
   "cell_type": "markdown",
   "id": "3e787448-590b-4663-b0b2-c5e291f9c2e6",
   "metadata": {},
   "source": [
    "#### *Mosquito species and WNV Prevelance*"
   ]
  },
  {
   "cell_type": "markdown",
   "id": "f56eddc7-493f-4112-8df8-5a1883c5c00f",
   "metadata": {},
   "source": [
    "The percentage of mosquitos found to be carrying WNV as a function of species identity is plotted below, with error bars corresponding to standard error. The species *Culex Pipiens* is the most likely to carry WNV, with about 25% of mosquitoes of that species carrying the virus. In close second is *Culex Restuans* at about 21% infected."
   ]
  },
  {
   "cell_type": "code",
   "execution_count": 14,
   "id": "791c2ae2-87cd-4ca4-af6d-f5852894f9ed",
   "metadata": {},
   "outputs": [
    {
     "data": {
      "image/png": "[encoded data removed]",
      "text/plain": [
       "<Figure size 432x360 with 1 Axes>"
      ]
     },
     "metadata": {
      "needs_background": "light"
     },
     "output_type": "display_data"
    }
   ],
   "source": [
    "species_averages = mosquito_df.groupby(\"Species\")[\"WNV Present\"].aggregate([\"mean\", \"std\", \"sem\", \"sum\", \"count\"])\n",
    "\n",
    "plt.figure(figsize=(6,5))\n",
    "plt.bar(species_averages.index.values, species_averages[\"mean\"]*100, yerr=species_averages[\"sem\"]*100, capsize=5)\n",
    "plt.xlabel(\"Species\", size=12)\n",
    "plt.ylabel(\"WNV Present (%)\", size=12)\n",
    "plt.title(\"Mosquito species strongly influences WNV Presence\", size=16)\n",
    "sns.despine()\n",
    "plt.tight_layout()\n",
    "plt.show()"
   ]
  },
  {
   "cell_type": "markdown",
   "id": "714ad76f-2ba7-46bc-8231-3172cd959a08",
   "metadata": {},
   "source": [
    "Although the standard errors do not overlap with eachother in the plot above, statistical tests will be run to ensure that the differences observed for the above species are real and not a result of limited statistics. To first determine if there is a statistically significant difference in the percent WNV among all the species, an ANOVA test will be run. In this test, the null hypothesis (H0) is that there is no statistical difference among the species, and the alternate hypothesis (H1) is that there is a difference among the species. If a p value of less than 0.05 is obtained from this test, that will be sufficient evidence to reject the null hypothesis."
   ]
  },
  {
   "cell_type": "code",
   "execution_count": 15,
   "id": "e9799ef6-6edd-4dbf-837b-9cc0f19041a3",
   "metadata": {},
   "outputs": [
    {
     "name": "stdout",
     "output_type": "stream",
     "text": [
      "The p value resulting from the ANOVA test is 1.082615440825039e-67.\n",
      "This is 4.618445120447943e+65 times less than the cutoff value of 0.05.\n",
      "Wow!\n"
     ]
    }
   ],
   "source": [
    "anova_data = {}\n",
    "mosquitoes = mosquito_df[\"Species\"].unique()\n",
    "\n",
    "for species in mosquitoes:\n",
    "    anova_data[species] = mosquito_df.loc[mosquito_df[\"Species\"] == species, \"WNV Present\"]\n",
    "\n",
    "ANOVA_p_value = stats.f_oneway(anova_data[\"CULEX PIPIENS\"],\n",
    "              anova_data[\"CULEX RESTUANS\"],\n",
    "              anova_data[\"CULEX SALINARIUS\"],\n",
    "              anova_data[\"CULEX TERRITANS\"])[1]\n",
    "\n",
    "print(f\"The p value resulting from the ANOVA test is {ANOVA_p_value}.\")\n",
    "print(f\"This is {0.05/ANOVA_p_value} times less than the cutoff value of 0.05.\")\n",
    "print(\"Wow!\")"
   ]
  },
  {
   "cell_type": "markdown",
   "id": "39bfd5db-3d27-4f9b-9052-0caa1907bdbd",
   "metadata": {},
   "source": [
    "The Results from ANOVA test indicate that there is at least one species which is significantly different from the others. I will now run a proportions z test between each species pair individually to determine which are significantly different from one another. For this test, the null hypothesis is that there is no difference between the species, and the alternate hypothesis is that there is a difference. A p value of less than 0.05 will be considered sufficient grounds for rejecting the null hypotheses for these tests."
   ]
  },
  {
   "cell_type": "code",
   "execution_count": 16,
   "id": "8a786a45-1449-400d-89ba-424515151876",
   "metadata": {},
   "outputs": [
    {
     "name": "stdout",
     "output_type": "stream",
     "text": [
      "p value (CULEX RESTUANS vs CULEX TERRITANS):\n",
      "4.149911157085309e-48\n",
      "\n",
      "\n",
      "p value (CULEX RESTUANS vs CULEX SALINARIUS):\n",
      "1.2461111009600203e-09\n",
      "\n",
      "\n",
      "p value (CULEX RESTUANS vs CULEX PIPIENS):\n",
      "1.0019767964463832e-09\n",
      "\n",
      "\n",
      "p value (CULEX TERRITANS vs CULEX SALINARIUS):\n",
      "0.0021029008936009263\n",
      "\n",
      "\n",
      "p value (CULEX TERRITANS vs CULEX PIPIENS):\n",
      "8.231567115719057e-60\n",
      "\n",
      "\n",
      "p value (CULEX SALINARIUS vs CULEX PIPIENS):\n",
      "1.164688112052138e-12\n",
      "\n",
      "\n"
     ]
    }
   ],
   "source": [
    "mosquitoes = mosquito_df[\"Species\"].unique()\n",
    "\n",
    "sums = []\n",
    "for key in anova_data:\n",
    "    sums.append(anova_data[key].sum())\n",
    "\n",
    "counts = []\n",
    "for key in anova_data:\n",
    "    counts.append(anova_data[key].count())\n",
    "\n",
    "for n in range(4):\n",
    "    for m in range(n+1, 4):\n",
    "        compare_sums = []\n",
    "        compare_sums.append(sums[n])\n",
    "        compare_sums.append(sums[m])\n",
    "        \n",
    "        compare_counts = []\n",
    "        compare_counts.append(counts[n])\n",
    "        compare_counts.append(counts[m])\n",
    "        \n",
    "        print(\"p value (\" + mosquitoes[n] + \" vs \" + mosquitoes[m] + \"):\")\n",
    "        print(proportions_ztest(compare_sums, compare_counts)[1])\n",
    "        print(\"\\n\")"
   ]
  },
  {
   "cell_type": "markdown",
   "id": "dad24a8e-8135-4880-b3c4-ae348829be62",
   "metadata": {},
   "source": [
    "Values significantly less than 0.05 where obtained for each comparison, indicating that there is a statistically significant difference in the carrier rates among all the different mosquito species."
   ]
  },
  {
   "cell_type": "markdown",
   "id": "ba845b79-61e0-42d1-b2be-e29876163831",
   "metadata": {},
   "source": [
    "#### *Factors impacting the number of mosquitoes caught*"
   ]
  },
  {
   "cell_type": "markdown",
   "id": "88c52619-8512-4914-8c8d-b8047be32465",
   "metadata": {},
   "source": [
    "In order to determine which factors affect the numbers of mosquitos present, I will determine the linear correlation between `Mosquito number` and all other variables using the `corr()` function."
   ]
  },
  {
   "cell_type": "code",
   "execution_count": 17,
   "id": "60d87c67-7c7a-4524-9113-b05b3a053ca7",
   "metadata": {},
   "outputs": [
    {
     "data": {
      "text/plain": [
       "WNV Present                0.408034\n",
       "Year                       0.129326\n",
       "Trap type_SENTINEL         0.108575\n",
       "Lat                        0.096820\n",
       "Species_CULEX RESTUANS     0.070999\n",
       "Species_CULEX PIPIENS      0.014730\n",
       "Month_sin                  0.005443\n",
       "Trap type_OVI             -0.005392\n",
       "Month                     -0.040426\n",
       "Month_cos                 -0.064980\n",
       "Trap type_GRAVID          -0.138275\n",
       "Species_CULEX TERRITANS   -0.150962\n",
       "Lon                       -0.151421\n",
       "Name: Mosquito number, dtype: float64"
      ]
     },
     "execution_count": 17,
     "metadata": {},
     "output_type": "execute_result"
    }
   ],
   "source": [
    "correlation = df_numeric.corr()\n",
    "correlation = correlation[\"Mosquito number\"]\n",
    "correlation.pop(\"Mosquito number\")\n",
    "correlation = correlation.sort_values(ascending=False)\n",
    "correlation"
   ]
  },
  {
   "cell_type": "markdown",
   "id": "f57dc2ef-6ce8-4ca4-bc3b-ecef43c62e68",
   "metadata": {},
   "source": [
    "These columns have a positive correlation with `Mosquito number`:  \n",
    "- WNV Present\n",
    "- Year\n",
    "- Trap type_SENTINEL\n",
    "- Lat\n",
    "- Species_CULEX RESTUANS\n",
    "- Species_CULEX PIPIENS\n",
    "- Month_sin  \n",
    "\n",
    "These columns have a negative correlation with `Mosquito number`:\n",
    "- Trap type_OVI\n",
    "- Month\n",
    "- Month_cos\n",
    "- Trap type_GRAVID\n",
    "- Species_CULEX TERRITANS\n",
    "- Lon\n",
    "\n",
    "The strongest correlation is with `WNV Present`, which only has a correlation value of about 0.41, indicating that none of these values has a strong linear correlation with `Mosquito number`. It should be noted that in this calculation, only a linear correlation is considered. Correlations with other function types, such as logarithems, may be higher."
   ]
  },
  {
   "cell_type": "markdown",
   "id": "a3c37dda-8406-4743-8e98-f46f9340d1ed",
   "metadata": {},
   "source": [
    "#### *Linear Regression comparison of Variables with the Number of Mosquitoes Caught*"
   ]
  },
  {
   "cell_type": "markdown",
   "id": "077d57fc-2e8c-4a98-9d76-d7d0aa4380a0",
   "metadata": {},
   "source": [
    "For this analysis, the number of mosquitos caught (`Mosquito number`) will compared with all of the other independent variables except `WNV Present`, as the presence of WNV actually has a dependence on `Mosquito number`. The correlation between the independent variable will first be examined for multicoliniarity. Variables with correlations greater than 0.5 or less than -0.5 will be considered for removal from the model."
   ]
  },
  {
   "cell_type": "code",
   "execution_count": 18,
   "id": "7fd14f07-f0b2-4e82-860e-2b0f31c0092c",
   "metadata": {},
   "outputs": [],
   "source": [
    "x_vals = df_numeric[[\"Year\", \"Month\", \"Lat\", \"Lon\", \"Month_cos\", \"Month_sin\"]]\n",
    "y_vals = df_numeric[\"Mosquito number\"]"
   ]
  },
  {
   "cell_type": "code",
   "execution_count": 19,
   "id": "400982e3-f335-45fb-a1bb-2fbae839215e",
   "metadata": {},
   "outputs": [
    {
     "data": {
      "image/png": "[encoded data removed]",
      "text/plain": [
       "<Figure size 432x432 with 2 Axes>"
      ]
     },
     "metadata": {
      "needs_background": "light"
     },
     "output_type": "display_data"
    }
   ],
   "source": [
    "df_corr = x_vals.corr()\n",
    "\n",
    "plt.figure(figsize=(6,6))\n",
    "sns.heatmap(df_corr.round(2),  vmin=-1, vmax=1, cmap=\"coolwarm\", annot=True, mask=np.triu(df_corr))\n",
    "plt.show()"
   ]
  },
  {
   "cell_type": "markdown",
   "id": "61561d28-003d-45c4-9bdf-a8356c731ba6",
   "metadata": {},
   "source": [
    "There appears to be a strong correlation between the `Lon` and `Lat`. However, there appears to be no clear reason for removing either from the analyses. There is also a strong correlation between `Month` and `Month_cos` and `Month_sin`. These are repeating information; therefore, `Month` will be dropped from the analyses. `Month_cos` and `Month_sin` also have a strong correlation. This is because they are related information. Neither of these columns will be dropped.  \n",
    "  \n",
    "The linear model of our data can now be created by dropping the `Month` column and fitting the data with the `statsmodels.api`."
   ]
  },
  {
   "cell_type": "code",
   "execution_count": 20,
   "id": "92a738ec-f5cc-4db7-ab9d-9a4e19179a4d",
   "metadata": {},
   "outputs": [
    {
     "data": {
      "text/html": [
       "<table class=\"simpletable\">\n",
       "<caption>OLS Regression Results</caption>\n",
       "<tr>\n",
       "  <th>Dep. Variable:</th>     <td>Mosquito number</td> <th>  R-squared:         </th> <td>   0.047</td> \n",
       "</tr>\n",
       "<tr>\n",
       "  <th>Model:</th>                   <td>OLS</td>       <th>  Adj. R-squared:    </th> <td>   0.047</td> \n",
       "</tr>\n",
       "<tr>\n",
       "  <th>Method:</th>             <td>Least Squares</td>  <th>  F-statistic:       </th> <td>   183.0</td> \n",
       "</tr>\n",
       "<tr>\n",
       "  <th>Date:</th>             <td>Mon, 09 Aug 2021</td> <th>  Prob (F-statistic):</th> <td>7.82e-191</td>\n",
       "</tr>\n",
       "<tr>\n",
       "  <th>Time:</th>                 <td>19:53:43</td>     <th>  Log-Likelihood:    </th> <td> -73899.</td> \n",
       "</tr>\n",
       "<tr>\n",
       "  <th>No. Observations:</th>      <td> 18495</td>      <th>  AIC:               </th> <td>1.478e+05</td>\n",
       "</tr>\n",
       "<tr>\n",
       "  <th>Df Residuals:</th>          <td> 18489</td>      <th>  BIC:               </th> <td>1.479e+05</td>\n",
       "</tr>\n",
       "<tr>\n",
       "  <th>Df Model:</th>              <td>     5</td>      <th>                     </th>     <td> </td>    \n",
       "</tr>\n",
       "<tr>\n",
       "  <th>Covariance Type:</th>      <td>nonrobust</td>    <th>                     </th>     <td> </td>    \n",
       "</tr>\n",
       "</table>\n",
       "<table class=\"simpletable\">\n",
       "<tr>\n",
       "      <td></td>         <th>coef</th>     <th>std err</th>      <th>t</th>      <th>P>|t|</th>  <th>[0.025</th>    <th>0.975]</th>  \n",
       "</tr>\n",
       "<tr>\n",
       "  <th>const</th>     <td>-2717.8152</td> <td>  110.945</td> <td>  -24.497</td> <td> 0.000</td> <td>-2935.278</td> <td>-2500.352</td>\n",
       "</tr>\n",
       "<tr>\n",
       "  <th>Year</th>      <td>    0.4064</td> <td>    0.026</td> <td>   15.497</td> <td> 0.000</td> <td>    0.355</td> <td>    0.458</td>\n",
       "</tr>\n",
       "<tr>\n",
       "  <th>Lat</th>       <td>   -4.9894</td> <td>    1.267</td> <td>   -3.939</td> <td> 0.000</td> <td>   -7.472</td> <td>   -2.507</td>\n",
       "</tr>\n",
       "<tr>\n",
       "  <th>Lon</th>       <td>  -24.0718</td> <td>    1.533</td> <td>  -15.705</td> <td> 0.000</td> <td>  -27.076</td> <td>  -21.068</td>\n",
       "</tr>\n",
       "<tr>\n",
       "  <th>Month_cos</th> <td>   -6.8198</td> <td>    0.489</td> <td>  -13.936</td> <td> 0.000</td> <td>   -7.779</td> <td>   -5.861</td>\n",
       "</tr>\n",
       "<tr>\n",
       "  <th>Month_sin</th> <td>   -6.2324</td> <td>    0.520</td> <td>  -11.980</td> <td> 0.000</td> <td>   -7.252</td> <td>   -5.213</td>\n",
       "</tr>\n",
       "</table>\n",
       "<table class=\"simpletable\">\n",
       "<tr>\n",
       "  <th>Omnibus:</th>       <td>5024.504</td> <th>  Durbin-Watson:     </th> <td>   1.538</td> \n",
       "</tr>\n",
       "<tr>\n",
       "  <th>Prob(Omnibus):</th>  <td> 0.000</td>  <th>  Jarque-Bera (JB):  </th> <td>10668.046</td>\n",
       "</tr>\n",
       "<tr>\n",
       "  <th>Skew:</th>           <td> 1.622</td>  <th>  Prob(JB):          </th> <td>    0.00</td> \n",
       "</tr>\n",
       "<tr>\n",
       "  <th>Kurtosis:</th>       <td> 4.820</td>  <th>  Cond. No.          </th> <td>2.31e+06</td> \n",
       "</tr>\n",
       "</table><br/><br/>Notes:<br/>[1] Standard Errors assume that the covariance matrix of the errors is correctly specified.<br/>[2] The condition number is large, 2.31e+06. This might indicate that there are<br/>strong multicollinearity or other numerical problems."
      ],
      "text/plain": [
       "<class 'statsmodels.iolib.summary.Summary'>\n",
       "\"\"\"\n",
       "                            OLS Regression Results                            \n",
       "==============================================================================\n",
       "Dep. Variable:        Mosquito number   R-squared:                       0.047\n",
       "Model:                            OLS   Adj. R-squared:                  0.047\n",
       "Method:                 Least Squares   F-statistic:                     183.0\n",
       "Date:                Mon, 09 Aug 2021   Prob (F-statistic):          7.82e-191\n",
       "Time:                        19:53:43   Log-Likelihood:                -73899.\n",
       "No. Observations:               18495   AIC:                         1.478e+05\n",
       "Df Residuals:                   18489   BIC:                         1.479e+05\n",
       "Df Model:                           5                                         \n",
       "Covariance Type:            nonrobust                                         \n",
       "==============================================================================\n",
       "                 coef    std err          t      P>|t|      [0.025      0.975]\n",
       "------------------------------------------------------------------------------\n",
       "const      -2717.8152    110.945    -24.497      0.000   -2935.278   -2500.352\n",
       "Year           0.4064      0.026     15.497      0.000       0.355       0.458\n",
       "Lat           -4.9894      1.267     -3.939      0.000      -7.472      -2.507\n",
       "Lon          -24.0718      1.533    -15.705      0.000     -27.076     -21.068\n",
       "Month_cos     -6.8198      0.489    -13.936      0.000      -7.779      -5.861\n",
       "Month_sin     -6.2324      0.520    -11.980      0.000      -7.252      -5.213\n",
       "==============================================================================\n",
       "Omnibus:                     5024.504   Durbin-Watson:                   1.538\n",
       "Prob(Omnibus):                  0.000   Jarque-Bera (JB):            10668.046\n",
       "Skew:                           1.622   Prob(JB):                         0.00\n",
       "Kurtosis:                       4.820   Cond. No.                     2.31e+06\n",
       "==============================================================================\n",
       "\n",
       "Notes:\n",
       "[1] Standard Errors assume that the covariance matrix of the errors is correctly specified.\n",
       "[2] The condition number is large, 2.31e+06. This might indicate that there are\n",
       "strong multicollinearity or other numerical problems.\n",
       "\"\"\""
      ]
     },
     "metadata": {},
     "output_type": "display_data"
    }
   ],
   "source": [
    "x_vals_const = sm.add_constant(x_vals.drop(columns=\"Month\"))\n",
    "\n",
    "mosquito_lr = sm.OLS(y_vals, x_vals_const)\n",
    "mosquito_lr = mosquito_lr.fit()\n",
    "display(mosquito_lr.summary())"
   ]
  },
  {
   "cell_type": "markdown",
   "id": "985fb022-cb20-4768-93c6-0e5d4aa3251b",
   "metadata": {},
   "source": [
    "An r squared value of less than 0.05 is obtained, possibly indicating that our data is poorly fit using linear regression. To confirm this, the number of mosquitos predicted to be in each trap is plotted as a function of the actual number of mosquitos in the trap in the left column of the figure below. The residuals associated with this plot are also shown in the right panel as a function of the actual number of mosquitoes in each trap. There appears to be no relationship between predicted and actual number of mosquitoes caught, and the residual plot shows a strange diagnol behaviour for its enourmous residual values. Clearly, linear fitting is not the way to analyze these data."
   ]
  },
  {
   "cell_type": "code",
   "execution_count": 21,
   "id": "f43d3d01-5971-4d9b-9469-f6223ec8add6",
   "metadata": {},
   "outputs": [
    {
     "data": {
      "image/png": "[encoded data removed]",
      "text/plain": [
       "<Figure size 576x360 with 2 Axes>"
      ]
     },
     "metadata": {
      "needs_background": "light"
     },
     "output_type": "display_data"
    }
   ],
   "source": [
    "# soft predictions, the probability of getting the deposit\n",
    "y_pred = mosquito_lr.predict(x_vals_const)\n",
    "\n",
    "plt.subplots(2, figsize=(8,5))\n",
    "plt.subplot(1,2,1)\n",
    "plt.scatter(y_vals, y_pred)\n",
    "plt.xlabel(\"Measured Values\")\n",
    "plt.ylabel(\"Predicted Values\")\n",
    "plt.title(\"Measured vs. Predicted\")\n",
    "plt.subplot(1,2,2)\n",
    "plt.scatter(mosquito_lr.fittedvalues, mosquito_lr.resid)\n",
    "plt.xlabel(\"Measured Values\")\n",
    "plt.ylabel(\"Residuals\")\n",
    "plt.title(\"Residual Plot\")\n",
    "sns.despine()\n",
    "plt.show()\n"
   ]
  },
  {
   "cell_type": "markdown",
   "id": "385535c0-6b26-44c0-ac7d-55eccbc02b5c",
   "metadata": {},
   "source": [
    "Improving the linear model was attempted by removing columns with excesive colinearity, including the `Lat` and `Month_sin` columns. However, as can be seen below, this change did not improve the linear model. The r squared value decreased to 0.039 and there is no clear improvements to predictive power of the model or the resulting residuals. "
   ]
  },
  {
   "cell_type": "code",
   "execution_count": 22,
   "id": "0d7eb5c6-d295-4fb9-b50d-9a513dcc8cff",
   "metadata": {},
   "outputs": [
    {
     "data": {
      "text/html": [
       "<table class=\"simpletable\">\n",
       "<caption>OLS Regression Results</caption>\n",
       "<tr>\n",
       "  <th>Dep. Variable:</th>     <td>Mosquito number</td> <th>  R-squared:         </th> <td>   0.039</td> \n",
       "</tr>\n",
       "<tr>\n",
       "  <th>Model:</th>                   <td>OLS</td>       <th>  Adj. R-squared:    </th> <td>   0.039</td> \n",
       "</tr>\n",
       "<tr>\n",
       "  <th>Method:</th>             <td>Least Squares</td>  <th>  F-statistic:       </th> <td>   249.5</td> \n",
       "</tr>\n",
       "<tr>\n",
       "  <th>Date:</th>             <td>Mon, 09 Aug 2021</td> <th>  Prob (F-statistic):</th> <td>9.31e-159</td>\n",
       "</tr>\n",
       "<tr>\n",
       "  <th>Time:</th>                 <td>19:53:43</td>     <th>  Log-Likelihood:    </th> <td> -73978.</td> \n",
       "</tr>\n",
       "<tr>\n",
       "  <th>No. Observations:</th>      <td> 18495</td>      <th>  AIC:               </th> <td>1.480e+05</td>\n",
       "</tr>\n",
       "<tr>\n",
       "  <th>Df Residuals:</th>          <td> 18491</td>      <th>  BIC:               </th> <td>1.480e+05</td>\n",
       "</tr>\n",
       "<tr>\n",
       "  <th>Df Model:</th>              <td>     3</td>      <th>                     </th>     <td> </td>    \n",
       "</tr>\n",
       "<tr>\n",
       "  <th>Covariance Type:</th>      <td>nonrobust</td>    <th>                     </th>     <td> </td>    \n",
       "</tr>\n",
       "</table>\n",
       "<table class=\"simpletable\">\n",
       "<tr>\n",
       "      <td></td>         <th>coef</th>     <th>std err</th>      <th>t</th>      <th>P>|t|</th>  <th>[0.025</th>    <th>0.975]</th>  \n",
       "</tr>\n",
       "<tr>\n",
       "  <th>const</th>     <td>-2533.2062</td> <td>   99.826</td> <td>  -25.376</td> <td> 0.000</td> <td>-2728.873</td> <td>-2337.539</td>\n",
       "</tr>\n",
       "<tr>\n",
       "  <th>Year</th>      <td>    0.4010</td> <td>    0.026</td> <td>   15.235</td> <td> 0.000</td> <td>    0.349</td> <td>    0.453</td>\n",
       "</tr>\n",
       "<tr>\n",
       "  <th>Lon</th>       <td>  -19.7895</td> <td>    1.023</td> <td>  -19.348</td> <td> 0.000</td> <td>  -21.794</td> <td>  -17.785</td>\n",
       "</tr>\n",
       "<tr>\n",
       "  <th>Month_cos</th> <td>   -1.9387</td> <td>    0.272</td> <td>   -7.126</td> <td> 0.000</td> <td>   -2.472</td> <td>   -1.405</td>\n",
       "</tr>\n",
       "</table>\n",
       "<table class=\"simpletable\">\n",
       "<tr>\n",
       "  <th>Omnibus:</th>       <td>5098.704</td> <th>  Durbin-Watson:     </th> <td>   1.523</td> \n",
       "</tr>\n",
       "<tr>\n",
       "  <th>Prob(Omnibus):</th>  <td> 0.000</td>  <th>  Jarque-Bera (JB):  </th> <td>10941.515</td>\n",
       "</tr>\n",
       "<tr>\n",
       "  <th>Skew:</th>           <td> 1.640</td>  <th>  Prob(JB):          </th> <td>    0.00</td> \n",
       "</tr>\n",
       "<tr>\n",
       "  <th>Kurtosis:</th>       <td> 4.854</td>  <th>  Cond. No.          </th> <td>2.07e+06</td> \n",
       "</tr>\n",
       "</table><br/><br/>Notes:<br/>[1] Standard Errors assume that the covariance matrix of the errors is correctly specified.<br/>[2] The condition number is large, 2.07e+06. This might indicate that there are<br/>strong multicollinearity or other numerical problems."
      ],
      "text/plain": [
       "<class 'statsmodels.iolib.summary.Summary'>\n",
       "\"\"\"\n",
       "                            OLS Regression Results                            \n",
       "==============================================================================\n",
       "Dep. Variable:        Mosquito number   R-squared:                       0.039\n",
       "Model:                            OLS   Adj. R-squared:                  0.039\n",
       "Method:                 Least Squares   F-statistic:                     249.5\n",
       "Date:                Mon, 09 Aug 2021   Prob (F-statistic):          9.31e-159\n",
       "Time:                        19:53:43   Log-Likelihood:                -73978.\n",
       "No. Observations:               18495   AIC:                         1.480e+05\n",
       "Df Residuals:                   18491   BIC:                         1.480e+05\n",
       "Df Model:                           3                                         \n",
       "Covariance Type:            nonrobust                                         \n",
       "==============================================================================\n",
       "                 coef    std err          t      P>|t|      [0.025      0.975]\n",
       "------------------------------------------------------------------------------\n",
       "const      -2533.2062     99.826    -25.376      0.000   -2728.873   -2337.539\n",
       "Year           0.4010      0.026     15.235      0.000       0.349       0.453\n",
       "Lon          -19.7895      1.023    -19.348      0.000     -21.794     -17.785\n",
       "Month_cos     -1.9387      0.272     -7.126      0.000      -2.472      -1.405\n",
       "==============================================================================\n",
       "Omnibus:                     5098.704   Durbin-Watson:                   1.523\n",
       "Prob(Omnibus):                  0.000   Jarque-Bera (JB):            10941.515\n",
       "Skew:                           1.640   Prob(JB):                         0.00\n",
       "Kurtosis:                       4.854   Cond. No.                     2.07e+06\n",
       "==============================================================================\n",
       "\n",
       "Notes:\n",
       "[1] Standard Errors assume that the covariance matrix of the errors is correctly specified.\n",
       "[2] The condition number is large, 2.07e+06. This might indicate that there are\n",
       "strong multicollinearity or other numerical problems.\n",
       "\"\"\""
      ]
     },
     "metadata": {},
     "output_type": "display_data"
    },
    {
     "data": {
      "image/png": "[encoded data removed]",
      "text/plain": [
       "<Figure size 576x360 with 2 Axes>"
      ]
     },
     "metadata": {
      "needs_background": "light"
     },
     "output_type": "display_data"
    }
   ],
   "source": [
    "x_vals = df_numeric[[\"Year\", \"Lon\", \"Month_cos\"]]\n",
    "y_vals = df_numeric[\"Mosquito number\"]\n",
    "\n",
    "x_vals_const = sm.add_constant(x_vals)\n",
    "mosquito_lr = sm.OLS(y_vals, x_vals_const)\n",
    "mosquito_lr = mosquito_lr.fit()\n",
    "display(mosquito_lr.summary())\n",
    "\n",
    "plt.subplots(2, figsize=(8,5))\n",
    "plt.subplot(1,2,1)\n",
    "plt.scatter(y_vals, y_pred)\n",
    "plt.xlabel(\"Measured Values\")\n",
    "plt.ylabel(\"Predicted Values\")\n",
    "plt.title(\"Measured vs. Predicted\")\n",
    "plt.subplot(1,2,2)\n",
    "plt.scatter(mosquito_lr.resid, mosquito_lr.fittedvalues)\n",
    "plt.xlabel(\"Measured Values\")\n",
    "plt.ylabel(\"Residuals\")\n",
    "plt.title(\"Residual Plot\")\n",
    "sns.despine()\n",
    "plt.show()"
   ]
  },
  {
   "cell_type": "markdown",
   "id": "b1100fcf-944d-4885-903c-bf14b10c75e7",
   "metadata": {},
   "source": [
    "#### *Logistic predictions of WNV Presence*"
   ]
  },
  {
   "cell_type": "markdown",
   "id": "a02aa343-240e-4a91-824a-9f7079759bff",
   "metadata": {},
   "source": [
    "All of the independent variables are compared to the presence of WNV using a logistical regression model, as shown below."
   ]
  },
  {
   "cell_type": "code",
   "execution_count": 23,
   "id": "ecc87814-d356-4767-929e-3b338cb3172c",
   "metadata": {},
   "outputs": [
    {
     "name": "stdout",
     "output_type": "stream",
     "text": [
      "Warning: Maximum number of iterations has been exceeded.\n",
      "         Current function value: 0.370386\n",
      "         Iterations: 35\n"
     ]
    },
    {
     "name": "stderr",
     "output_type": "stream",
     "text": [
      "C:\\Users\\Daniel\\anaconda3\\lib\\site-packages\\statsmodels\\base\\model.py:566: ConvergenceWarning: Maximum Likelihood optimization failed to converge. Check mle_retvals\n",
      "  warnings.warn(\"Maximum Likelihood optimization failed to \"\n"
     ]
    },
    {
     "data": {
      "text/html": [
       "<table class=\"simpletable\">\n",
       "<caption>Logit Regression Results</caption>\n",
       "<tr>\n",
       "  <th>Dep. Variable:</th>      <td>WNV Present</td>   <th>  No. Observations:  </th>  <td> 18495</td> \n",
       "</tr>\n",
       "<tr>\n",
       "  <th>Model:</th>                 <td>Logit</td>      <th>  Df Residuals:      </th>  <td> 18482</td> \n",
       "</tr>\n",
       "<tr>\n",
       "  <th>Method:</th>                 <td>MLE</td>       <th>  Df Model:          </th>  <td>    12</td> \n",
       "</tr>\n",
       "<tr>\n",
       "  <th>Date:</th>            <td>Mon, 09 Aug 2021</td> <th>  Pseudo R-squ.:     </th>  <td>0.2901</td> \n",
       "</tr>\n",
       "<tr>\n",
       "  <th>Time:</th>                <td>19:53:43</td>     <th>  Log-Likelihood:    </th> <td> -6850.3</td>\n",
       "</tr>\n",
       "<tr>\n",
       "  <th>converged:</th>             <td>False</td>      <th>  LL-Null:           </th> <td> -9649.5</td>\n",
       "</tr>\n",
       "<tr>\n",
       "  <th>Covariance Type:</th>     <td>nonrobust</td>    <th>  LLR p-value:       </th>  <td> 0.000</td> \n",
       "</tr>\n",
       "</table>\n",
       "<table class=\"simpletable\">\n",
       "<tr>\n",
       "             <td></td>                <th>coef</th>     <th>std err</th>      <th>z</th>      <th>P>|z|</th>  <th>[0.025</th>    <th>0.975]</th>  \n",
       "</tr>\n",
       "<tr>\n",
       "  <th>const</th>                   <td> -574.0507</td> <td>   26.244</td> <td>  -21.874</td> <td> 0.000</td> <td> -625.488</td> <td> -522.614</td>\n",
       "</tr>\n",
       "<tr>\n",
       "  <th>Year</th>                    <td>    0.1237</td> <td>    0.007</td> <td>   17.707</td> <td> 0.000</td> <td>    0.110</td> <td>    0.137</td>\n",
       "</tr>\n",
       "<tr>\n",
       "  <th>Mosquito number</th>         <td>    0.0680</td> <td>    0.002</td> <td>   43.020</td> <td> 0.000</td> <td>    0.065</td> <td>    0.071</td>\n",
       "</tr>\n",
       "<tr>\n",
       "  <th>Lat</th>                     <td>   -0.7723</td> <td>    0.297</td> <td>   -2.604</td> <td> 0.009</td> <td>   -1.353</td> <td>   -0.191</td>\n",
       "</tr>\n",
       "<tr>\n",
       "  <th>Lon</th>                     <td>   -3.9552</td> <td>    0.349</td> <td>  -11.334</td> <td> 0.000</td> <td>   -4.639</td> <td>   -3.271</td>\n",
       "</tr>\n",
       "<tr>\n",
       "  <th>Trap type_GRAVID</th>        <td>    0.2650</td> <td>    0.138</td> <td>    1.926</td> <td> 0.054</td> <td>   -0.005</td> <td>    0.535</td>\n",
       "</tr>\n",
       "<tr>\n",
       "  <th>Trap type_OVI</th>           <td>  -11.1220</td> <td> 6682.078</td> <td>   -0.002</td> <td> 0.999</td> <td>-1.31e+04</td> <td> 1.31e+04</td>\n",
       "</tr>\n",
       "<tr>\n",
       "  <th>Trap type_SENTINEL</th>      <td>   -0.2750</td> <td>    0.223</td> <td>   -1.231</td> <td> 0.218</td> <td>   -0.713</td> <td>    0.163</td>\n",
       "</tr>\n",
       "<tr>\n",
       "  <th>Species_CULEX PIPIENS</th>   <td>    1.0406</td> <td>    0.327</td> <td>    3.181</td> <td> 0.001</td> <td>    0.400</td> <td>    1.682</td>\n",
       "</tr>\n",
       "<tr>\n",
       "  <th>Species_CULEX RESTUANS</th>  <td>    0.8890</td> <td>    0.327</td> <td>    2.722</td> <td> 0.006</td> <td>    0.249</td> <td>    1.529</td>\n",
       "</tr>\n",
       "<tr>\n",
       "  <th>Species_CULEX TERRITANS</th> <td>   -1.3407</td> <td>    0.424</td> <td>   -3.163</td> <td> 0.002</td> <td>   -2.171</td> <td>   -0.510</td>\n",
       "</tr>\n",
       "<tr>\n",
       "  <th>Month_cos</th>               <td>   -3.3889</td> <td>    0.149</td> <td>  -22.700</td> <td> 0.000</td> <td>   -3.681</td> <td>   -3.096</td>\n",
       "</tr>\n",
       "<tr>\n",
       "  <th>Month_sin</th>               <td>   -7.0518</td> <td>    0.218</td> <td>  -32.282</td> <td> 0.000</td> <td>   -7.480</td> <td>   -6.624</td>\n",
       "</tr>\n",
       "</table>"
      ],
      "text/plain": [
       "<class 'statsmodels.iolib.summary.Summary'>\n",
       "\"\"\"\n",
       "                           Logit Regression Results                           \n",
       "==============================================================================\n",
       "Dep. Variable:            WNV Present   No. Observations:                18495\n",
       "Model:                          Logit   Df Residuals:                    18482\n",
       "Method:                           MLE   Df Model:                           12\n",
       "Date:                Mon, 09 Aug 2021   Pseudo R-squ.:                  0.2901\n",
       "Time:                        19:53:43   Log-Likelihood:                -6850.3\n",
       "converged:                      False   LL-Null:                       -9649.5\n",
       "Covariance Type:            nonrobust   LLR p-value:                     0.000\n",
       "===========================================================================================\n",
       "                              coef    std err          z      P>|z|      [0.025      0.975]\n",
       "-------------------------------------------------------------------------------------------\n",
       "const                    -574.0507     26.244    -21.874      0.000    -625.488    -522.614\n",
       "Year                        0.1237      0.007     17.707      0.000       0.110       0.137\n",
       "Mosquito number             0.0680      0.002     43.020      0.000       0.065       0.071\n",
       "Lat                        -0.7723      0.297     -2.604      0.009      -1.353      -0.191\n",
       "Lon                        -3.9552      0.349    -11.334      0.000      -4.639      -3.271\n",
       "Trap type_GRAVID            0.2650      0.138      1.926      0.054      -0.005       0.535\n",
       "Trap type_OVI             -11.1220   6682.078     -0.002      0.999   -1.31e+04    1.31e+04\n",
       "Trap type_SENTINEL         -0.2750      0.223     -1.231      0.218      -0.713       0.163\n",
       "Species_CULEX PIPIENS       1.0406      0.327      3.181      0.001       0.400       1.682\n",
       "Species_CULEX RESTUANS      0.8890      0.327      2.722      0.006       0.249       1.529\n",
       "Species_CULEX TERRITANS    -1.3407      0.424     -3.163      0.002      -2.171      -0.510\n",
       "Month_cos                  -3.3889      0.149    -22.700      0.000      -3.681      -3.096\n",
       "Month_sin                  -7.0518      0.218    -32.282      0.000      -7.480      -6.624\n",
       "===========================================================================================\n",
       "\"\"\""
      ]
     },
     "metadata": {},
     "output_type": "display_data"
    }
   ],
   "source": [
    "x_vals_logis = df_numeric.drop(columns=[\"WNV Present\", \"Month\"])\n",
    "x_vals_logis_const = sm.add_constant(x_vals_logis)\n",
    "y_vals_logis = df_numeric[\"WNV Present\"]\n",
    "\n",
    "WNV_logistic_r = sm.Logit(y_vals_logis, x_vals_logis_const)\n",
    "WNV_logistic_r = WNV_logistic_r.fit()\n",
    "display(WNV_logistic_r.summary())"
   ]
  },
  {
   "cell_type": "markdown",
   "id": "edc355bd-d4f1-4c75-9c9f-0dc7b85a67e9",
   "metadata": {},
   "source": [
    "This model returned p values of less than 0.05 for all variables except the trap types. The training data will now be run against the model to get a rough estimate of the model's accuracy."
   ]
  },
  {
   "cell_type": "code",
   "execution_count": 24,
   "id": "9402f2a9-576c-48d1-8e00-aee0ec1b9f66",
   "metadata": {},
   "outputs": [
    {
     "name": "stdout",
     "output_type": "stream",
     "text": [
      "The model accuracy is 83.04%\n"
     ]
    }
   ],
   "source": [
    "# soft predictions, the probability of getting the deposit\n",
    "y_vals_predicted = WNV_logistic_r.predict(x_vals_logis_const)\n",
    "y_vals_bool = np.where(y_vals_predicted >= 0.5, 1, 0)\n",
    "num_correct = (y_vals_bool == y_vals_logis).sum()\n",
    "accuracy = num_correct / y_pred.shape[0] * 100\n",
    "print(f\"The model accuracy is {round(accuracy,2)}%\")"
   ]
  },
  {
   "cell_type": "markdown",
   "id": "1a17cf12-5bc0-4dac-80a6-2089dac598ca",
   "metadata": {},
   "source": [
    "| Model | Accuracy |\n",
    "| --- | --- |\n",
    "| Model v1 | 83.04% |"
   ]
  },
  {
   "cell_type": "markdown",
   "id": "df3e39b9-266d-46d0-9d6c-e20f30846d16",
   "metadata": {},
   "source": [
    "An accuracy of 83.04% is obtained for the first version of the model. In order to attempt to improve the model, all of the trap types will be dropped from the model."
   ]
  },
  {
   "cell_type": "code",
   "execution_count": 25,
   "id": "24f3b188-06b8-4b08-b3b0-dfc525221fa4",
   "metadata": {},
   "outputs": [
    {
     "name": "stdout",
     "output_type": "stream",
     "text": [
      "Optimization terminated successfully.\n",
      "         Current function value: 0.370737\n",
      "         Iterations 9\n",
      "The model accuracy is 82.92%\n"
     ]
    }
   ],
   "source": [
    "x_vals_logis = df_numeric.drop(columns=[\"WNV Present\", \"Month\", \"Trap type_GRAVID\", \"Trap type_OVI\", \"Trap type_SENTINEL\"])\n",
    "x_vals_logis_const = sm.add_constant(x_vals_logis)\n",
    "y_vals_logis = df_numeric[\"WNV Present\"]\n",
    "\n",
    "WNV_logistic_r = sm.Logit(y_vals_logis, x_vals_logis_const)\n",
    "WNV_logistic_r = WNV_logistic_r.fit()\n",
    "\n",
    "y_proba = WNV_logistic_r.predict(x_vals_logis_const)\n",
    "y_pred = np.where(y_proba >= 0.5, 1, 0)\n",
    "num_correct = (y_pred == y_vals_logis).sum()\n",
    "accuracy = num_correct / y_pred.shape[0] * 100\n",
    "print(f\"The model accuracy is {round(accuracy,2)}%\")"
   ]
  },
  {
   "cell_type": "markdown",
   "id": "42948409-52b6-4d04-9d97-0a496b261534",
   "metadata": {},
   "source": [
    "| Model | Accuracy |\n",
    "| --- | --- |\n",
    "| Model v1 | 83.04% |\n",
    "| Model v2 | 82.92% |"
   ]
  },
  {
   "cell_type": "markdown",
   "id": "252c5c2a-2aaf-44b2-8419-7b574c8bfa2a",
   "metadata": {},
   "source": [
    "A slight loss in accuracy is observed when the trap types are removed. Thus, trap types will be retained in the model.  \n",
    "The longitude and latitude have a high degree of clinearity. Therefore, I will also try dropping the longitude and latitude from the model in seperate experiments, denoted as models 3a and 3b, respectively."
   ]
  },
  {
   "cell_type": "code",
   "execution_count": 26,
   "id": "4688d3ba-6110-4209-a6ed-62cf0d288704",
   "metadata": {},
   "outputs": [
    {
     "name": "stdout",
     "output_type": "stream",
     "text": [
      "Warning: Maximum number of iterations has been exceeded.\n",
      "         Current function value: 0.373923\n",
      "         Iterations: 35\n",
      "The model accuracy w/o Lon is 82.68%\n",
      "Warning: Maximum number of iterations has been exceeded.\n",
      "         Current function value: 0.370570\n",
      "         Iterations: 35\n",
      "The model accuracy w/o Lat is 82.95%\n"
     ]
    },
    {
     "name": "stderr",
     "output_type": "stream",
     "text": [
      "C:\\Users\\Daniel\\anaconda3\\lib\\site-packages\\statsmodels\\base\\model.py:566: ConvergenceWarning: Maximum Likelihood optimization failed to converge. Check mle_retvals\n",
      "  warnings.warn(\"Maximum Likelihood optimization failed to \"\n",
      "C:\\Users\\Daniel\\anaconda3\\lib\\site-packages\\statsmodels\\base\\model.py:566: ConvergenceWarning: Maximum Likelihood optimization failed to converge. Check mle_retvals\n",
      "  warnings.warn(\"Maximum Likelihood optimization failed to \"\n"
     ]
    }
   ],
   "source": [
    "x_vals_logis = df_numeric.drop(columns=[\"WNV Present\", \"Month\", \"Lon\"])\n",
    "x_vals_logis_const = sm.add_constant(x_vals_logis)\n",
    "y_vals_logis = df_numeric[\"WNV Present\"]\n",
    "\n",
    "WNV_logistic_r = sm.Logit(y_vals_logis, x_vals_logis_const)\n",
    "WNV_logistic_r = WNV_logistic_r.fit()\n",
    "\n",
    "y_proba = WNV_logistic_r.predict(x_vals_logis_const)\n",
    "y_pred = np.where(y_proba >= 0.5, 1, 0)\n",
    "num_correct = (y_pred == y_vals_logis).sum()\n",
    "accuracy = num_correct / y_pred.shape[0] * 100\n",
    "print(f\"The model accuracy w/o Lon is {round(accuracy,2)}%\")\n",
    "\n",
    "x_vals_logis = df_numeric.drop(columns=[\"WNV Present\", \"Month\", \"Lat\"])\n",
    "x_vals_logis_const = sm.add_constant(x_vals_logis)\n",
    "y_vals_logis = df_numeric[\"WNV Present\"]\n",
    "\n",
    "WNV_logistic_r = sm.Logit(y_vals_logis, x_vals_logis_const)\n",
    "WNV_logistic_r = WNV_logistic_r.fit()\n",
    "\n",
    "y_proba = WNV_logistic_r.predict(x_vals_logis_const)\n",
    "y_pred = np.where(y_proba >= 0.5, 1, 0)\n",
    "num_correct = (y_pred == y_vals_logis).sum()\n",
    "accuracy = num_correct / y_pred.shape[0] * 100\n",
    "print(f\"The model accuracy w/o Lat is {round(accuracy,2)}%\")"
   ]
  },
  {
   "cell_type": "markdown",
   "id": "3c96e932-8a80-45a1-8f8d-67f4a167f1cf",
   "metadata": {},
   "source": [
    "| Model | Accuracy |\n",
    "| --- | --- |\n",
    "| Model v1 | 83.04% |\n",
    "| Model v2 | 82.92% |\n",
    "| Model v3a | 82.68% |\n",
    "| Model v3b | 82.95% |"
   ]
  },
  {
   "cell_type": "markdown",
   "id": "177e0018-3948-440b-b0cd-e8924e24e374",
   "metadata": {},
   "source": [
    "Removing the longitude and latitude also failed to improve the model. Thus, the 1st version of the model is the most accurate version of the model produced and will be used for predicting the likelyhood of finding WNV."
   ]
  }
 ],
 "metadata": {
  "kernelspec": {
   "display_name": "Python 3",
   "language": "python",
   "name": "python3"
  },
  "language_info": {
   "codemirror_mode": {
    "name": "ipython",
    "version": 3
   },
   "file_extension": ".py",
   "mimetype": "text/x-python",
   "name": "python",
   "nbconvert_exporter": "python",
   "pygments_lexer": "ipython3",
   "version": "3.8.8"
  }
 },
 "nbformat": 4,
 "nbformat_minor": 5
}
